{
 "cells": [
  {
   "cell_type": "markdown",
   "metadata": {},
   "source": [
    "# Machine Learning Engineer Nanodegree\n",
    "## Supervised Learning\n",
    "## Project: Building a Student Intervention System"
   ]
  },
  {
   "cell_type": "markdown",
   "metadata": {},
   "source": [
    "Welcome to the second project of the Machine Learning Engineer Nanodegree! In this notebook, some template code has already been provided for you, and it will be your job to implement the additional functionality necessary to successfully complete this project. Sections that begin with **'Implementation'** in the header indicate that the following block of code will require additional functionality which you must provide. Instructions will be provided for each section and the specifics of the implementation are marked in the code block with a `'TODO'` statement. Please be sure to read the instructions carefully!\n",
    "\n",
    "In addition to implementing code, there will be questions that you must answer which relate to the project and your implementation. Each section where you will answer a question is preceded by a **'Question X'** header. Carefully read each question and provide thorough answers in the following text boxes that begin with **'Answer:'**. Your project submission will be evaluated based on your answers to each of the questions and the implementation you provide.  \n",
    "\n",
    ">**Note:** Code and Markdown cells can be executed using the **Shift + Enter** keyboard shortcut. In addition, Markdown cells can be edited by typically double-clicking the cell to enter edit mode."
   ]
  },
  {
   "cell_type": "markdown",
   "metadata": {},
   "source": [
    "### Question 1 - Classification vs. Regression\n",
    "*Your goal for this project is to identify students who might need early intervention before they fail to graduate. Which type of supervised learning problem is this, classification or regression? Why?*"
   ]
  },
  {
   "cell_type": "markdown",
   "metadata": {},
   "source": [
    "**Answer: **\n",
    "<p>The objective is to find a yes or no answer, whether a student is likely to fail and hence need intervention: Yes or No. We have labeled data. This is clearly a Binary Classification problem of Supervised Learning.</p> <p>We are not after a target of continous values hence its not a Regression Problem, however if we were asked to get a probability if a student will pass or fail, then the  probability would have a continuos value, the problem will become a Regression problem,  </sub></p>"
   ]
  },
  {
   "cell_type": "markdown",
   "metadata": {},
   "source": [
    "## Exploring the Data\n",
    "Run the code cell below to load necessary Python libraries and load the student data. Note that the last column from this dataset, `'passed'`, will be our target label (whether the student graduated or didn't graduate). All other columns are features about each student."
   ]
  },
  {
   "cell_type": "code",
   "execution_count": 66,
   "metadata": {
    "collapsed": false
   },
   "outputs": [
    {
     "name": "stdout",
     "output_type": "stream",
     "text": [
      "Student data read successfully!\n"
     ]
    }
   ],
   "source": [
    "# Import libraries\n",
    "import numpy as np\n",
    "import pandas as pd\n",
    "from time import time\n",
    "from IPython.display import Image\n",
    "from sklearn.metrics import f1_score\n",
    "import seaborn as sns\n",
    "%matplotlib inline\n",
    "\n",
    "# Read student data\n",
    "df = pd.read_csv(\"student-data.csv\")\n",
    "df_for_analysis=df.copy(deep=True)\n",
    "print \"Student data read successfully!\""
   ]
  },
  {
   "cell_type": "code",
   "execution_count": 374,
   "metadata": {
    "collapsed": false
   },
   "outputs": [],
   "source": [
    "#df.head(2)"
   ]
  },
  {
   "cell_type": "markdown",
   "metadata": {},
   "source": [
    "### Implementation: Data Exploration\n",
    "Let's begin by investigating the dataset to determine how many students we have information on, and learn about the graduation rate among these students. In the code cell below, you will need to compute the following:\n",
    "- The total number of students, `n_students`.\n",
    "- The total number of features for each student, `n_features`.\n",
    "- The number of those students who passed, `n_passed`.\n",
    "- The number of those students who failed, `n_failed`.\n",
    "- The graduation rate of the class, `grad_rate`, in percent (%).\n"
   ]
  },
  {
   "cell_type": "code",
   "execution_count": 2,
   "metadata": {
    "collapsed": false
   },
   "outputs": [
    {
     "name": "stdout",
     "output_type": "stream",
     "text": [
      "Total number of students: 395\n",
      "Number of features: 30\n",
      "Number of students who passed: 265\n",
      "Number of students who failed: 130\n",
      "Graduation rate of the class: 67.09%\n"
     ]
    },
    {
     "data": {
      "text/plain": [
       "<matplotlib.axes._subplots.AxesSubplot at 0x10f17d750>"
      ]
     },
     "execution_count": 2,
     "metadata": {},
     "output_type": "execute_result"
    },
    {
     "data": {
      "image/png": "[encoded data removed]",
      "text/plain": [
       "<matplotlib.figure.Figure at 0x10f123d90>"
      ]
     },
     "metadata": {},
     "output_type": "display_data"
    }
   ],
   "source": [
    "# TODO: Calculate number of students\n",
    "n_students = len(df)\n",
    "\n",
    "# TODO: Calculate number of features\n",
    "n_features = df.shape[1] -1\n",
    "\n",
    "# TODO: Calculate passing students\n",
    "n_passed = len(df[df.passed=='yes'])\n",
    "\n",
    "# TODO: Calculate failing students\n",
    "n_failed = len(df[df.passed=='no'])\n",
    "\n",
    "# TODO: Calculate graduation rate\n",
    "grad_rate = (n_passed/float(n_students))*100.\n",
    "\n",
    "# Print the results\n",
    "print \"Total number of students: {}\".format(n_students)\n",
    "print \"Number of features: {}\".format(n_features)\n",
    "print \"Number of students who passed: {}\".format(n_passed)\n",
    "print \"Number of students who failed: {}\".format(n_failed)\n",
    "print \"Graduation rate of the class: {:.2f}%\".format(grad_rate)\n",
    "sns.countplot(x='passed', data=df)"
   ]
  },
  {
   "cell_type": "markdown",
   "metadata": {},
   "source": [
    "## Data Analysis\n",
    "<ul>\n",
    "<li>This data set has 30 features and comparatively lesser no# of data: 395\n",
    "<li>With out any Estimator we can predict 67% student dont need any intervention as they will pass\n",
    "\n",
    "</ul>"
   ]
  },
  {
   "cell_type": "code",
   "execution_count": 29,
   "metadata": {
    "collapsed": false
   },
   "outputs": [],
   "source": [
    "df_for_analysis['p2']=df_for_analysis['passed'].apply(lambda x: 1 if x=='yes' else 0)\n",
    "df_for_analysis['Sc2']=df_for_analysis['school'].apply(lambda x: 1 if x=='GP' else 0)"
   ]
  },
  {
   "cell_type": "code",
   "execution_count": 30,
   "metadata": {
    "collapsed": false
   },
   "outputs": [
    {
     "data": {
      "text/plain": [
       "<matplotlib.axes._subplots.AxesSubplot at 0x1184c0450>"
      ]
     },
     "execution_count": 30,
     "metadata": {},
     "output_type": "execute_result"
    },
    {
     "data": {
      "image/png": "[encoded data removed]",
      "text/plain": [
       "<matplotlib.figure.Figure at 0x1187f5dd0>"
      ]
     },
     "metadata": {},
     "output_type": "display_data"
    }
   ],
   "source": [
    "import matplotlib.pyplot as plt\n",
    "f, ax = plt.subplots(figsize=(12, 9))\n",
    "corr = df_for_analysis.corr()\n",
    "sns.heatmap(corr, \n",
    "            xticklabels=corr.columns.values,\n",
    "            yticklabels=corr.columns.values)"
   ]
  },
  {
   "cell_type": "markdown",
   "metadata": {},
   "source": [
    "***There is co relation between past Failures, age and gout***\n",
    "From the Co relation plots and plots below seems past failures are good indicator that a student is more likely to fail and may need intervention"
   ]
  },
  {
   "cell_type": "code",
   "execution_count": 28,
   "metadata": {
    "collapsed": false
   },
   "outputs": [
    {
     "data": {
      "text/plain": [
       "<seaborn.axisgrid.PairGrid at 0x117263850>"
      ]
     },
     "execution_count": 28,
     "metadata": {},
     "output_type": "execute_result"
    },
    {
     "data": {
      "image/png": "[encoded data removed]",
      "text/plain": [
       "<matplotlib.figure.Figure at 0x117263c50>"
      ]
     },
     "metadata": {},
     "output_type": "display_data"
    }
   ],
   "source": [
    "sns.pairplot(data=df_for_analysis, vars=['failures','age','studytime','goout'],hue='p2',kind='reg')"
   ]
  },
  {
   "cell_type": "markdown",
   "metadata": {},
   "source": [
    "## Preparing the Data\n",
    "In this section, we will prepare the data for modeling, training and testing.\n",
    "\n",
    "### Identify feature and target columns\n",
    "It is often the case that the data you obtain contains non-numeric features. This can be a problem, as most machine learning algorithms expect numeric data to perform computations with.\n",
    "\n",
    "Run the code cell below to separate the student data into feature and target columns to see if any features are non-numeric."
   ]
  },
  {
   "cell_type": "code",
   "execution_count": 32,
   "metadata": {
    "collapsed": false
   },
   "outputs": [
    {
     "name": "stdout",
     "output_type": "stream",
     "text": [
      "Feature columns:\n",
      "['school', 'sex', 'age', 'address', 'famsize', 'Pstatus', 'Medu', 'Fedu', 'Mjob', 'Fjob', 'reason', 'guardian', 'traveltime', 'studytime', 'failures', 'schoolsup', 'famsup', 'paid', 'activities', 'nursery', 'higher', 'internet', 'romantic', 'famrel', 'freetime', 'goout', 'Dalc', 'Walc', 'health', 'absences']\n",
      "\n",
      "Target column: passed\n",
      "\n",
      "Feature values:\n",
      "  school sex  age address famsize Pstatus  Medu  Fedu     Mjob      Fjob  \\\n",
      "0     GP   F   18       U     GT3       A     4     4  at_home   teacher   \n",
      "1     GP   F   17       U     GT3       T     1     1  at_home     other   \n",
      "2     GP   F   15       U     LE3       T     1     1  at_home     other   \n",
      "3     GP   F   15       U     GT3       T     4     2   health  services   \n",
      "4     GP   F   16       U     GT3       T     3     3    other     other   \n",
      "\n",
      "    ...    higher internet  romantic  famrel  freetime goout Dalc Walc health  \\\n",
      "0   ...       yes       no        no       4         3     4    1    1      3   \n",
      "1   ...       yes      yes        no       5         3     3    1    1      3   \n",
      "2   ...       yes      yes        no       4         3     2    2    3      3   \n",
      "3   ...       yes      yes       yes       3         2     2    1    1      5   \n",
      "4   ...       yes       no        no       4         3     2    1    2      5   \n",
      "\n",
      "  absences  \n",
      "0        6  \n",
      "1        4  \n",
      "2       10  \n",
      "3        2  \n",
      "4        4  \n",
      "\n",
      "[5 rows x 30 columns]\n"
     ]
    }
   ],
   "source": [
    "# Extract feature columns\n",
    "feature_cols = list(df.columns[:-1])\n",
    "\n",
    "# Extract target column 'passed'\n",
    "target_col = df.columns[-1] \n",
    "\n",
    "# Show the list of columns\n",
    "print \"Feature columns:\\n{}\".format(feature_cols)\n",
    "print \"\\nTarget column: {}\".format(target_col)\n",
    "\n",
    "# Separate the data into feature data and target data (X_all and y_all, respectively)\n",
    "X_all = df[feature_cols]\n",
    "y_all = df[target_col]\n",
    "\n",
    "# Show the feature information by printing the first five rows\n",
    "print \"\\nFeature values:\"\n",
    "print X_all.head()"
   ]
  },
  {
   "cell_type": "markdown",
   "metadata": {},
   "source": [
    "### Preprocess Feature Columns\n",
    "\n",
    "As you can see, there are several non-numeric columns that need to be converted! Many of them are simply `yes`/`no`, e.g. `internet`. These can be reasonably converted into `1`/`0` (binary) values.\n",
    "\n",
    "Other columns, like `Mjob` and `Fjob`, have more than two values, and are known as _categorical variables_. The recommended way to handle such a column is to create as many columns as possible values (e.g. `Fjob_teacher`, `Fjob_other`, `Fjob_services`, etc.), and assign a `1` to one of them and `0` to all others.\n",
    "\n",
    "These generated columns are sometimes called _dummy variables_, and we will use the [`pandas.get_dummies()`](http://pandas.pydata.org/pandas-docs/stable/generated/pandas.get_dummies.html?highlight=get_dummies#pandas.get_dummies) function to perform this transformation. Run the code cell below to perform the preprocessing routine discussed in this section."
   ]
  },
  {
   "cell_type": "code",
   "execution_count": 33,
   "metadata": {
    "collapsed": false
   },
   "outputs": [
    {
     "name": "stdout",
     "output_type": "stream",
     "text": [
      "Processed feature columns (48 total features):\n",
      "['school_GP', 'school_MS', 'sex_F', 'sex_M', 'age', 'address_R', 'address_U', 'famsize_GT3', 'famsize_LE3', 'Pstatus_A', 'Pstatus_T', 'Medu', 'Fedu', 'Mjob_at_home', 'Mjob_health', 'Mjob_other', 'Mjob_services', 'Mjob_teacher', 'Fjob_at_home', 'Fjob_health', 'Fjob_other', 'Fjob_services', 'Fjob_teacher', 'reason_course', 'reason_home', 'reason_other', 'reason_reputation', 'guardian_father', 'guardian_mother', 'guardian_other', 'traveltime', 'studytime', 'failures', 'schoolsup', 'famsup', 'paid', 'activities', 'nursery', 'higher', 'internet', 'romantic', 'famrel', 'freetime', 'goout', 'Dalc', 'Walc', 'health', 'absences']\n"
     ]
    }
   ],
   "source": [
    "def preprocess_features(X):\n",
    "    ''' Preprocesses the student data and converts non-numeric binary variables into\n",
    "        binary (0/1) variables. Converts categorical variables into dummy variables. '''\n",
    "    \n",
    "    # Initialize new output DataFrame\n",
    "    output = pd.DataFrame(index = X.index)\n",
    "\n",
    "    # Investigate each feature column for the data\n",
    "    for col, col_data in X.iteritems():\n",
    "        \n",
    "        # If data type is non-numeric, replace all yes/no values with 1/0\n",
    "        if col_data.dtype == object:\n",
    "            col_data = col_data.replace(['yes', 'no'], [1, 0])\n",
    "\n",
    "        # If data type is categorical, convert to dummy variables\n",
    "        if col_data.dtype == object:\n",
    "            # Example: 'school' => 'school_GP' and 'school_MS'\n",
    "            col_data = pd.get_dummies(col_data, prefix = col)  \n",
    "        \n",
    "        # Collect the revised columns\n",
    "        output = output.join(col_data)\n",
    "    \n",
    "    return output\n",
    "\n",
    "X_all = preprocess_features(X_all)\n",
    "print \"Processed feature columns ({} total features):\\n{}\".format(len(X_all.columns), list(X_all.columns))"
   ]
  },
  {
   "cell_type": "code",
   "execution_count": 34,
   "metadata": {
    "collapsed": false
   },
   "outputs": [
    {
     "name": "stdout",
     "output_type": "stream",
     "text": [
      "(395, 48)\n"
     ]
    }
   ],
   "source": [
    "# Tree based Feature Selection to compute Feature Importance\n",
    "from sklearn.ensemble import ExtraTreesClassifier\n",
    "from sklearn.feature_selection import SelectFromModel\n",
    "from IPython.display import display\n",
    "print(X_all.shape)\n",
    "clf_features_sel=ExtraTreesClassifier()\n",
    "clf_features_sel.fit(X_all, y_all)\n",
    "feature_importance=pd.DataFrame()\n",
    "feature_importance['Feature']=list(X_all.columns)\n",
    "feature_importance['Importance']=clf_features_sel.feature_importances_\n",
    "#print(zip(clf_features_sel.feature_importances_,list(X_all.columns)))\n",
    "#display(feature_importance.sort_values(by='Importance',ascending=False))"
   ]
  },
  {
   "cell_type": "markdown",
   "metadata": {},
   "source": [
    "### Implementation: Training and Testing Data Split\n",
    "So far, we have converted all _categorical_ features into numeric values. For the next step, we split the data (both features and corresponding labels) into training and test sets. In the following code cell below, you will need to implement the following:\n",
    "- Randomly shuffle and split the data (`X_all`, `y_all`) into training and testing subsets.\n",
    "  - Use 300 training points (approximately 75%) and 95 testing points (approximately 25%).\n",
    "  - Set a `random_state` for the function(s) you use, if provided.\n",
    "  - Store the results in `X_train`, `X_test`, `y_train`, and `y_test`."
   ]
  },
  {
   "cell_type": "code",
   "execution_count": 35,
   "metadata": {
    "collapsed": false
   },
   "outputs": [
    {
     "name": "stdout",
     "output_type": "stream",
     "text": [
      "StratifiedShuffleSplit(n_splits=10, random_state=3, test_size=95,\n",
      "            train_size=300)\n",
      "Training set has 300 samples.\n",
      "Testing set has 95 samples.\n"
     ]
    }
   ],
   "source": [
    "# Trying out Startified ShuffleSplit \n",
    "from sklearn.model_selection import StratifiedShuffleSplit\n",
    "# TODO: Set the number of training points\n",
    "num_train = 300\n",
    "\n",
    "# Set the number of testing points\n",
    "num_test = X_all.shape[0] - num_train\n",
    "\n",
    "# using Shufflesplit to get Train/Test sets\n",
    "ss=StratifiedShuffleSplit(test_size=num_test,train_size=num_train,random_state=3) \n",
    "ss.get_n_splits(X_all)\n",
    "print(ss)\n",
    "for train_index, test_index in ss.split(X_all,y_all):\n",
    "    #print(\"train:\", train_index, \"Test:\",test_index)\n",
    "    X_train=X_all.ix[train_index]\n",
    "    X_test=X_all.ix[test_index]\n",
    "    y_train=y_all.ix[train_index]\n",
    "    y_test=y_all.ix[test_index]\n",
    " \n",
    "\n",
    "# Show the results of the split\n",
    "print \"Training set has {} samples.\".format(X_train.shape[0])\n",
    "print \"Testing set has {} samples.\".format(X_test.shape[0])"
   ]
  },
  {
   "cell_type": "markdown",
   "metadata": {},
   "source": [
    "## Training and Evaluating Models\n",
    "In this section, you will choose 3 supervised learning models that are appropriate for this problem and available in `scikit-learn`. You will first discuss the reasoning behind choosing these three models by considering what you know about the data and each model's strengths and weaknesses. You will then fit the model to varying sizes of training data (100 data points, 200 data points, and 300 data points) and measure the F<sub>1</sub> score. You will need to produce three tables (one for each model) that shows the training set size, training time, prediction time, F<sub>1</sub> score on the training set, and F<sub>1</sub> score on the testing set.\n",
    "\n",
    "**The following supervised learning models are currently available in** [`scikit-learn`](http://scikit-learn.org/stable/supervised_learning.html) **that you may choose from:**\n",
    "- Gaussian Naive Bayes (GaussianNB)\n",
    "- Decision Trees\n",
    "- Ensemble Methods (Bagging, AdaBoost, Random Forest, Gradient Boosting)\n",
    "- K-Nearest Neighbors (KNeighbors)\n",
    "- Stochastic Gradient Descent (SGDC)\n",
    "- Support Vector Machines (SVM)\n",
    "- Logistic Regression"
   ]
  },
  {
   "cell_type": "markdown",
   "metadata": {},
   "source": [
    "### Question 2 - Model Application\n",
    "*List three supervised learning models that are appropriate for this problem. For each model chosen*\n",
    "- Describe one real-world application in industry where the model can be applied. *(You may need to do a small bit of research for this — give references!)* \n",
    "- What are the strengths of the model; when does it perform well? \n",
    "- What are the weaknesses of the model; when does it perform poorly?\n",
    "- What makes this model a good candidate for the problem, given what you know about the data?"
   ]
  },
  {
   "cell_type": "markdown",
   "metadata": {},
   "source": [
    "**Answer: **\n",
    "<p>Before we delve into choice of Learning model, let's </p>\n",
    "***Reference***\n",
    "http://scikit-learn.org/stable/tutorial/machine_learning_map/\n",
    "\n",
    "<ol>\n",
    "<li> <b>Support Vector Machines (SVM):</b>\n",
    "\t<ul>\n",
    "\t\t<li><b>Real-world application in industry</b>\n",
    "        <p>Reference: https://en.wikipedia.org/wiki/Support_vector_machine</p>\n",
    "        <p>SVMs are helpful in text and hypertext categorization </p>\n",
    "        <p>handwritten character recognition </p>\n",
    "        <p>The SVM algorithm has been widely applied in Bio Sciences: Protien classification, Cancer Classification. They have been used to classify proteins with up to 90% of the compounds classified correctly</p>\n",
    "\t\t<p>Very useful in building models for Classification problems with small sample size </p>\n",
    "        <p></p></li>\n",
    "\t\t\n",
    "        <li><b>Strengths of the model</b>\n",
    "        <p>Reference: http://scikit-learn.org/stable/modules/svm.html#classification</p>\n",
    "\t\t\t<p>SVMs can operate on large feature set</p>\n",
    "            <p>Still effective in cases where number of dimensions is greater than the number of samples.</p>\n",
    "            <p>Uses a subset of training points in the decision function (called support vectors), so it is also memory efficient</p>\n",
    "            <p></p>\n",
    "        </li>\n",
    "\t\t<li><b>Weaknesses of the model</b>\n",
    "        <p>SVMs is not efficient on Large Data Set, though depends on the kernel the complexity of the model in N^3</p>\n",
    "        <p>performs poorly if the data has lots of noise</p>\n",
    "        <p>the classes overlaps with each other considerably, SVM .</p>\n",
    "        </li>\n",
    "        <p></p>\n",
    "\t\t<li><b>What makes this model a good candidate for the problem</b>\n",
    "        <p> We have a binary classification problem in hand with high dimentionality : 30 features and only 395 sample data. SVM works well on large feature set with less data. Hence SVM will be a good candiate for our model selection\n",
    "        </li>\n",
    "        <p></p>\n",
    "\t</ul>\n",
    "</li>\n",
    "\n",
    "<li> <b>K Nearest Neigbhor(KNN):</b>\n",
    "\t<ul>\n",
    "\t\t<li><b>Real-world application in industry</b>\n",
    "        <p>Reference: https://en.wikipedia.org/wiki/Support_vector_machine</p>\n",
    "        <p>Reference: https://www.quora.com/What-are-industry-applications-of-the-K-nearest-neighbor-algorithm</p>\n",
    "        <p>KNNs are helpful to find similarilty based on their Nearest neigbors.</p>\n",
    "        <p>Real life applications can be  Recommendation systems (Netflix/Amazon): To find similar items based on likes: compare set of users who liked one item, if similar set of users likes two different items, the items will be similar is the basic idea here.</p>\n",
    "        <p>KNN is used in text and hypertext categorization, example categorize books to genres based on their text</p>\n",
    "        <p></p></li>\n",
    "\t\t\n",
    "        <li><b>Strengths of the model</b>\n",
    "        <p>Reference: https://www.projectrhea.org/rhea/index.php/KNN-K_Nearest_Neighbor_OldKiwi</p>\n",
    "\t\t\t<p>KNNs are are simple , non parametric can operate on large feature set</p>\n",
    "            <p>it is simple and powerful in hands of an user knows the domian well.</p>\n",
    "            <p></p>\n",
    "         </li>\n",
    "\t\t<li><b>Weaknesses of the model</b>\n",
    "        <p>Data domain knowledge is important to determine right parameters for the model </p>\n",
    "        <p>Computation cost is higher since it calculates distance from all data points</p>\n",
    "        <p></p>\n",
    "        </li>\n",
    "\t\t<li><b>What makes this model a good candidate for the problem</b>\n",
    "        <p> In our case the we are trying to classify students likely to fail based on their similarity across a lot of features : past pefromance, family backround, access to utilities like internet etc. We have a relatively small no # of sample size, hence computation cost will not be a problem.\n",
    "        </li>\n",
    "        <p></p>\n",
    "\t</ul>\n",
    "</li>\n",
    "\n",
    "<li> <b>Ensemble Methods- Bagging with SVC:</b>\n",
    "\t<ul>\n",
    "\t\t<li><b>Real-world application in industry</b>\n",
    "            <p>Reference: https://www.quora.com/Can-you-give-some-specific-examples-of-Ensemble-Learning</p>\n",
    "            <p>Ensembles techniques combines multiple models to predict better </p>\n",
    "            <p>All most all practical ML may use Ensemble techniques </p>\n",
    "            <p>Ensembles are used in few well recognized Kaggle competetions </p>\n",
    "            <p></p>\n",
    "        </li>\n",
    "\t\t\n",
    "        <li><b>Strengths of the model</b>\n",
    "        <p>It reduces variance and improves the accuarcy of the resulting model </p>\n",
    "        <p></p>\n",
    "        </li>\n",
    "\t\t<li><b>Weaknesses of the model</b>\n",
    "        Reference:http://www.stat.cmu.edu/~ryantibs/datamining/lectures/24-bag.pdf\n",
    "        <p>Computationally Bagging is more costly than the base Model</p>\n",
    "        <p>The final model is difficult to interpret</p>\n",
    "        <p></p>\n",
    "        </li>\n",
    "\t\t<li><b>What makes this model a good candidate for the problem</b>\n",
    "        <p>In bagging multiple models trained on sample subset votes for a test data. Finally we choose the most voted class. Since overall bagging promises to increase accuracy of the resulting model, I will perefer to try this ensemble technique for our classification problem </p>\n",
    "        </li>\n",
    "        <p></p>\n",
    "\t</ul>\n",
    "</li>\n",
    "\n",
    "</ol>"
   ]
  },
  {
   "cell_type": "markdown",
   "metadata": {},
   "source": [
    "### Setup\n",
    "Run the code cell below to initialize three helper functions which you can use for training and testing the three supervised learning models you've chosen above. The functions are as follows:\n",
    "- `train_classifier` - takes as input a classifier and training data and fits the classifier to the data.\n",
    "- `predict_labels` - takes as input a fit classifier, features, and a target labeling and makes predictions using the F<sub>1</sub> score.\n",
    "- `train_predict` - takes as input a classifier, and the training and testing data, and performs `train_clasifier` and `predict_labels`.\n",
    " - This function will report the F<sub>1</sub> score for both the training and testing data separately."
   ]
  },
  {
   "cell_type": "code",
   "execution_count": 36,
   "metadata": {
    "collapsed": false
   },
   "outputs": [],
   "source": [
    "def train_classifier(clf, X_train, y_train):\n",
    "    ''' Fits a classifier to the training data. '''\n",
    "    \n",
    "    # Start the clock, train the classifier, then stop the clock\n",
    "    start = time()\n",
    "    clf.fit(X_train, y_train)\n",
    "    end = time()\n",
    "    \n",
    "    # Print the results\n",
    "    #print \"Trained model in {:.4f} seconds\".format(end - start)\n",
    "    return (round((end - start),5))\n",
    "\n",
    "    \n",
    "def predict_labels(clf, features, target):\n",
    "    ''' Makes predictions using a fit classifier based on F1 score. '''\n",
    "    \n",
    "    # Start the clock, make predictions, then stop the clock\n",
    "    start = time()\n",
    "    y_pred = clf.predict(features)\n",
    "    end = time()\n",
    "    \n",
    "    # Print and return results\n",
    "    #print \"Made predictions in {:.4f} seconds.\".format(end - start)\n",
    "    return [f1_score(target.values, y_pred, pos_label='yes'),round((end - start),5)]\n",
    "\n",
    "\n",
    "def train_predict(clf, X_train, y_train, X_test, y_test):\n",
    "    ''' Train and predict using a classifer based on F1 score. '''\n",
    "    \n",
    "    # Indicate the classifier and the training set size\n",
    "    #print \"Training a {} using a training set size of {}. . .\".format(clf.__class__.__name__, len(X_train))\n",
    "    # Train the classifier\n",
    "    #print \"Trained model in {:.4f} seconds\".format(train_classifier(clf, X_train, y_train))\n",
    "    classifier_name=clf.__class__.__name__\n",
    "    class_size=len(X_train)\n",
    "    dictKey=classifier_name +\"_\"+str(class_size)\n",
    "    \n",
    "    train_time=train_classifier(clf, X_train, y_train)\n",
    "    pred_time_test=predict_labels(clf, X_test, y_test)[1]\n",
    "    f1_score_train=predict_labels(clf, X_train, y_train)[0]\n",
    "    f1_score_test=predict_labels(clf, X_test, y_test)[0]\n",
    "    df_dict[dictKey]={'Training Time':train_time,'Prediction Time (test)':pred_time_test,'F1 Score (train)':f1_score_train,'F1 Score (test)':f1_score_test}\n",
    "    #print('Train Time: ',train_time, ' Pred Time: ',pred_time, 'f1_score :',f1_score)\n",
    "    #print(df_dict)\n",
    "    \n",
    "    #results=pd.DataFrame(df_dict).stack().unstack(0) # to Transpose the data\n",
    "    #results.head()\n",
    "    # Print the results of prediction for both training and testing\n",
    "    #print (\"F1 score for training set:\", predict_labels(clf, X_train, y_train)) #{:.4f}.\".format(predict_labels(clf, X_train, y_train))\n",
    "    #print (\"F1 score for test set:\",predict_labels(clf, X_test, y_test))# {:.4f}.\".format(predict_labels(clf, X_test, y_test))"
   ]
  },
  {
   "cell_type": "code",
   "execution_count": 271,
   "metadata": {
    "collapsed": true
   },
   "outputs": [],
   "source": [
    "#del df_dict,results"
   ]
  },
  {
   "cell_type": "markdown",
   "metadata": {},
   "source": [
    "### Implementation: Model Performance Metrics\n",
    "With the predefined functions above, you will now import the three supervised learning models of your choice and run the `train_predict` function for each one. Remember that you will need to train and predict on each classifier for three different training set sizes: 100, 200, and 300. Hence, you should expect to have 9 different outputs below — 3 for each model using the varying training set sizes. In the following code cell, you will need to implement the following:\n",
    "- Import the three supervised learning models you've discussed in the previous section.\n",
    "- Initialize the three models and store them in `clf_A`, `clf_B`, and `clf_C`.\n",
    " - Use a `random_state` for each model you use, if provided.\n",
    " - **Note:** Use the default settings for each model — you will tune one specific model in a later section.\n",
    "- Create the different training set sizes to be used to train each model.\n",
    " - *Do not reshuffle and resplit the data! The new training points should be drawn from `X_train` and `y_train`.*\n",
    "- Fit each model with each training set size and make predictions on the test set (9 in total).  \n",
    "**Note:** Three tables are provided after the following code cell which can be used to store your results."
   ]
  },
  {
   "cell_type": "code",
   "execution_count": 37,
   "metadata": {
    "collapsed": false
   },
   "outputs": [],
   "source": [
    "# TODO: Import the three supervised learning models from sklearn\n",
    "from sklearn.naive_bayes import GaussianNB\n",
    "from sklearn.tree import DecisionTreeClassifier\n",
    "from sklearn.neighbors import KNeighborsClassifier\n",
    "from sklearn.linear_model import SGDClassifier\n",
    "from sklearn.model_selection import RandomizedSearchCV\n",
    "from sklearn.model_selection import GridSearchCV\n",
    "from sklearn.svm import SVC\n",
    "from sklearn.linear_model import LogisticRegression\n",
    "from sklearn.ensemble import AdaBoostClassifier\n",
    "from sklearn.ensemble import GradientBoostingClassifier\n",
    "from sklearn.ensemble import RandomForestClassifier\n",
    "from sklearn.ensemble import BaggingClassifier\n",
    "\n",
    "# a Dictionary which holds the results\n",
    "df_dict={}\n",
    "# TODO: Initialize the three models\n",
    "clf_NB = GaussianNB()\n",
    "for i in np.arange(100,400,100):\n",
    "    #print i\n",
    "    train_predict(clf_NB, X_train.sample(n=i), y_train.sample(n=i), X_test, y_test)\n",
    "\n",
    "# DecisionTreeClassifier\n",
    "clf_DescisionTree = DecisionTreeClassifier(random_state=3)\n",
    "for i in np.arange(100,400,100):\n",
    "    train_predict(clf_DescisionTree, X_train.sample(n=i), y_train.sample(n=i), X_test, y_test)\n",
    "\n",
    "#Using Ensemble Bagging with SVC\n",
    "clf_EM_Bagging = BaggingClassifier(SVC(),max_samples=0.5, max_features=0.5,random_state=3)\n",
    "#clf_EM_Bagging = BaggingClassifier(LogisticRegression(),max_samples=0.5, max_features=0.5)\n",
    "for i in np.arange(100,400,100):\n",
    "    train_predict(clf_EM_Bagging, X_train.sample(n=i), y_train.sample(n=i), X_test, y_test)    \n",
    "\n",
    "#Using AdaBoosting\n",
    "clf_EM = AdaBoostClassifier(random_state=3)\n",
    "for i in np.arange(100,400,100):\n",
    "    train_predict(clf_EM, X_train.sample(n=i), y_train.sample(n=i), X_test, y_test)\n",
    "    \n",
    "# Using Gradient Boosting\n",
    "clf_GradBoost=GradientBoostingClassifier(n_estimators=100, learning_rate=1.0,max_depth=1, random_state=0)\n",
    "for i in np.arange(100,400,100):\n",
    "    train_predict(clf_GradBoost, X_train.sample(n=i), y_train.sample(n=i), X_test, y_test)\n",
    "\n",
    "# Using Random Forrest Classifier\n",
    "clf_randomF=RandomForestClassifier(random_state=3)\n",
    "for i in np.arange(100,400,100):\n",
    "    train_predict(clf_randomF, X_train.sample(n=i), y_train.sample(n=i), X_test, y_test)\n",
    "    \n",
    "# K Nearset Neighbours \n",
    "# construct the set of hyperparameters to tune\n",
    "#params = {\"n_neighbors\": np.arange(1, 26, 5),\n",
    "#\t\"metric\": [\"euclidean\", \"cityblock\"]}\n",
    "clf_KNN = KNeighborsClassifier()#n_neighbors= 25,metric= \"cityblock\"\n",
    "#clf_KNN_CV=RandomizedSearchCV(clf_KNN, params)\n",
    "for i in np.arange(100,400,100):\n",
    "    #print i\n",
    "    train_predict(clf_KNN, X_train.sample(n=i), y_train.sample(n=i), X_test, y_test)\n",
    "\n",
    "# Stochastic Gradient Decsent\n",
    "clf_StoGD = SGDClassifier() #, penalty=\"l2\",loss=\"modified_huber\"\n",
    "for i in np.arange(100,400,100):\n",
    "    train_predict(clf_StoGD, X_train.sample(n=i), y_train.sample(n=i), X_test, y_test)\n",
    "\n",
    "#Solution Vector Classifier\n",
    "# parameters = {'C':            np.arange( 1, 100+1, 1 ).tolist(),'kernel':['linear', 'rbf'],# precomputed,'poly', 'sigmoid'\n",
    "#     'degree':       np.arange( 0, 100+0, 1 ).tolist(),\n",
    "#     'gamma':        np.arange( 0.0, 10.0+0.0, 0.1 ).tolist(),\n",
    "#     'coef0':        np.arange( 0.0, 10.0+0.0, 0.1 ).tolist(),\n",
    "# }\n",
    "clf_svc = SVC(random_state=3)\n",
    "#clf_svc_CV=RandomizedSearchCV(clf_svc,parameters)\n",
    "for i in np.arange(100,400,100):\n",
    "    train_predict(clf_svc, X_train.sample(n=i), y_train.sample(n=i), X_test, y_test)\n",
    "#print(clf_svc_CV.best_estimator_)\n",
    "\n",
    "# Logistic Regression \n",
    "clf_LR = LogisticRegression(random_state=3)\n",
    "for i in np.arange(100,400,100):\n",
    "    train_predict(clf_LR, X_train.sample(n=i), y_train.sample(n=i), X_test, y_test)\n",
    "\n",
    "# TODO: Set up the training set sizes\n",
    "# TODO: Execute the 'train_predict' function for each classifier and each training set size\n"
   ]
  },
  {
   "cell_type": "code",
   "execution_count": 56,
   "metadata": {
    "collapsed": false
   },
   "outputs": [
    {
     "data": {
      "text/html": [
       "<div>\n",
       "<table border=\"1\" class=\"dataframe\">\n",
       "  <thead>\n",
       "    <tr style=\"text-align: right;\">\n",
       "      <th></th>\n",
       "      <th>F1 Score (test)</th>\n",
       "      <th>F1 Score (train)</th>\n",
       "      <th>Prediction Time (test)</th>\n",
       "      <th>Training Time</th>\n",
       "    </tr>\n",
       "  </thead>\n",
       "  <tbody>\n",
       "    <tr>\n",
       "      <th>AdaBoostClassifier_100</th>\n",
       "      <td>0.635659</td>\n",
       "      <td>0.895522</td>\n",
       "      <td>0.00351</td>\n",
       "      <td>0.09514</td>\n",
       "    </tr>\n",
       "    <tr>\n",
       "      <th>AdaBoostClassifier_200</th>\n",
       "      <td>0.732394</td>\n",
       "      <td>0.847458</td>\n",
       "      <td>0.00351</td>\n",
       "      <td>0.10168</td>\n",
       "    </tr>\n",
       "    <tr>\n",
       "      <th>AdaBoostClassifier_300</th>\n",
       "      <td>0.737589</td>\n",
       "      <td>0.813333</td>\n",
       "      <td>0.00369</td>\n",
       "      <td>0.10536</td>\n",
       "    </tr>\n",
       "    <tr>\n",
       "      <th>BaggingClassifier_100</th>\n",
       "      <td>0.805031</td>\n",
       "      <td>0.787879</td>\n",
       "      <td>0.00396</td>\n",
       "      <td>0.02233</td>\n",
       "    </tr>\n",
       "    <tr>\n",
       "      <th>BaggingClassifier_200</th>\n",
       "      <td>0.805031</td>\n",
       "      <td>0.801205</td>\n",
       "      <td>0.00459</td>\n",
       "      <td>0.02301</td>\n",
       "    </tr>\n",
       "    <tr>\n",
       "      <th>BaggingClassifier_300</th>\n",
       "      <td>0.805031</td>\n",
       "      <td>0.804000</td>\n",
       "      <td>0.00563</td>\n",
       "      <td>0.02668</td>\n",
       "    </tr>\n",
       "    <tr>\n",
       "      <th>DecisionTreeClassifier_100</th>\n",
       "      <td>0.616667</td>\n",
       "      <td>1.000000</td>\n",
       "      <td>0.00022</td>\n",
       "      <td>0.00082</td>\n",
       "    </tr>\n",
       "    <tr>\n",
       "      <th>DecisionTreeClassifier_200</th>\n",
       "      <td>0.734375</td>\n",
       "      <td>1.000000</td>\n",
       "      <td>0.00019</td>\n",
       "      <td>0.00123</td>\n",
       "    </tr>\n",
       "    <tr>\n",
       "      <th>DecisionTreeClassifier_300</th>\n",
       "      <td>0.676923</td>\n",
       "      <td>1.000000</td>\n",
       "      <td>0.00017</td>\n",
       "      <td>0.00173</td>\n",
       "    </tr>\n",
       "    <tr>\n",
       "      <th>GaussianNB_100</th>\n",
       "      <td>0.725926</td>\n",
       "      <td>0.855072</td>\n",
       "      <td>0.00032</td>\n",
       "      <td>0.00118</td>\n",
       "    </tr>\n",
       "    <tr>\n",
       "      <th>GaussianNB_200</th>\n",
       "      <td>0.115942</td>\n",
       "      <td>0.226667</td>\n",
       "      <td>0.00024</td>\n",
       "      <td>0.00081</td>\n",
       "    </tr>\n",
       "    <tr>\n",
       "      <th>GaussianNB_300</th>\n",
       "      <td>0.548673</td>\n",
       "      <td>0.730964</td>\n",
       "      <td>0.00025</td>\n",
       "      <td>0.00079</td>\n",
       "    </tr>\n",
       "    <tr>\n",
       "      <th>GradientBoostingClassifier_100</th>\n",
       "      <td>0.632479</td>\n",
       "      <td>0.984848</td>\n",
       "      <td>0.00039</td>\n",
       "      <td>0.01999</td>\n",
       "    </tr>\n",
       "    <tr>\n",
       "      <th>GradientBoostingClassifier_200</th>\n",
       "      <td>0.681818</td>\n",
       "      <td>0.875000</td>\n",
       "      <td>0.00037</td>\n",
       "      <td>0.02379</td>\n",
       "    </tr>\n",
       "    <tr>\n",
       "      <th>GradientBoostingClassifier_300</th>\n",
       "      <td>0.685714</td>\n",
       "      <td>0.849765</td>\n",
       "      <td>0.00039</td>\n",
       "      <td>0.02574</td>\n",
       "    </tr>\n",
       "    <tr>\n",
       "      <th>KNeighborsClassifier_100</th>\n",
       "      <td>0.713287</td>\n",
       "      <td>0.851351</td>\n",
       "      <td>0.00181</td>\n",
       "      <td>0.00051</td>\n",
       "    </tr>\n",
       "    <tr>\n",
       "      <th>KNeighborsClassifier_200</th>\n",
       "      <td>0.704225</td>\n",
       "      <td>0.806667</td>\n",
       "      <td>0.00208</td>\n",
       "      <td>0.00055</td>\n",
       "    </tr>\n",
       "    <tr>\n",
       "      <th>KNeighborsClassifier_300</th>\n",
       "      <td>0.720588</td>\n",
       "      <td>0.827907</td>\n",
       "      <td>0.00247</td>\n",
       "      <td>0.00060</td>\n",
       "    </tr>\n",
       "    <tr>\n",
       "      <th>LogisticRegression_100</th>\n",
       "      <td>0.666667</td>\n",
       "      <td>0.848485</td>\n",
       "      <td>0.00023</td>\n",
       "      <td>0.00138</td>\n",
       "    </tr>\n",
       "    <tr>\n",
       "      <th>LogisticRegression_200</th>\n",
       "      <td>0.676692</td>\n",
       "      <td>0.786207</td>\n",
       "      <td>0.00018</td>\n",
       "      <td>0.00185</td>\n",
       "    </tr>\n",
       "    <tr>\n",
       "      <th>LogisticRegression_300</th>\n",
       "      <td>0.717241</td>\n",
       "      <td>0.803532</td>\n",
       "      <td>0.00016</td>\n",
       "      <td>0.00235</td>\n",
       "    </tr>\n",
       "    <tr>\n",
       "      <th>RandomForestClassifier_100</th>\n",
       "      <td>0.676692</td>\n",
       "      <td>0.993197</td>\n",
       "      <td>0.00517</td>\n",
       "      <td>0.02479</td>\n",
       "    </tr>\n",
       "    <tr>\n",
       "      <th>RandomForestClassifier_200</th>\n",
       "      <td>0.765957</td>\n",
       "      <td>0.977612</td>\n",
       "      <td>0.00548</td>\n",
       "      <td>0.02588</td>\n",
       "    </tr>\n",
       "    <tr>\n",
       "      <th>RandomForestClassifier_300</th>\n",
       "      <td>0.720588</td>\n",
       "      <td>0.985149</td>\n",
       "      <td>0.00593</td>\n",
       "      <td>0.02596</td>\n",
       "    </tr>\n",
       "    <tr>\n",
       "      <th>SGDClassifier_100</th>\n",
       "      <td>0.766917</td>\n",
       "      <td>0.769231</td>\n",
       "      <td>0.00037</td>\n",
       "      <td>0.00080</td>\n",
       "    </tr>\n",
       "    <tr>\n",
       "      <th>SGDClassifier_200</th>\n",
       "      <td>0.186667</td>\n",
       "      <td>0.194805</td>\n",
       "      <td>0.00014</td>\n",
       "      <td>0.00056</td>\n",
       "    </tr>\n",
       "    <tr>\n",
       "      <th>SGDClassifier_300</th>\n",
       "      <td>0.815287</td>\n",
       "      <td>0.797546</td>\n",
       "      <td>0.00014</td>\n",
       "      <td>0.00071</td>\n",
       "    </tr>\n",
       "    <tr>\n",
       "      <th>SVC_100</th>\n",
       "      <td>0.805031</td>\n",
       "      <td>0.817073</td>\n",
       "      <td>0.00077</td>\n",
       "      <td>0.00148</td>\n",
       "    </tr>\n",
       "    <tr>\n",
       "      <th>SVC_200</th>\n",
       "      <td>0.805031</td>\n",
       "      <td>0.817337</td>\n",
       "      <td>0.00146</td>\n",
       "      <td>0.00340</td>\n",
       "    </tr>\n",
       "    <tr>\n",
       "      <th>SVC_300</th>\n",
       "      <td>0.805031</td>\n",
       "      <td>0.810484</td>\n",
       "      <td>0.00161</td>\n",
       "      <td>0.00700</td>\n",
       "    </tr>\n",
       "  </tbody>\n",
       "</table>\n",
       "</div>"
      ],
      "text/plain": [
       "                                F1 Score (test)  F1 Score (train)  \\\n",
       "AdaBoostClassifier_100                 0.635659          0.895522   \n",
       "AdaBoostClassifier_200                 0.732394          0.847458   \n",
       "AdaBoostClassifier_300                 0.737589          0.813333   \n",
       "BaggingClassifier_100                  0.805031          0.787879   \n",
       "BaggingClassifier_200                  0.805031          0.801205   \n",
       "BaggingClassifier_300                  0.805031          0.804000   \n",
       "DecisionTreeClassifier_100             0.616667          1.000000   \n",
       "DecisionTreeClassifier_200             0.734375          1.000000   \n",
       "DecisionTreeClassifier_300             0.676923          1.000000   \n",
       "GaussianNB_100                         0.725926          0.855072   \n",
       "GaussianNB_200                         0.115942          0.226667   \n",
       "GaussianNB_300                         0.548673          0.730964   \n",
       "GradientBoostingClassifier_100         0.632479          0.984848   \n",
       "GradientBoostingClassifier_200         0.681818          0.875000   \n",
       "GradientBoostingClassifier_300         0.685714          0.849765   \n",
       "KNeighborsClassifier_100               0.713287          0.851351   \n",
       "KNeighborsClassifier_200               0.704225          0.806667   \n",
       "KNeighborsClassifier_300               0.720588          0.827907   \n",
       "LogisticRegression_100                 0.666667          0.848485   \n",
       "LogisticRegression_200                 0.676692          0.786207   \n",
       "LogisticRegression_300                 0.717241          0.803532   \n",
       "RandomForestClassifier_100             0.676692          0.993197   \n",
       "RandomForestClassifier_200             0.765957          0.977612   \n",
       "RandomForestClassifier_300             0.720588          0.985149   \n",
       "SGDClassifier_100                      0.766917          0.769231   \n",
       "SGDClassifier_200                      0.186667          0.194805   \n",
       "SGDClassifier_300                      0.815287          0.797546   \n",
       "SVC_100                                0.805031          0.817073   \n",
       "SVC_200                                0.805031          0.817337   \n",
       "SVC_300                                0.805031          0.810484   \n",
       "\n",
       "                                Prediction Time (test)  Training Time  \n",
       "AdaBoostClassifier_100                         0.00351        0.09514  \n",
       "AdaBoostClassifier_200                         0.00351        0.10168  \n",
       "AdaBoostClassifier_300                         0.00369        0.10536  \n",
       "BaggingClassifier_100                          0.00396        0.02233  \n",
       "BaggingClassifier_200                          0.00459        0.02301  \n",
       "BaggingClassifier_300                          0.00563        0.02668  \n",
       "DecisionTreeClassifier_100                     0.00022        0.00082  \n",
       "DecisionTreeClassifier_200                     0.00019        0.00123  \n",
       "DecisionTreeClassifier_300                     0.00017        0.00173  \n",
       "GaussianNB_100                                 0.00032        0.00118  \n",
       "GaussianNB_200                                 0.00024        0.00081  \n",
       "GaussianNB_300                                 0.00025        0.00079  \n",
       "GradientBoostingClassifier_100                 0.00039        0.01999  \n",
       "GradientBoostingClassifier_200                 0.00037        0.02379  \n",
       "GradientBoostingClassifier_300                 0.00039        0.02574  \n",
       "KNeighborsClassifier_100                       0.00181        0.00051  \n",
       "KNeighborsClassifier_200                       0.00208        0.00055  \n",
       "KNeighborsClassifier_300                       0.00247        0.00060  \n",
       "LogisticRegression_100                         0.00023        0.00138  \n",
       "LogisticRegression_200                         0.00018        0.00185  \n",
       "LogisticRegression_300                         0.00016        0.00235  \n",
       "RandomForestClassifier_100                     0.00517        0.02479  \n",
       "RandomForestClassifier_200                     0.00548        0.02588  \n",
       "RandomForestClassifier_300                     0.00593        0.02596  \n",
       "SGDClassifier_100                              0.00037        0.00080  \n",
       "SGDClassifier_200                              0.00014        0.00056  \n",
       "SGDClassifier_300                              0.00014        0.00071  \n",
       "SVC_100                                        0.00077        0.00148  \n",
       "SVC_200                                        0.00146        0.00340  \n",
       "SVC_300                                        0.00161        0.00700  "
      ]
     },
     "metadata": {},
     "output_type": "display_data"
    }
   ],
   "source": [
    "# Results of All Models\n",
    "results=pd.DataFrame(df_dict)\n",
    "results=results.stack().unstack(0)\n",
    "display(results)\n",
    "results['Classifiers_t']=results.index.values.tolist()"
   ]
  },
  {
   "cell_type": "code",
   "execution_count": 59,
   "metadata": {
    "collapsed": false
   },
   "outputs": [
    {
     "data": {
      "text/html": [
       "<div>\n",
       "<table border=\"1\" class=\"dataframe\">\n",
       "  <thead>\n",
       "    <tr style=\"text-align: right;\">\n",
       "      <th></th>\n",
       "      <th>F1 Score (test)</th>\n",
       "      <th>F1 Score (train)</th>\n",
       "      <th>Prediction Time (test)</th>\n",
       "      <th>Training Time</th>\n",
       "      <th>Classifiers_t</th>\n",
       "    </tr>\n",
       "  </thead>\n",
       "  <tbody>\n",
       "    <tr>\n",
       "      <th>BaggingClassifier_100</th>\n",
       "      <td>0.805031</td>\n",
       "      <td>0.787879</td>\n",
       "      <td>0.00396</td>\n",
       "      <td>0.02233</td>\n",
       "      <td>BaggingClassifier_100</td>\n",
       "    </tr>\n",
       "    <tr>\n",
       "      <th>BaggingClassifier_200</th>\n",
       "      <td>0.805031</td>\n",
       "      <td>0.801205</td>\n",
       "      <td>0.00459</td>\n",
       "      <td>0.02301</td>\n",
       "      <td>BaggingClassifier_200</td>\n",
       "    </tr>\n",
       "    <tr>\n",
       "      <th>BaggingClassifier_300</th>\n",
       "      <td>0.805031</td>\n",
       "      <td>0.804000</td>\n",
       "      <td>0.00563</td>\n",
       "      <td>0.02668</td>\n",
       "      <td>BaggingClassifier_300</td>\n",
       "    </tr>\n",
       "    <tr>\n",
       "      <th>KNeighborsClassifier_100</th>\n",
       "      <td>0.713287</td>\n",
       "      <td>0.851351</td>\n",
       "      <td>0.00181</td>\n",
       "      <td>0.00051</td>\n",
       "      <td>KNeighborsClassifier_100</td>\n",
       "    </tr>\n",
       "    <tr>\n",
       "      <th>KNeighborsClassifier_200</th>\n",
       "      <td>0.704225</td>\n",
       "      <td>0.806667</td>\n",
       "      <td>0.00208</td>\n",
       "      <td>0.00055</td>\n",
       "      <td>KNeighborsClassifier_200</td>\n",
       "    </tr>\n",
       "    <tr>\n",
       "      <th>KNeighborsClassifier_300</th>\n",
       "      <td>0.720588</td>\n",
       "      <td>0.827907</td>\n",
       "      <td>0.00247</td>\n",
       "      <td>0.00060</td>\n",
       "      <td>KNeighborsClassifier_300</td>\n",
       "    </tr>\n",
       "    <tr>\n",
       "      <th>SVC_100</th>\n",
       "      <td>0.805031</td>\n",
       "      <td>0.817073</td>\n",
       "      <td>0.00077</td>\n",
       "      <td>0.00148</td>\n",
       "      <td>SVC_100</td>\n",
       "    </tr>\n",
       "    <tr>\n",
       "      <th>SVC_200</th>\n",
       "      <td>0.805031</td>\n",
       "      <td>0.817337</td>\n",
       "      <td>0.00146</td>\n",
       "      <td>0.00340</td>\n",
       "      <td>SVC_200</td>\n",
       "    </tr>\n",
       "    <tr>\n",
       "      <th>SVC_300</th>\n",
       "      <td>0.805031</td>\n",
       "      <td>0.810484</td>\n",
       "      <td>0.00161</td>\n",
       "      <td>0.00700</td>\n",
       "      <td>SVC_300</td>\n",
       "    </tr>\n",
       "  </tbody>\n",
       "</table>\n",
       "</div>"
      ],
      "text/plain": [
       "                          F1 Score (test)  F1 Score (train)  \\\n",
       "BaggingClassifier_100            0.805031          0.787879   \n",
       "BaggingClassifier_200            0.805031          0.801205   \n",
       "BaggingClassifier_300            0.805031          0.804000   \n",
       "KNeighborsClassifier_100         0.713287          0.851351   \n",
       "KNeighborsClassifier_200         0.704225          0.806667   \n",
       "KNeighborsClassifier_300         0.720588          0.827907   \n",
       "SVC_100                          0.805031          0.817073   \n",
       "SVC_200                          0.805031          0.817337   \n",
       "SVC_300                          0.805031          0.810484   \n",
       "\n",
       "                          Prediction Time (test)  Training Time  \\\n",
       "BaggingClassifier_100                    0.00396        0.02233   \n",
       "BaggingClassifier_200                    0.00459        0.02301   \n",
       "BaggingClassifier_300                    0.00563        0.02668   \n",
       "KNeighborsClassifier_100                 0.00181        0.00051   \n",
       "KNeighborsClassifier_200                 0.00208        0.00055   \n",
       "KNeighborsClassifier_300                 0.00247        0.00060   \n",
       "SVC_100                                  0.00077        0.00148   \n",
       "SVC_200                                  0.00146        0.00340   \n",
       "SVC_300                                  0.00161        0.00700   \n",
       "\n",
       "                                     Classifiers_t  \n",
       "BaggingClassifier_100        BaggingClassifier_100  \n",
       "BaggingClassifier_200        BaggingClassifier_200  \n",
       "BaggingClassifier_300        BaggingClassifier_300  \n",
       "KNeighborsClassifier_100  KNeighborsClassifier_100  \n",
       "KNeighborsClassifier_200  KNeighborsClassifier_200  \n",
       "KNeighborsClassifier_300  KNeighborsClassifier_300  \n",
       "SVC_100                                    SVC_100  \n",
       "SVC_200                                    SVC_200  \n",
       "SVC_300                                    SVC_300  "
      ]
     },
     "execution_count": 59,
     "metadata": {},
     "output_type": "execute_result"
    }
   ],
   "source": [
    "results[results.index.str.contains(\"SVC|Bagging|KN\")]"
   ]
  },
  {
   "cell_type": "markdown",
   "metadata": {
    "collapsed": false
   },
   "source": [
    "***From Above Table ***\n",
    "Seems Stochastic Gradient Decent Classifier is clear choice of our model "
   ]
  },
  {
   "cell_type": "markdown",
   "metadata": {},
   "source": [
    "### Tabular Results\n",
    "Edit the cell below to see how a table can be designed in [Markdown](https://github.com/adam-p/markdown-here/wiki/Markdown-Cheatsheet#tables). You can record your results from above in the tables provided."
   ]
  },
  {
   "cell_type": "markdown",
   "metadata": {},
   "source": [
    "** Classifer 1 - SVC **  \n",
    "\n",
    "| Training Set Size | Training Time | Prediction Time (test) | F1 Score (train) | F1 Score (test) |\n",
    "| :---------------: | :---------------------: | :--------------------: | :--------------: | :-------------: |\n",
    "| 100               |        0.001            |     0.0007             |   0.81           |   0.805         |\n",
    "| 200               |        0.003            |     0.0014             |   0.81           |   0.805         |\n",
    "| 300               |        0.007            |     0.0016             |   0.81           |   0.805         |\n",
    "\n",
    "** Classifer 2 KNN **  Since KNN is Lazy learner there is min Training Time\n",
    "\n",
    "| Training Set Size | Training Time | Prediction Time (test) | F1 Score (train) | F1 Score (test) |\n",
    "| :---------------: | :---------------------: | :--------------------: | :--------------: | :-------------: |\n",
    "| 100               |     0.00051             |     0.00181            |   0.85           |    0.71         |\n",
    "| 200               |     0.00055             |     0.00208            |   0.80           |    0.70         |\n",
    "| 300               |     0.00060             |     0.00247            |   0.80           |    0.72         |\n",
    "\n",
    "** Classifer 3 Ensemble: Bagging with SVC **  Bagging with SVC is costly from Train and Test Time cost\n",
    "\n",
    "| Training Set Size | Training Time | Prediction Time (test) | F1 Score (train) | F1 Score (test) |\n",
    "| :---------------: | :---------------------: | :--------------------: | :--------------: | :-------------: |\n",
    "| 100               |    0.02233              |     0.00396            |  0.78            |  0.80           |\n",
    "| 200               |    0.02301              |     0.00459            |  0.80            |  0.80           |\n",
    "| 300               |    0.02668              |     0.00563            |  0.80            |  0.80           |"
   ]
  },
  {
   "cell_type": "markdown",
   "metadata": {},
   "source": [
    "## Choosing the Best Model\n",
    "In this final section, you will choose from the three supervised learning models the *best* model to use on the student data. You will then perform a grid search optimization for the model over the entire training set (`X_train` and `y_train`) by tuning at least one parameter to improve upon the untuned model's F<sub>1</sub> score. "
   ]
  },
  {
   "cell_type": "code",
   "execution_count": 62,
   "metadata": {
    "collapsed": true
   },
   "outputs": [],
   "source": [
    "#results2=pd.DataFrame(results.Classifiers_t.str.split('_').tolist(),columns=['Classifiers1','Size'])\n",
    "results3=results.copy(deep=True)\n",
    "results3['Classifiers']=results3.Classifiers_t.apply(lambda x:x.split('_')[0])"
   ]
  },
  {
   "cell_type": "code",
   "execution_count": 63,
   "metadata": {
    "collapsed": false
   },
   "outputs": [
    {
     "data": {
      "text/html": [
       "<div>\n",
       "<table border=\"1\" class=\"dataframe\">\n",
       "  <thead>\n",
       "    <tr style=\"text-align: right;\">\n",
       "      <th></th>\n",
       "      <th>F1 Score (test)</th>\n",
       "      <th>F1 Score (train)</th>\n",
       "      <th>Prediction Time (test)</th>\n",
       "      <th>Training Time</th>\n",
       "    </tr>\n",
       "    <tr>\n",
       "      <th>Classifiers</th>\n",
       "      <th></th>\n",
       "      <th></th>\n",
       "      <th></th>\n",
       "      <th></th>\n",
       "    </tr>\n",
       "  </thead>\n",
       "  <tbody>\n",
       "    <tr>\n",
       "      <th>SVC</th>\n",
       "      <td>0.805031</td>\n",
       "      <td>0.814965</td>\n",
       "      <td>0.001280</td>\n",
       "      <td>0.003960</td>\n",
       "    </tr>\n",
       "    <tr>\n",
       "      <th>BaggingClassifier</th>\n",
       "      <td>0.805031</td>\n",
       "      <td>0.797695</td>\n",
       "      <td>0.004727</td>\n",
       "      <td>0.024007</td>\n",
       "    </tr>\n",
       "    <tr>\n",
       "      <th>RandomForestClassifier</th>\n",
       "      <td>0.721079</td>\n",
       "      <td>0.985319</td>\n",
       "      <td>0.005527</td>\n",
       "      <td>0.025543</td>\n",
       "    </tr>\n",
       "  </tbody>\n",
       "</table>\n",
       "</div>"
      ],
      "text/plain": [
       "                        F1 Score (test)  F1 Score (train)  \\\n",
       "Classifiers                                                 \n",
       "SVC                            0.805031          0.814965   \n",
       "BaggingClassifier              0.805031          0.797695   \n",
       "RandomForestClassifier         0.721079          0.985319   \n",
       "\n",
       "                        Prediction Time (test)  Training Time  \n",
       "Classifiers                                                    \n",
       "SVC                                   0.001280       0.003960  \n",
       "BaggingClassifier                     0.004727       0.024007  \n",
       "RandomForestClassifier                0.005527       0.025543  "
      ]
     },
     "execution_count": 63,
     "metadata": {},
     "output_type": "execute_result"
    }
   ],
   "source": [
    "results3.drop('Classifiers_t', axis=1)\n",
    "# top 3 Classifiers by F1 Test score and test time from taking the mean \n",
    "results3.groupby('Classifiers').mean().sort_values(by=['F1 Score (test)','Prediction Time (test)'], ascending=[False, True])[0:3]"
   ]
  },
  {
   "cell_type": "markdown",
   "metadata": {},
   "source": [
    "### Question 3 - Choosing the Best Model\n",
    "*Based on the experiments you performed earlier, in one to two paragraphs, explain to the board of supervisors what single model you chose as the best model. Which model is generally the most appropriate based on the available data, limited resources, cost, and performance?*"
   ]
  },
  {
   "cell_type": "markdown",
   "metadata": {},
   "source": [
    "**Answer: **\n",
    "<b>From the table above the SVC turns out to be the best model based on Prediction score, Test Score + Computational time. Though computationaly (time cost) it is costly, however in our case the sample size: # of students are around 400. As per the documentation of SVC from SkLearn if the sample data is less than 10,000 we will be ok to use this model from scalability perspective</b>\n",
    "<i>Reference: http://scikit-learn.org/stable/modules/generated/sklearn.svm.SVC.html\n",
    "\"The implementation is based on libsvm. The fit time complexity is more than quadratic with the number of samples which makes it hard to scale to dataset with more than a couple of 10000 samples.\"</i>\n",
    "\n",
    " \n",
    "<b>SVC model will provide good prediction (>80%) in reasonably manageable train and test time. </b>"
   ]
  },
  {
   "cell_type": "markdown",
   "metadata": {},
   "source": [
    "### Question 4 - Model in Layman's Terms\n",
    "*In one to two paragraphs, explain to the board of directors in layman's terms how the final model chosen is supposed to work. Be sure that you are describing the major qualities of the model, such as how the model is trained and how the model makes a prediction. Avoid using advanced mathematical or technical jargon, such as describing equations or discussing the algorithm implementation.*"
   ]
  },
  {
   "cell_type": "markdown",
   "metadata": {},
   "source": [
    "**Answer: **\n",
    "The model that yields best result is called SVC (Support Vector Machine Classifier).\n",
    "The core idea is to plot the features and discover a boundary based on the training data between two or more classes. Then if we can maximize the boundary between different classes we will get lane or street dividing through the classes of data. Following picture illustrates it better:\n",
    "<img src='220px-Svm_max_sep_hyperplane_with_margin.png'>\n",
    "The data points on the fences are called Support vectors..since they demarcates the boundary.\n",
    "So once we have established boundary which is maximized based on Support Vectors, to predict the test data we can plot on which side of the boundary the test data will fall & decide their class\n",
    "\n",
    "Source: http://scikit-learn.org/stable/modules/svm.html#classification\n",
    "Major qualities of SVC: The model works well for\n",
    "1. For data set With large no# of features & relatively less sample data (like this this Student Intervention use case)\n",
    "\n",
    "The disadvantages of SVC:\n",
    "1. As the sample data size increases the computation cost increases for SVC\n",
    "2. For noisy data where the boundary between different classes becoems blurred, SVC doesnt predict well"
   ]
  },
  {
   "cell_type": "markdown",
   "metadata": {},
   "source": [
    "### Implementation: Model Tuning\n",
    "Fine tune the chosen model. Use grid search (`GridSearchCV`) with at least one important parameter tuned with at least 3 different values. You will need to use the entire training set for this. In the code cell below, you will need to implement the following:\n",
    "- Import [`sklearn.grid_search.GridSearchCV`](http://scikit-learn.org/0.17/modules/generated/sklearn.grid_search.GridSearchCV.html) and [`sklearn.metrics.make_scorer`](http://scikit-learn.org/stable/modules/generated/sklearn.metrics.make_scorer.html).\n",
    "- Create a dictionary of parameters you wish to tune for the chosen model.\n",
    " - Example: `parameters = {'parameter' : [list of values]}`.\n",
    "- Initialize the classifier you've chosen and store it in `clf`.\n",
    "- Create the F<sub>1</sub> scoring function using `make_scorer` and store it in `f1_scorer`.\n",
    " - Set the `pos_label` parameter to the correct value!\n",
    "- Perform grid search on the classifier `clf` using `f1_scorer` as the scoring method, and store it in `grid_obj`.\n",
    "- Fit the grid search object to the training data (`X_train`, `y_train`), and store it in `grid_obj`."
   ]
  },
  {
   "cell_type": "code",
   "execution_count": 64,
   "metadata": {
    "collapsed": true
   },
   "outputs": [],
   "source": [
    "# Get the estimator\n",
    "def bestclf(grid_obj):\n",
    "    grid_obj.fit(X_train, y_train)\n",
    "    clf_best=grid_obj.best_estimator_\n",
    "    print(grid_obj.best_estimator_)\n",
    "    print('Train: ',predict_labels(clf_best, X_train, y_train))\n",
    "    print('Test: ',predict_labels(clf_best, X_test, y_test))\n",
    "    # Report the final F1 score for training and testing after parameter tuning\n",
    "    #print \"Tuned model has a training F1 score of {:.4f}.\".format(predict_labels(clf, X_train, y_train))\n",
    "    #print \"Tuned model has a testing F1 score of {:.4f}.\".format(predict_labels(clf, X_test, y_test))"
   ]
  },
  {
   "cell_type": "code",
   "execution_count": 65,
   "metadata": {
    "collapsed": false
   },
   "outputs": [
    {
     "name": "stdout",
     "output_type": "stream",
     "text": [
      "SVC(C=1.0, cache_size=200, class_weight=None, coef0=0.0,\n",
      "  decision_function_shape=None, degree=3, gamma='auto', kernel='rbf',\n",
      "  max_iter=-1, probability=False, random_state=3, shrinking=True,\n",
      "  tol=0.001, verbose=False)\n",
      "('Train: ', [0.86767895878524948, 0.00558])\n",
      "('Test: ', [0.82894736842105265, 0.00187])\n"
     ]
    }
   ],
   "source": [
    "# TODO: Import 'GridSearchCV' and 'make_scorer'\n",
    "from sklearn.metrics import make_scorer\n",
    "#from sklearn.metrics import f1_score\n",
    "\n",
    "f1_scorer = make_scorer(f1_score, pos_label=\"yes\")\n",
    "# TODO: Create the parameters list you wish to tune\n",
    "# SGDC_parameters = {'loss':['hinge'],#'squared_hinge','log',, 'modified_huber',  'perceptron'\n",
    "#              'penalty':['none','l1','l2'],#,'elasticnet'],\n",
    "#              'learning_rate':['optimal']} #'constant','invscaling'\n",
    "#             #,\n",
    "#              #'eta0':[0.1,0,0.1]}\n",
    "# SGDC_parameters_1={}\n",
    "# clf_new_SDGC=SGDClassifier()\n",
    "# grid_obj_SDGC = GridSearchCV(estimator=clf_new_SDGC,param_grid=SGDC_parameters,scoring=f1_scorer)\n",
    "# bestclf(grid_obj_SDGC)\n",
    "        \n",
    "#Knn Params:\n",
    "# knn_params = {\"n_neighbors\": np.arange(1, 26, 5),\n",
    "# \t\"metric\": [\"euclidean\", \"cityblock\"]}\n",
    "# clf_new_knn = KNeighborsClassifier()\n",
    "# grid_obj_KNN = GridSearchCV(estimator=clf_new_knn,param_grid=knn_params,scoring=f1_scorer)\n",
    "# grid_obj_KNN.fit(X_train, y_train)\n",
    "# #print(grid_obj_KNN.best_estimator_)\n",
    "# bestclf(grid_obj_KNN)\n",
    "\n",
    "# SVC As a Model\n",
    "svc_parameters = {'C':[1.0],'kernel':['linear','rbf'],# , 'rbf',precomputed,'poly', 'sigmoid'\n",
    "    }\n",
    "'''' 'C':np.arange( 1., 10+1, 1 ).tolist()\n",
    "    'degree':       np.arange( 0, 10+0, 1 ).tolist(),\n",
    "    'gamma':        'np.arange( 0.0, 1.0+0.0, 0.1 ).tolist()',\n",
    "    'coef0':        np.arange( 0.0, 1.0+0.0, 0.1 ).tolist(),'''\n",
    "#svc_parameters_1={}\n",
    "clf_new_SVC = SVC(random_state=3)\n",
    "grid_obj_SVC = GridSearchCV(estimator=clf_new_SVC,param_grid=svc_parameters,scoring=f1_scorer)\n",
    "bestclf(grid_obj_SVC)\n",
    "\n",
    "\n",
    "# TODO: Initialize the classifier\n",
    "# TODO: Make an f1 scoring function using 'make_scorer' \n",
    "#f1_scorer = None\n",
    "\n",
    "# TODO: Perform grid search on the classifier using the f1_scorer as the scoring method\n",
    "#grid_obj = None\n",
    "\n",
    "# TODO: Fit the grid search object to the training data and find the optimal parameters\n",
    "#grid_obj = None\n"
   ]
  },
  {
   "cell_type": "code",
   "execution_count": 288,
   "metadata": {
    "collapsed": false
   },
   "outputs": [],
   "source": [
    "# results=pd.DataFrame(df_dict)\n",
    "# results=results.stack().unstack(0)\n",
    "# display(results)"
   ]
  },
  {
   "cell_type": "markdown",
   "metadata": {},
   "source": [
    "### Question 5 - Final F<sub>1</sub> Score\n",
    "*What is the final model's F<sub>1</sub> score for training and testing? How does that score compare to the untuned model?*"
   ]
  },
  {
   "cell_type": "markdown",
   "metadata": {},
   "source": [
    "##### **Answer: **\n",
    "<p></p>\n",
    "***Post Tuning F1 Scores***\n",
    "<ul>\n",
    "<li>Train: 0.867</li>\n",
    "<li>Test: 0.828</li>\n",
    "</ul>\n",
    "\n",
    "*** Pre Tuning F1 Scores***\n",
    "<ul>\n",
    "<li>Train: 0.805</li>\n",
    "<li>Test: 0.814</li>\n",
    "</ul>\n",
    "\n",
    "<p> There is not significant improvement in the Score after Tuning. There is a lot of parameter in SVM that have impact on the out come, I have only tinkered with two different Kernal : Linear Vs RBF. However I am not very sure with small data set we can predict an outcome on unseen data with better precision and recall yielding to better F1 score</p>"
   ]
  },
  {
   "cell_type": "markdown",
   "metadata": {},
   "source": [
    "> **Note**: Once you have completed all of the code implementations and successfully answered each question above, you may finalize your work by exporting the iPython Notebook as an HTML document. You can do this by using the menu above and navigating to  \n",
    "**File -> Download as -> HTML (.html)**. Include the finished document along with this notebook as your submission."
   ]
  }
 ],
 "metadata": {
  "kernelspec": {
   "display_name": "Python 2",
   "language": "python",
   "name": "python2"
  },
  "language_info": {
   "codemirror_mode": {
    "name": "ipython",
    "version": 2
   },
   "file_extension": ".py",
   "mimetype": "text/x-python",
   "name": "python",
   "nbconvert_exporter": "python",
   "pygments_lexer": "ipython2",
   "version": "2.7.13"
  }
 },
 "nbformat": 4,
 "nbformat_minor": 0
}
