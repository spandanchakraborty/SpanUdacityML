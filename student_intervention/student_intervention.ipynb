{
 "cells": [
  {
   "cell_type": "markdown",
   "metadata": {},
   "source": [
    "# Machine Learning Engineer Nanodegree\n",
    "## Supervised Learning\n",
    "## Project: Building a Student Intervention System"
   ]
  },
  {
   "cell_type": "markdown",
   "metadata": {},
   "source": [
    "Welcome to the second project of the Machine Learning Engineer Nanodegree! In this notebook, some template code has already been provided for you, and it will be your job to implement the additional functionality necessary to successfully complete this project. Sections that begin with **'Implementation'** in the header indicate that the following block of code will require additional functionality which you must provide. Instructions will be provided for each section and the specifics of the implementation are marked in the code block with a `'TODO'` statement. Please be sure to read the instructions carefully!\n",
    "\n",
    "In addition to implementing code, there will be questions that you must answer which relate to the project and your implementation. Each section where you will answer a question is preceded by a **'Question X'** header. Carefully read each question and provide thorough answers in the following text boxes that begin with **'Answer:'**. Your project submission will be evaluated based on your answers to each of the questions and the implementation you provide.  \n",
    "\n",
    ">**Note:** Code and Markdown cells can be executed using the **Shift + Enter** keyboard shortcut. In addition, Markdown cells can be edited by typically double-clicking the cell to enter edit mode."
   ]
  },
  {
   "cell_type": "markdown",
   "metadata": {},
   "source": [
    "### Question 1 - Classification vs. Regression\n",
    "*Your goal for this project is to identify students who might need early intervention before they fail to graduate. Which type of supervised learning problem is this, classification or regression? Why?*"
   ]
  },
  {
   "cell_type": "markdown",
   "metadata": {},
   "source": [
    "**Answer: **\n",
    "<p>The objective is to find a yes or no answer, whether a student is likely to fail and hence need intervention: Yes or No. This is clearly a Classification problem of Supervised Learning.</p> <p>We are not after a target of continous values hence its not a Regression Problem, however if we were asked to get a probability of the student passing it will become a Regression problem, then the target will have a continous value </sub></p>"
   ]
  },
  {
   "cell_type": "code",
   "execution_count": 1,
   "metadata": {
    "collapsed": false
   },
   "outputs": [
    {
     "data": {
      "text/plain": [
       "u'/Users/spandan.chakraborty/Documents/UML/SpanUdacityML/student_intervention'"
      ]
     },
     "execution_count": 1,
     "metadata": {},
     "output_type": "execute_result"
    }
   ],
   "source": [
    "%pwd"
   ]
  },
  {
   "cell_type": "markdown",
   "metadata": {},
   "source": [
    "## Exploring the Data\n",
    "Run the code cell below to load necessary Python libraries and load the student data. Note that the last column from this dataset, `'passed'`, will be our target label (whether the student graduated or didn't graduate). All other columns are features about each student."
   ]
  },
  {
   "cell_type": "code",
   "execution_count": 7,
   "metadata": {
    "collapsed": false
   },
   "outputs": [
    {
     "name": "stdout",
     "output_type": "stream",
     "text": [
      "Student data read successfully!\n"
     ]
    }
   ],
   "source": [
    "# Import libraries\n",
    "import numpy as np\n",
    "import pandas as pd\n",
    "from time import time\n",
    "from sklearn.metrics import f1_score\n",
    "import seaborn as sns\n",
    "%matplotlib inline\n",
    "\n",
    "# Read student data\n",
    "df = pd.read_csv(\"student-data.csv\")\n",
    "print \"Student data read successfully!\""
   ]
  },
  {
   "cell_type": "code",
   "execution_count": 8,
   "metadata": {
    "collapsed": false
   },
   "outputs": [
    {
     "data": {
      "text/html": [
       "<div>\n",
       "<table border=\"1\" class=\"dataframe\">\n",
       "  <thead>\n",
       "    <tr style=\"text-align: right;\">\n",
       "      <th></th>\n",
       "      <th>school</th>\n",
       "      <th>sex</th>\n",
       "      <th>age</th>\n",
       "      <th>address</th>\n",
       "      <th>famsize</th>\n",
       "      <th>Pstatus</th>\n",
       "      <th>Medu</th>\n",
       "      <th>Fedu</th>\n",
       "      <th>Mjob</th>\n",
       "      <th>Fjob</th>\n",
       "      <th>...</th>\n",
       "      <th>internet</th>\n",
       "      <th>romantic</th>\n",
       "      <th>famrel</th>\n",
       "      <th>freetime</th>\n",
       "      <th>goout</th>\n",
       "      <th>Dalc</th>\n",
       "      <th>Walc</th>\n",
       "      <th>health</th>\n",
       "      <th>absences</th>\n",
       "      <th>passed</th>\n",
       "    </tr>\n",
       "  </thead>\n",
       "  <tbody>\n",
       "    <tr>\n",
       "      <th>0</th>\n",
       "      <td>GP</td>\n",
       "      <td>F</td>\n",
       "      <td>18</td>\n",
       "      <td>U</td>\n",
       "      <td>GT3</td>\n",
       "      <td>A</td>\n",
       "      <td>4</td>\n",
       "      <td>4</td>\n",
       "      <td>at_home</td>\n",
       "      <td>teacher</td>\n",
       "      <td>...</td>\n",
       "      <td>no</td>\n",
       "      <td>no</td>\n",
       "      <td>4</td>\n",
       "      <td>3</td>\n",
       "      <td>4</td>\n",
       "      <td>1</td>\n",
       "      <td>1</td>\n",
       "      <td>3</td>\n",
       "      <td>6</td>\n",
       "      <td>no</td>\n",
       "    </tr>\n",
       "    <tr>\n",
       "      <th>1</th>\n",
       "      <td>GP</td>\n",
       "      <td>F</td>\n",
       "      <td>17</td>\n",
       "      <td>U</td>\n",
       "      <td>GT3</td>\n",
       "      <td>T</td>\n",
       "      <td>1</td>\n",
       "      <td>1</td>\n",
       "      <td>at_home</td>\n",
       "      <td>other</td>\n",
       "      <td>...</td>\n",
       "      <td>yes</td>\n",
       "      <td>no</td>\n",
       "      <td>5</td>\n",
       "      <td>3</td>\n",
       "      <td>3</td>\n",
       "      <td>1</td>\n",
       "      <td>1</td>\n",
       "      <td>3</td>\n",
       "      <td>4</td>\n",
       "      <td>no</td>\n",
       "    </tr>\n",
       "  </tbody>\n",
       "</table>\n",
       "<p>2 rows × 31 columns</p>\n",
       "</div>"
      ],
      "text/plain": [
       "  school sex  age address famsize Pstatus  Medu  Fedu     Mjob     Fjob  \\\n",
       "0     GP   F   18       U     GT3       A     4     4  at_home  teacher   \n",
       "1     GP   F   17       U     GT3       T     1     1  at_home    other   \n",
       "\n",
       "   ...   internet romantic  famrel  freetime  goout Dalc Walc health absences  \\\n",
       "0  ...         no       no       4         3      4    1    1      3        6   \n",
       "1  ...        yes       no       5         3      3    1    1      3        4   \n",
       "\n",
       "  passed  \n",
       "0     no  \n",
       "1     no  \n",
       "\n",
       "[2 rows x 31 columns]"
      ]
     },
     "execution_count": 8,
     "metadata": {},
     "output_type": "execute_result"
    }
   ],
   "source": [
    "df.head(2)"
   ]
  },
  {
   "cell_type": "markdown",
   "metadata": {},
   "source": [
    "### Implementation: Data Exploration\n",
    "Let's begin by investigating the dataset to determine how many students we have information on, and learn about the graduation rate among these students. In the code cell below, you will need to compute the following:\n",
    "- The total number of students, `n_students`.\n",
    "- The total number of features for each student, `n_features`.\n",
    "- The number of those students who passed, `n_passed`.\n",
    "- The number of those students who failed, `n_failed`.\n",
    "- The graduation rate of the class, `grad_rate`, in percent (%).\n"
   ]
  },
  {
   "cell_type": "code",
   "execution_count": 9,
   "metadata": {
    "collapsed": false
   },
   "outputs": [
    {
     "name": "stdout",
     "output_type": "stream",
     "text": [
      "Total number of students: 395\n",
      "Number of features: 30\n",
      "Number of students who passed: 265\n",
      "Number of students who failed: 130\n",
      "Graduation rate of the class: 67.09%\n"
     ]
    },
    {
     "data": {
      "text/plain": [
       "<matplotlib.axes._subplots.AxesSubplot at 0x119507b10>"
      ]
     },
     "execution_count": 9,
     "metadata": {},
     "output_type": "execute_result"
    },
    {
     "data": {
      "image/png": "[encoded data removed]",
      "text/plain": [
       "<matplotlib.figure.Figure at 0x119507510>"
      ]
     },
     "metadata": {},
     "output_type": "display_data"
    }
   ],
   "source": [
    "# TODO: Calculate number of students\n",
    "n_students = len(df)\n",
    "\n",
    "# TODO: Calculate number of features\n",
    "n_features = df.shape[1] -1\n",
    "\n",
    "# TODO: Calculate passing students\n",
    "n_passed = len(df[df.passed=='yes'])\n",
    "\n",
    "# TODO: Calculate failing students\n",
    "n_failed = len(df[df.passed=='no'])\n",
    "\n",
    "# TODO: Calculate graduation rate\n",
    "grad_rate = (n_passed/float(n_students))*100.\n",
    "\n",
    "# Print the results\n",
    "print \"Total number of students: {}\".format(n_students)\n",
    "print \"Number of features: {}\".format(n_features)\n",
    "print \"Number of students who passed: {}\".format(n_passed)\n",
    "print \"Number of students who failed: {}\".format(n_failed)\n",
    "print \"Graduation rate of the class: {:.2f}%\".format(grad_rate)\n",
    "sns.countplot(x='passed', data=df)"
   ]
  },
  {
   "cell_type": "code",
   "execution_count": 48,
   "metadata": {
    "collapsed": true
   },
   "outputs": [],
   "source": []
  },
  {
   "cell_type": "markdown",
   "metadata": {},
   "source": [
    "## Data Analysis\n",
    "<p>This data set has 30 features and comparatively lesser no# of data: 395</p>"
   ]
  },
  {
   "cell_type": "code",
   "execution_count": null,
   "metadata": {
    "collapsed": true
   },
   "outputs": [],
   "source": [
    " "
   ]
  },
  {
   "cell_type": "markdown",
   "metadata": {},
   "source": [
    "## Preparing the Data\n",
    "In this section, we will prepare the data for modeling, training and testing.\n",
    "\n",
    "### Identify feature and target columns\n",
    "It is often the case that the data you obtain contains non-numeric features. This can be a problem, as most machine learning algorithms expect numeric data to perform computations with.\n",
    "\n",
    "Run the code cell below to separate the student data into feature and target columns to see if any features are non-numeric."
   ]
  },
  {
   "cell_type": "code",
   "execution_count": 10,
   "metadata": {
    "collapsed": false
   },
   "outputs": [
    {
     "name": "stdout",
     "output_type": "stream",
     "text": [
      "Feature columns:\n",
      "['school', 'sex', 'age', 'address', 'famsize', 'Pstatus', 'Medu', 'Fedu', 'Mjob', 'Fjob', 'reason', 'guardian', 'traveltime', 'studytime', 'failures', 'schoolsup', 'famsup', 'paid', 'activities', 'nursery', 'higher', 'internet', 'romantic', 'famrel', 'freetime', 'goout', 'Dalc', 'Walc', 'health', 'absences']\n",
      "\n",
      "Target column: passed\n",
      "\n",
      "Feature values:\n",
      "  school sex  age address famsize Pstatus  Medu  Fedu     Mjob      Fjob  \\\n",
      "0     GP   F   18       U     GT3       A     4     4  at_home   teacher   \n",
      "1     GP   F   17       U     GT3       T     1     1  at_home     other   \n",
      "2     GP   F   15       U     LE3       T     1     1  at_home     other   \n",
      "3     GP   F   15       U     GT3       T     4     2   health  services   \n",
      "4     GP   F   16       U     GT3       T     3     3    other     other   \n",
      "\n",
      "    ...    higher internet  romantic  famrel  freetime goout Dalc Walc health  \\\n",
      "0   ...       yes       no        no       4         3     4    1    1      3   \n",
      "1   ...       yes      yes        no       5         3     3    1    1      3   \n",
      "2   ...       yes      yes        no       4         3     2    2    3      3   \n",
      "3   ...       yes      yes       yes       3         2     2    1    1      5   \n",
      "4   ...       yes       no        no       4         3     2    1    2      5   \n",
      "\n",
      "  absences  \n",
      "0        6  \n",
      "1        4  \n",
      "2       10  \n",
      "3        2  \n",
      "4        4  \n",
      "\n",
      "[5 rows x 30 columns]\n"
     ]
    }
   ],
   "source": [
    "# Extract feature columns\n",
    "feature_cols = list(df.columns[:-1])\n",
    "\n",
    "# Extract target column 'passed'\n",
    "target_col = df.columns[-1] \n",
    "\n",
    "# Show the list of columns\n",
    "print \"Feature columns:\\n{}\".format(feature_cols)\n",
    "print \"\\nTarget column: {}\".format(target_col)\n",
    "\n",
    "# Separate the data into feature data and target data (X_all and y_all, respectively)\n",
    "X_all = df[feature_cols]\n",
    "y_all = df[target_col]\n",
    "\n",
    "# Show the feature information by printing the first five rows\n",
    "print \"\\nFeature values:\"\n",
    "print X_all.head()"
   ]
  },
  {
   "cell_type": "code",
   "execution_count": null,
   "metadata": {
    "collapsed": true
   },
   "outputs": [],
   "source": []
  },
  {
   "cell_type": "markdown",
   "metadata": {},
   "source": [
    "### Preprocess Feature Columns\n",
    "\n",
    "As you can see, there are several non-numeric columns that need to be converted! Many of them are simply `yes`/`no`, e.g. `internet`. These can be reasonably converted into `1`/`0` (binary) values.\n",
    "\n",
    "Other columns, like `Mjob` and `Fjob`, have more than two values, and are known as _categorical variables_. The recommended way to handle such a column is to create as many columns as possible values (e.g. `Fjob_teacher`, `Fjob_other`, `Fjob_services`, etc.), and assign a `1` to one of them and `0` to all others.\n",
    "\n",
    "These generated columns are sometimes called _dummy variables_, and we will use the [`pandas.get_dummies()`](http://pandas.pydata.org/pandas-docs/stable/generated/pandas.get_dummies.html?highlight=get_dummies#pandas.get_dummies) function to perform this transformation. Run the code cell below to perform the preprocessing routine discussed in this section."
   ]
  },
  {
   "cell_type": "code",
   "execution_count": 11,
   "metadata": {
    "collapsed": false
   },
   "outputs": [
    {
     "name": "stdout",
     "output_type": "stream",
     "text": [
      "Processed feature columns (48 total features):\n",
      "['school_GP', 'school_MS', 'sex_F', 'sex_M', 'age', 'address_R', 'address_U', 'famsize_GT3', 'famsize_LE3', 'Pstatus_A', 'Pstatus_T', 'Medu', 'Fedu', 'Mjob_at_home', 'Mjob_health', 'Mjob_other', 'Mjob_services', 'Mjob_teacher', 'Fjob_at_home', 'Fjob_health', 'Fjob_other', 'Fjob_services', 'Fjob_teacher', 'reason_course', 'reason_home', 'reason_other', 'reason_reputation', 'guardian_father', 'guardian_mother', 'guardian_other', 'traveltime', 'studytime', 'failures', 'schoolsup', 'famsup', 'paid', 'activities', 'nursery', 'higher', 'internet', 'romantic', 'famrel', 'freetime', 'goout', 'Dalc', 'Walc', 'health', 'absences']\n"
     ]
    }
   ],
   "source": [
    "def preprocess_features(X):\n",
    "    ''' Preprocesses the student data and converts non-numeric binary variables into\n",
    "        binary (0/1) variables. Converts categorical variables into dummy variables. '''\n",
    "    \n",
    "    # Initialize new output DataFrame\n",
    "    output = pd.DataFrame(index = X.index)\n",
    "\n",
    "    # Investigate each feature column for the data\n",
    "    for col, col_data in X.iteritems():\n",
    "        \n",
    "        # If data type is non-numeric, replace all yes/no values with 1/0\n",
    "        if col_data.dtype == object:\n",
    "            col_data = col_data.replace(['yes', 'no'], [1, 0])\n",
    "\n",
    "        # If data type is categorical, convert to dummy variables\n",
    "        if col_data.dtype == object:\n",
    "            # Example: 'school' => 'school_GP' and 'school_MS'\n",
    "            col_data = pd.get_dummies(col_data, prefix = col)  \n",
    "        \n",
    "        # Collect the revised columns\n",
    "        output = output.join(col_data)\n",
    "    \n",
    "    return output\n",
    "\n",
    "X_all = preprocess_features(X_all)\n",
    "print \"Processed feature columns ({} total features):\\n{}\".format(len(X_all.columns), list(X_all.columns))"
   ]
  },
  {
   "cell_type": "code",
   "execution_count": 12,
   "metadata": {
    "collapsed": false
   },
   "outputs": [
    {
     "name": "stdout",
     "output_type": "stream",
     "text": [
      "(395, 48)\n"
     ]
    }
   ],
   "source": [
    "# Tree based Feature Selection to compute Feature Importance\n",
    "from sklearn.ensemble import ExtraTreesClassifier\n",
    "from sklearn.feature_selection import SelectFromModel\n",
    "from IPython.display import display\n",
    "print(X_all.shape)\n",
    "clf_features_sel=ExtraTreesClassifier()\n",
    "clf_features_sel.fit(X_all, y_all)\n",
    "feature_importance=pd.DataFrame()\n",
    "feature_importance['Feature']=list(X_all.columns)\n",
    "feature_importance['Importance']=clf_features_sel.feature_importances_\n",
    "#print(zip(clf_features_sel.feature_importances_,list(X_all.columns)))\n",
    "#display(feature_importance.sort_values(by='Importance',ascending=False))"
   ]
  },
  {
   "cell_type": "code",
   "execution_count": 134,
   "metadata": {
    "collapsed": false
   },
   "outputs": [],
   "source": [
    "#sns.load_dataset(\"df\")\n",
    "#sns.regplot(x='failures',y='passed', data=df)"
   ]
  },
  {
   "cell_type": "markdown",
   "metadata": {},
   "source": [
    "### Implementation: Training and Testing Data Split\n",
    "So far, we have converted all _categorical_ features into numeric values. For the next step, we split the data (both features and corresponding labels) into training and test sets. In the following code cell below, you will need to implement the following:\n",
    "- Randomly shuffle and split the data (`X_all`, `y_all`) into training and testing subsets.\n",
    "  - Use 300 training points (approximately 75%) and 95 testing points (approximately 25%).\n",
    "  - Set a `random_state` for the function(s) you use, if provided.\n",
    "  - Store the results in `X_train`, `X_test`, `y_train`, and `y_test`."
   ]
  },
  {
   "cell_type": "code",
   "execution_count": 39,
   "metadata": {
    "collapsed": false
   },
   "outputs": [
    {
     "name": "stdout",
     "output_type": "stream",
     "text": [
      "ShuffleSplit(n_splits=10, random_state=3, test_size=95, train_size=300)\n",
      "Training set has 300 samples.\n",
      "Testing set has 95 samples.\n"
     ]
    }
   ],
   "source": [
    "# TODO: Import any additional functionality you may need here\n",
    "from sklearn.model_selection import ShuffleSplit\n",
    "# TODO: Set the number of training points\n",
    "num_train = 300\n",
    "\n",
    "# Set the number of testing points\n",
    "num_test = X_all.shape[0] - num_train\n",
    "\n",
    "# using Shufflesplit to get Train/Test sets\n",
    "ss=ShuffleSplit(test_size=num_test,train_size=num_train,random_state=3) \n",
    "ss.get_n_splits(X_all)\n",
    "print(ss)\n",
    "for train_index, test_index in ss.split(X_all):\n",
    "    #print(\"train:\", train_index, \"Test:\",test_index)\n",
    "    X_train=X_all.ix[train_index]\n",
    "    X_test=X_all.ix[test_index]\n",
    "    y_train=y_all.ix[train_index]\n",
    "    y_test=y_all.ix[test_index]\n",
    " \n",
    "\n",
    "# Show the results of the split\n",
    "print \"Training set has {} samples.\".format(X_train.shape[0])\n",
    "print \"Testing set has {} samples.\".format(X_test.shape[0])"
   ]
  },
  {
   "cell_type": "code",
   "execution_count": 40,
   "metadata": {
    "collapsed": false
   },
   "outputs": [
    {
     "name": "stdout",
     "output_type": "stream",
     "text": [
      "StratifiedShuffleSplit(n_splits=10, random_state=3, test_size=95,\n",
      "            train_size=300)\n",
      "Training set has 300 samples.\n",
      "Testing set has 95 samples.\n"
     ]
    }
   ],
   "source": [
    "# Trying out Startified ShuffleSplit Since Gaussian NB Classifier  is performing poorly with increase in Training Data \n",
    "from sklearn.model_selection import StratifiedShuffleSplit\n",
    "# TODO: Set the number of training points\n",
    "num_train = 300\n",
    "\n",
    "# Set the number of testing points\n",
    "num_test = X_all.shape[0] - num_train\n",
    "\n",
    "# using Shufflesplit to get Train/Test sets\n",
    "ss=StratifiedShuffleSplit(test_size=num_test,train_size=num_train,random_state=3) \n",
    "ss.get_n_splits(X_all)\n",
    "print(ss)\n",
    "for train_index, test_index in ss.split(X_all,y_all):\n",
    "    #print(\"train:\", train_index, \"Test:\",test_index)\n",
    "    X_train=X_all.ix[train_index]\n",
    "    X_test=X_all.ix[test_index]\n",
    "    y_train=y_all.ix[train_index]\n",
    "    y_test=y_all.ix[test_index]\n",
    " \n",
    "\n",
    "# Show the results of the split\n",
    "print \"Training set has {} samples.\".format(X_train.shape[0])\n",
    "print \"Testing set has {} samples.\".format(X_test.shape[0])"
   ]
  },
  {
   "cell_type": "code",
   "execution_count": null,
   "metadata": {
    "collapsed": true
   },
   "outputs": [],
   "source": []
  },
  {
   "cell_type": "code",
   "execution_count": null,
   "metadata": {
    "collapsed": true
   },
   "outputs": [],
   "source": []
  },
  {
   "cell_type": "markdown",
   "metadata": {},
   "source": [
    "## Training and Evaluating Models\n",
    "In this section, you will choose 3 supervised learning models that are appropriate for this problem and available in `scikit-learn`. You will first discuss the reasoning behind choosing these three models by considering what you know about the data and each model's strengths and weaknesses. You will then fit the model to varying sizes of training data (100 data points, 200 data points, and 300 data points) and measure the F<sub>1</sub> score. You will need to produce three tables (one for each model) that shows the training set size, training time, prediction time, F<sub>1</sub> score on the training set, and F<sub>1</sub> score on the testing set.\n",
    "\n",
    "**The following supervised learning models are currently available in** [`scikit-learn`](http://scikit-learn.org/stable/supervised_learning.html) **that you may choose from:**\n",
    "- Gaussian Naive Bayes (GaussianNB)\n",
    "- Decision Trees\n",
    "- Ensemble Methods (Bagging, AdaBoost, Random Forest, Gradient Boosting)\n",
    "- K-Nearest Neighbors (KNeighbors)\n",
    "- Stochastic Gradient Descent (SGDC)\n",
    "- Support Vector Machines (SVM)\n",
    "- Logistic Regression"
   ]
  },
  {
   "cell_type": "markdown",
   "metadata": {},
   "source": [
    "### Question 2 - Model Application\n",
    "*List three supervised learning models that are appropriate for this problem. For each model chosen*\n",
    "- Describe one real-world application in industry where the model can be applied. *(You may need to do a small bit of research for this — give references!)* \n",
    "- What are the strengths of the model; when does it perform well? \n",
    "- What are the weaknesses of the model; when does it perform poorly?\n",
    "- What makes this model a good candidate for the problem, given what you know about the data?"
   ]
  },
  {
   "cell_type": "markdown",
   "metadata": {},
   "source": [
    "**Answer: **\n",
    "<ol>\n",
    "<li> <b>Gaussian Naive Bayes (GaussianNB):</b>\n",
    "\t<ul>\n",
    "\t\t<li>real-world application in industry\n",
    "\t\t\t<p>It is used in Text categorization. It has high search accuarcy in image calssification(Source :https://en.wikipedia.org/wiki/Support_vector_machine). Also it has wide range of usage in Biological fields </p></li>\n",
    "\t\t<li>strengths of the model\n",
    "\t\t\t<p>SVMs can operate on large feature set</p></li>\n",
    "\t\t<li>weaknesses of the model</li>\n",
    "\t\t<li>What makes this model a good candidate for the problem</li>\n",
    "\t</ul>\n",
    "</li>\n",
    "<li> <b>Decision Trees:</b>\n",
    "\t<ul>\n",
    "\t\t<li>real-world application in industry\n",
    "\t\t\t<p>It is used in Text categorization. It has high search accuarcy in image calssification(Source :https://en.wikipedia.org/wiki/Support_vector_machine). Also it has wide range of usage in Biological fields </p></li>\n",
    "\t\t<li>strengths of the model\n",
    "\t\t\t<p>SVMs can operate on large feature set</p></li>\n",
    "\t\t<li>weaknesses of the model</li>\n",
    "\t\t<li>What makes this model a good candidate for the problem</li>\n",
    "\t</ul>\n",
    "</li>\n",
    " <li> <b>Ensemble Methods (Bagging, AdaBoost, Random Forest, Gradient Boosting):</b>\n",
    "\t<ul>\n",
    "\t\t<li>real-world application in industry\n",
    "\t\t\t<p>It is used in Text categorization. It has high search accuarcy in image calssification(Source :https://en.wikipedia.org/wiki/Support_vector_machine). Also it has wide range of usage in Biological fields </p></li>\n",
    "\t\t<li>strengths of the model\n",
    "\t\t\t<p>SVMs can operate on large feature set</p></li>\n",
    "\t\t<li>weaknesses of the model</li>\n",
    "\t\t<li>What makes this model a good candidate for the problem</li>\n",
    "\t</ul>\n",
    "</li>\n",
    "<li> <b>K-Nearest Neighbors (KNeighbors):</b>\n",
    "\t<ul>\n",
    "\t\t<li>real-world application in industry\n",
    "\t\t\t<p>It is used in Text categorization. It has high search accuarcy in image calssification(Source :https://en.wikipedia.org/wiki/Support_vector_machine). Also it has wide range of usage in Biological fields </p></li>\n",
    "\t\t<li>strengths of the model\n",
    "\t\t\t<p>SVMs can operate on large feature set</p></li>\n",
    "\t\t<li>weaknesses of the model</li>\n",
    "\t\t<li>What makes this model a good candidate for the problem</li>\n",
    "\t</ul>\n",
    "</li>\n",
    "<li> <b>Stochastic Gradient Descent (SGDC):</b>\n",
    "\t<ul>\n",
    "\t\t<li>real-world application in industry\n",
    "\t\t\t<p>It is used in Text categorization. It has high search accuarcy in image calssification(Source :https://en.wikipedia.org/wiki/Support_vector_machine). Also it has wide range of usage in Biological fields </p></li>\n",
    "\t\t<li>strengths of the model\n",
    "\t\t\t<p>SVMs can operate on large feature set</p></li>\n",
    "\t\t<li>weaknesses of the model</li>\n",
    "\t\t<li>What makes this model a good candidate for the problem</li>\n",
    "\t</ul>\n",
    "</li>\n",
    "<li> <b>Support Vector Machines (SVM):</b>\n",
    "\t<ul>\n",
    "\t\t<li>real-world application in industry\n",
    "\t\t\t<p>It is used in Text categorization. It has high search accuarcy in image calssification(Source :https://en.wikipedia.org/wiki/Support_vector_machine). Also it has wide range of usage in Biological fields </p></li>\n",
    "\t\t<li>strengths of the model\n",
    "\t\t\t<p>SVMs can operate on large feature set</p></li>\n",
    "\t\t<li>weaknesses of the model</li>\n",
    "\t\t<li>What makes this model a good candidate for the problem</li>\n",
    "\t</ul>\n",
    "</li>\n",
    "<li> <b>Logistic Regression:</b>\n",
    "\t<ul>\n",
    "\t\t<li>real-world application in industry\n",
    "\t\t\t<p>It is used in Text categorization. It has high search accuarcy in image calssification(Source :https://en.wikipedia.org/wiki/Support_vector_machine). Also it has wide range of usage in Biological fields </p></li>\n",
    "\t\t<li>strengths of the model\n",
    "\t\t\t<p>SVMs can operate on large feature set</p></li>\n",
    "\t\t<li>weaknesses of the model</li>\n",
    "\t\t<li>What makes this model a good candidate for the problem</li>\n",
    "\t</ul>\n",
    "</li>\n",
    "\n",
    "</ol>"
   ]
  },
  {
   "cell_type": "markdown",
   "metadata": {},
   "source": [
    "### Setup\n",
    "Run the code cell below to initialize three helper functions which you can use for training and testing the three supervised learning models you've chosen above. The functions are as follows:\n",
    "- `train_classifier` - takes as input a classifier and training data and fits the classifier to the data.\n",
    "- `predict_labels` - takes as input a fit classifier, features, and a target labeling and makes predictions using the F<sub>1</sub> score.\n",
    "- `train_predict` - takes as input a classifier, and the training and testing data, and performs `train_clasifier` and `predict_labels`.\n",
    " - This function will report the F<sub>1</sub> score for both the training and testing data separately."
   ]
  },
  {
   "cell_type": "code",
   "execution_count": 41,
   "metadata": {
    "collapsed": false
   },
   "outputs": [],
   "source": []
  },
  {
   "cell_type": "code",
   "execution_count": 80,
   "metadata": {
    "collapsed": false
   },
   "outputs": [],
   "source": [
    "def train_classifier(clf, X_train, y_train):\n",
    "    ''' Fits a classifier to the training data. '''\n",
    "    \n",
    "    # Start the clock, train the classifier, then stop the clock\n",
    "    start = time()\n",
    "    clf.fit(X_train, y_train)\n",
    "    end = time()\n",
    "    \n",
    "    # Print the results\n",
    "    #print \"Trained model in {:.4f} seconds\".format(end - start)\n",
    "    return (round((end - start),5))\n",
    "\n",
    "    \n",
    "def predict_labels(clf, features, target):\n",
    "    ''' Makes predictions using a fit classifier based on F1 score. '''\n",
    "    \n",
    "    # Start the clock, make predictions, then stop the clock\n",
    "    start = time()\n",
    "    y_pred = clf.predict(features)\n",
    "    end = time()\n",
    "    \n",
    "    # Print and return results\n",
    "    #print \"Made predictions in {:.4f} seconds.\".format(end - start)\n",
    "    return [f1_score(target.values, y_pred, pos_label='yes'),round((end - start),5)]\n",
    "\n",
    "\n",
    "def train_predict(clf, X_train, y_train, X_test, y_test):\n",
    "    ''' Train and predict using a classifer based on F1 score. '''\n",
    "    \n",
    "    # Indicate the classifier and the training set size\n",
    "    #print \"Training a {} using a training set size of {}. . .\".format(clf.__class__.__name__, len(X_train))\n",
    "    # Train the classifier\n",
    "    #print \"Trained model in {:.4f} seconds\".format(train_classifier(clf, X_train, y_train))\n",
    "    classifier_name=clf.__class__.__name__\n",
    "    class_size=len(X_train)\n",
    "    dictKey=classifier_name +\"_\"+str(class_size)\n",
    "    \n",
    "    train_time=train_classifier(clf, X_train, y_train)\n",
    "    pred_time_test=predict_labels(clf, X_test, y_test)[1]\n",
    "    f1_score_train=predict_labels(clf, X_train, y_train)[0]\n",
    "    f1_score_test=predict_labels(clf, X_test, y_test)[0]\n",
    "    df_dict[dictKey]={'Training Time':train_time,'Prediction Time (test)':pred_time_test,'F1 Score (train)':f1_score_train,'F1 Score (test)':f1_score_test}\n",
    "    #print('Train Time: ',train_time, ' Pred Time: ',pred_time, 'f1_score :',f1_score)\n",
    "    #print(df_dict)\n",
    "    \n",
    "    #results=pd.DataFrame(df_dict).stack().unstack(0) # to Transpose the data\n",
    "    #results.head()\n",
    "    # Print the results of prediction for both training and testing\n",
    "    #print (\"F1 score for training set:\", predict_labels(clf, X_train, y_train)) #{:.4f}.\".format(predict_labels(clf, X_train, y_train))\n",
    "    #print (\"F1 score for test set:\",predict_labels(clf, X_test, y_test))# {:.4f}.\".format(predict_labels(clf, X_test, y_test))"
   ]
  },
  {
   "cell_type": "code",
   "execution_count": null,
   "metadata": {
    "collapsed": false
   },
   "outputs": [],
   "source": []
  },
  {
   "cell_type": "code",
   "execution_count": 136,
   "metadata": {
    "collapsed": false
   },
   "outputs": [],
   "source": [
    "#y_train.sample(n=2)"
   ]
  },
  {
   "cell_type": "code",
   "execution_count": 43,
   "metadata": {
    "collapsed": false
   },
   "outputs": [
    {
     "data": {
      "text/html": [
       "<div>\n",
       "<table border=\"1\" class=\"dataframe\">\n",
       "  <thead>\n",
       "    <tr style=\"text-align: right;\">\n",
       "      <th></th>\n",
       "      <th>school_GP</th>\n",
       "      <th>school_MS</th>\n",
       "      <th>sex_F</th>\n",
       "      <th>sex_M</th>\n",
       "      <th>age</th>\n",
       "      <th>address_R</th>\n",
       "      <th>address_U</th>\n",
       "      <th>famsize_GT3</th>\n",
       "      <th>famsize_LE3</th>\n",
       "      <th>Pstatus_A</th>\n",
       "      <th>...</th>\n",
       "      <th>higher</th>\n",
       "      <th>internet</th>\n",
       "      <th>romantic</th>\n",
       "      <th>famrel</th>\n",
       "      <th>freetime</th>\n",
       "      <th>goout</th>\n",
       "      <th>Dalc</th>\n",
       "      <th>Walc</th>\n",
       "      <th>health</th>\n",
       "      <th>absences</th>\n",
       "    </tr>\n",
       "  </thead>\n",
       "  <tbody>\n",
       "    <tr>\n",
       "      <th>141</th>\n",
       "      <td>1</td>\n",
       "      <td>0</td>\n",
       "      <td>0</td>\n",
       "      <td>1</td>\n",
       "      <td>16</td>\n",
       "      <td>0</td>\n",
       "      <td>1</td>\n",
       "      <td>0</td>\n",
       "      <td>1</td>\n",
       "      <td>0</td>\n",
       "      <td>...</td>\n",
       "      <td>1</td>\n",
       "      <td>1</td>\n",
       "      <td>0</td>\n",
       "      <td>2</td>\n",
       "      <td>3</td>\n",
       "      <td>3</td>\n",
       "      <td>2</td>\n",
       "      <td>2</td>\n",
       "      <td>2</td>\n",
       "      <td>8</td>\n",
       "    </tr>\n",
       "  </tbody>\n",
       "</table>\n",
       "<p>1 rows × 48 columns</p>\n",
       "</div>"
      ],
      "text/plain": [
       "     school_GP  school_MS  sex_F  sex_M  age  address_R  address_U  \\\n",
       "141          1          0      0      1   16          0          1   \n",
       "\n",
       "     famsize_GT3  famsize_LE3  Pstatus_A    ...     higher  internet  \\\n",
       "141            0            1          0    ...          1         1   \n",
       "\n",
       "     romantic  famrel  freetime  goout  Dalc  Walc  health  absences  \n",
       "141         0       2         3      3     2     2       2         8  \n",
       "\n",
       "[1 rows x 48 columns]"
      ]
     },
     "execution_count": 43,
     "metadata": {},
     "output_type": "execute_result"
    }
   ],
   "source": [
    "# Working with dividing Train Data for X and y\n",
    "# add the Train samples in a list\n",
    "X_train_100 = X_train.sample(n=100)\n",
    "y_train_100 = y_train.sample(n=100)\n",
    "X_train.head(1)"
   ]
  },
  {
   "cell_type": "code",
   "execution_count": null,
   "metadata": {
    "collapsed": false
   },
   "outputs": [],
   "source": []
  },
  {
   "cell_type": "markdown",
   "metadata": {},
   "source": [
    "### Implementation: Model Performance Metrics\n",
    "With the predefined functions above, you will now import the three supervised learning models of your choice and run the `train_predict` function for each one. Remember that you will need to train and predict on each classifier for three different training set sizes: 100, 200, and 300. Hence, you should expect to have 9 different outputs below — 3 for each model using the varying training set sizes. In the following code cell, you will need to implement the following:\n",
    "- Import the three supervised learning models you've discussed in the previous section.\n",
    "- Initialize the three models and store them in `clf_A`, `clf_B`, and `clf_C`.\n",
    " - Use a `random_state` for each model you use, if provided.\n",
    " - **Note:** Use the default settings for each model — you will tune one specific model in a later section.\n",
    "- Create the different training set sizes to be used to train each model.\n",
    " - *Do not reshuffle and resplit the data! The new training points should be drawn from `X_train` and `y_train`.*\n",
    "- Fit each model with each training set size and make predictions on the test set (9 in total).  \n",
    "**Note:** Three tables are provided after the following code cell which can be used to store your results."
   ]
  },
  {
   "cell_type": "code",
   "execution_count": 132,
   "metadata": {
    "collapsed": false
   },
   "outputs": [],
   "source": [
    "# TODO: Import the three supervised learning models from sklearn\n",
    "from sklearn.naive_bayes import GaussianNB\n",
    "from sklearn.tree import DecisionTreeClassifier\n",
    "from sklearn.neighbors import KNeighborsClassifier\n",
    "from sklearn.linear_model import SGDClassifier\n",
    "from sklearn.model_selection import RandomizedSearchCV\n",
    "from sklearn.svm import SVC\n",
    "from sklearn.linear_model import LogisticRegression\n",
    "from sklearn.ensemble import AdaBoostClassifier\n",
    "from sklearn.ensemble import GradientBoostingClassifier\n",
    "from sklearn.ensemble import RandomForestClassifier\n",
    "\n",
    "# a Dictionary which holds the results\n",
    "df_dict={}\n",
    "# TODO: Initialize the three models\n",
    "clf_NB = GaussianNB()\n",
    "for i in np.arange(100,400,100):\n",
    "    #print i\n",
    "    train_predict(clf_NB, X_train.sample(n=i), y_train.sample(n=i), X_test, y_test)\n",
    "\n",
    "# DecisionTreeClassifier\n",
    "clf_DescisionTree = DecisionTreeClassifier(random_state=0)\n",
    "for i in np.arange(100,400,100):\n",
    "    train_predict(clf_DescisionTree, X_train.sample(n=i), y_train.sample(n=i), X_test, y_test)\n",
    "\n",
    "#Using AdaBoosting\n",
    "clf_EM = AdaBoostClassifier()\n",
    "for i in np.arange(100,400,100):\n",
    "    train_predict(clf_EM, X_train.sample(n=i), y_train.sample(n=i), X_test, y_test)\n",
    "    \n",
    "# Using Gradient Boosting\n",
    "clf_GradBoost=GradientBoostingClassifier(n_estimators=100, learning_rate=1.0,max_depth=1, random_state=0)\n",
    "for i in np.arange(100,400,100):\n",
    "    train_predict(clf_GradBoost, X_train.sample(n=i), y_train.sample(n=i), X_test, y_test)\n",
    "\n",
    "# Using Random Forrest Classifier\n",
    "clf_randomF=RandomForestClassifier()\n",
    "for i in np.arange(100,400,100):\n",
    "    train_predict(clf_randomF, X_train.sample(n=i), y_train.sample(n=i), X_test, y_test)\n",
    "    \n",
    "# K Nearset Neighbours \n",
    "# construct the set of hyperparameters to tune\n",
    "#params = {\"n_neighbors\": np.arange(1, 26, 5),\n",
    "#\t\"metric\": [\"euclidean\", \"cityblock\"]}\n",
    "clf_KNN = KNeighborsClassifier()\n",
    "#clf_KNN_CV=RandomizedSearchCV(clf_KNN, params)\n",
    "for i in np.arange(100,400,100):\n",
    "    #print i\n",
    "    train_predict(clf_KNN, X_train.sample(n=i), y_train.sample(n=i), X_test, y_test)\n",
    "\n",
    "# Stochastic Gradient Decsent\n",
    "clf_StoGD = SGDClassifier(loss=\"modified_huber\") #, penalty=\"l2\"\n",
    "for i in np.arange(100,400,100):\n",
    "    train_predict(clf_StoGD, X_train.sample(n=i), y_train.sample(n=i), X_test, y_test)\n",
    "\n",
    "#Solution Vector Classifier\n",
    "parameters = {'C':            np.arange( 1, 100+1, 1 ).tolist(),'kernel':['linear', 'rbf'],# precomputed,'poly', 'sigmoid'\n",
    "    'degree':       np.arange( 0, 100+0, 1 ).tolist(),\n",
    "    'gamma':        np.arange( 0.0, 10.0+0.0, 0.1 ).tolist(),\n",
    "    'coef0':        np.arange( 0.0, 10.0+0.0, 0.1 ).tolist(),\n",
    "}\n",
    "clf_svc = SVC()\n",
    "clf_svc_CV=RandomizedSearchCV(clf_svc,parameters)\n",
    "for i in np.arange(100,400,100):\n",
    "    train_predict(clf_svc, X_train.sample(n=i), y_train.sample(n=i), X_test, y_test)\n",
    "#print(clf_svc_CV.best_estimator_)\n",
    "\n",
    "# Logistic Regression \n",
    "clf_LR = LogisticRegression()\n",
    "for i in np.arange(100,400,100):\n",
    "    train_predict(clf_LR, X_train.sample(n=i), y_train.sample(n=i), X_test, y_test)\n",
    "\n",
    "# TODO: Set up the training set sizes\n",
    "# TODO: Execute the 'train_predict' function for each classifier and each training set size\n"
   ]
  },
  {
   "cell_type": "code",
   "execution_count": 133,
   "metadata": {
    "collapsed": false
   },
   "outputs": [
    {
     "data": {
      "text/html": [
       "<div>\n",
       "<table border=\"1\" class=\"dataframe\">\n",
       "  <thead>\n",
       "    <tr style=\"text-align: right;\">\n",
       "      <th></th>\n",
       "      <th>F1 Score (test)</th>\n",
       "      <th>F1 Score (train)</th>\n",
       "      <th>Prediction Time (test)</th>\n",
       "      <th>Training Time</th>\n",
       "    </tr>\n",
       "  </thead>\n",
       "  <tbody>\n",
       "    <tr>\n",
       "      <th>AdaBoostClassifier_100</th>\n",
       "      <td>0.610169</td>\n",
       "      <td>0.923077</td>\n",
       "      <td>0.00394</td>\n",
       "      <td>0.09564</td>\n",
       "    </tr>\n",
       "    <tr>\n",
       "      <th>AdaBoostClassifier_200</th>\n",
       "      <td>0.710145</td>\n",
       "      <td>0.831615</td>\n",
       "      <td>0.00358</td>\n",
       "      <td>0.10404</td>\n",
       "    </tr>\n",
       "    <tr>\n",
       "      <th>AdaBoostClassifier_300</th>\n",
       "      <td>0.769231</td>\n",
       "      <td>0.825397</td>\n",
       "      <td>0.00359</td>\n",
       "      <td>0.10620</td>\n",
       "    </tr>\n",
       "    <tr>\n",
       "      <th>DecisionTreeClassifier_100</th>\n",
       "      <td>0.656716</td>\n",
       "      <td>1.000000</td>\n",
       "      <td>0.00022</td>\n",
       "      <td>0.00070</td>\n",
       "    </tr>\n",
       "    <tr>\n",
       "      <th>DecisionTreeClassifier_200</th>\n",
       "      <td>0.729927</td>\n",
       "      <td>1.000000</td>\n",
       "      <td>0.00018</td>\n",
       "      <td>0.00127</td>\n",
       "    </tr>\n",
       "    <tr>\n",
       "      <th>DecisionTreeClassifier_300</th>\n",
       "      <td>0.656250</td>\n",
       "      <td>1.000000</td>\n",
       "      <td>0.00020</td>\n",
       "      <td>0.00164</td>\n",
       "    </tr>\n",
       "    <tr>\n",
       "      <th>GaussianNB_100</th>\n",
       "      <td>0.340909</td>\n",
       "      <td>0.536082</td>\n",
       "      <td>0.00036</td>\n",
       "      <td>0.00100</td>\n",
       "    </tr>\n",
       "    <tr>\n",
       "      <th>GaussianNB_200</th>\n",
       "      <td>0.564103</td>\n",
       "      <td>0.704000</td>\n",
       "      <td>0.00025</td>\n",
       "      <td>0.00064</td>\n",
       "    </tr>\n",
       "    <tr>\n",
       "      <th>GaussianNB_300</th>\n",
       "      <td>0.753623</td>\n",
       "      <td>0.760766</td>\n",
       "      <td>0.00028</td>\n",
       "      <td>0.00083</td>\n",
       "    </tr>\n",
       "    <tr>\n",
       "      <th>GradientBoostingClassifier_100</th>\n",
       "      <td>0.656000</td>\n",
       "      <td>0.949640</td>\n",
       "      <td>0.00027</td>\n",
       "      <td>0.01909</td>\n",
       "    </tr>\n",
       "    <tr>\n",
       "      <th>GradientBoostingClassifier_200</th>\n",
       "      <td>0.724638</td>\n",
       "      <td>0.897260</td>\n",
       "      <td>0.00025</td>\n",
       "      <td>0.02213</td>\n",
       "    </tr>\n",
       "    <tr>\n",
       "      <th>GradientBoostingClassifier_300</th>\n",
       "      <td>0.700730</td>\n",
       "      <td>0.839729</td>\n",
       "      <td>0.00030</td>\n",
       "      <td>0.02493</td>\n",
       "    </tr>\n",
       "    <tr>\n",
       "      <th>KNeighborsClassifier_100</th>\n",
       "      <td>0.739130</td>\n",
       "      <td>0.791946</td>\n",
       "      <td>0.00170</td>\n",
       "      <td>0.00045</td>\n",
       "    </tr>\n",
       "    <tr>\n",
       "      <th>KNeighborsClassifier_200</th>\n",
       "      <td>0.718310</td>\n",
       "      <td>0.780822</td>\n",
       "      <td>0.00184</td>\n",
       "      <td>0.00046</td>\n",
       "    </tr>\n",
       "    <tr>\n",
       "      <th>KNeighborsClassifier_300</th>\n",
       "      <td>0.753425</td>\n",
       "      <td>0.817552</td>\n",
       "      <td>0.00223</td>\n",
       "      <td>0.00056</td>\n",
       "    </tr>\n",
       "    <tr>\n",
       "      <th>LogisticRegression_100</th>\n",
       "      <td>0.608000</td>\n",
       "      <td>0.865672</td>\n",
       "      <td>0.00018</td>\n",
       "      <td>0.00101</td>\n",
       "    </tr>\n",
       "    <tr>\n",
       "      <th>LogisticRegression_200</th>\n",
       "      <td>0.780142</td>\n",
       "      <td>0.800000</td>\n",
       "      <td>0.00014</td>\n",
       "      <td>0.00154</td>\n",
       "    </tr>\n",
       "    <tr>\n",
       "      <th>LogisticRegression_300</th>\n",
       "      <td>0.724832</td>\n",
       "      <td>0.793792</td>\n",
       "      <td>0.00014</td>\n",
       "      <td>0.00233</td>\n",
       "    </tr>\n",
       "    <tr>\n",
       "      <th>RandomForestClassifier_100</th>\n",
       "      <td>0.789116</td>\n",
       "      <td>1.000000</td>\n",
       "      <td>0.00523</td>\n",
       "      <td>0.02297</td>\n",
       "    </tr>\n",
       "    <tr>\n",
       "      <th>RandomForestClassifier_200</th>\n",
       "      <td>0.714286</td>\n",
       "      <td>1.000000</td>\n",
       "      <td>0.00506</td>\n",
       "      <td>0.02364</td>\n",
       "    </tr>\n",
       "    <tr>\n",
       "      <th>RandomForestClassifier_300</th>\n",
       "      <td>0.686131</td>\n",
       "      <td>0.997519</td>\n",
       "      <td>0.00504</td>\n",
       "      <td>0.02609</td>\n",
       "    </tr>\n",
       "    <tr>\n",
       "      <th>SGDClassifier_100</th>\n",
       "      <td>0.805195</td>\n",
       "      <td>0.812500</td>\n",
       "      <td>0.00015</td>\n",
       "      <td>0.00046</td>\n",
       "    </tr>\n",
       "    <tr>\n",
       "      <th>SGDClassifier_200</th>\n",
       "      <td>0.805031</td>\n",
       "      <td>0.795181</td>\n",
       "      <td>0.00014</td>\n",
       "      <td>0.00054</td>\n",
       "    </tr>\n",
       "    <tr>\n",
       "      <th>SGDClassifier_300</th>\n",
       "      <td>0.261905</td>\n",
       "      <td>0.369231</td>\n",
       "      <td>0.00014</td>\n",
       "      <td>0.00064</td>\n",
       "    </tr>\n",
       "    <tr>\n",
       "      <th>SVC_100</th>\n",
       "      <td>0.805031</td>\n",
       "      <td>0.787879</td>\n",
       "      <td>0.00071</td>\n",
       "      <td>0.00107</td>\n",
       "    </tr>\n",
       "    <tr>\n",
       "      <th>SVC_200</th>\n",
       "      <td>0.805031</td>\n",
       "      <td>0.838509</td>\n",
       "      <td>0.00108</td>\n",
       "      <td>0.00285</td>\n",
       "    </tr>\n",
       "    <tr>\n",
       "      <th>SVC_300</th>\n",
       "      <td>0.805031</td>\n",
       "      <td>0.808853</td>\n",
       "      <td>0.00153</td>\n",
       "      <td>0.00624</td>\n",
       "    </tr>\n",
       "  </tbody>\n",
       "</table>\n",
       "</div>"
      ],
      "text/plain": [
       "                                F1 Score (test)  F1 Score (train)  \\\n",
       "AdaBoostClassifier_100                 0.610169          0.923077   \n",
       "AdaBoostClassifier_200                 0.710145          0.831615   \n",
       "AdaBoostClassifier_300                 0.769231          0.825397   \n",
       "DecisionTreeClassifier_100             0.656716          1.000000   \n",
       "DecisionTreeClassifier_200             0.729927          1.000000   \n",
       "DecisionTreeClassifier_300             0.656250          1.000000   \n",
       "GaussianNB_100                         0.340909          0.536082   \n",
       "GaussianNB_200                         0.564103          0.704000   \n",
       "GaussianNB_300                         0.753623          0.760766   \n",
       "GradientBoostingClassifier_100         0.656000          0.949640   \n",
       "GradientBoostingClassifier_200         0.724638          0.897260   \n",
       "GradientBoostingClassifier_300         0.700730          0.839729   \n",
       "KNeighborsClassifier_100               0.739130          0.791946   \n",
       "KNeighborsClassifier_200               0.718310          0.780822   \n",
       "KNeighborsClassifier_300               0.753425          0.817552   \n",
       "LogisticRegression_100                 0.608000          0.865672   \n",
       "LogisticRegression_200                 0.780142          0.800000   \n",
       "LogisticRegression_300                 0.724832          0.793792   \n",
       "RandomForestClassifier_100             0.789116          1.000000   \n",
       "RandomForestClassifier_200             0.714286          1.000000   \n",
       "RandomForestClassifier_300             0.686131          0.997519   \n",
       "SGDClassifier_100                      0.805195          0.812500   \n",
       "SGDClassifier_200                      0.805031          0.795181   \n",
       "SGDClassifier_300                      0.261905          0.369231   \n",
       "SVC_100                                0.805031          0.787879   \n",
       "SVC_200                                0.805031          0.838509   \n",
       "SVC_300                                0.805031          0.808853   \n",
       "\n",
       "                                Prediction Time (test)  Training Time  \n",
       "AdaBoostClassifier_100                         0.00394        0.09564  \n",
       "AdaBoostClassifier_200                         0.00358        0.10404  \n",
       "AdaBoostClassifier_300                         0.00359        0.10620  \n",
       "DecisionTreeClassifier_100                     0.00022        0.00070  \n",
       "DecisionTreeClassifier_200                     0.00018        0.00127  \n",
       "DecisionTreeClassifier_300                     0.00020        0.00164  \n",
       "GaussianNB_100                                 0.00036        0.00100  \n",
       "GaussianNB_200                                 0.00025        0.00064  \n",
       "GaussianNB_300                                 0.00028        0.00083  \n",
       "GradientBoostingClassifier_100                 0.00027        0.01909  \n",
       "GradientBoostingClassifier_200                 0.00025        0.02213  \n",
       "GradientBoostingClassifier_300                 0.00030        0.02493  \n",
       "KNeighborsClassifier_100                       0.00170        0.00045  \n",
       "KNeighborsClassifier_200                       0.00184        0.00046  \n",
       "KNeighborsClassifier_300                       0.00223        0.00056  \n",
       "LogisticRegression_100                         0.00018        0.00101  \n",
       "LogisticRegression_200                         0.00014        0.00154  \n",
       "LogisticRegression_300                         0.00014        0.00233  \n",
       "RandomForestClassifier_100                     0.00523        0.02297  \n",
       "RandomForestClassifier_200                     0.00506        0.02364  \n",
       "RandomForestClassifier_300                     0.00504        0.02609  \n",
       "SGDClassifier_100                              0.00015        0.00046  \n",
       "SGDClassifier_200                              0.00014        0.00054  \n",
       "SGDClassifier_300                              0.00014        0.00064  \n",
       "SVC_100                                        0.00071        0.00107  \n",
       "SVC_200                                        0.00108        0.00285  \n",
       "SVC_300                                        0.00153        0.00624  "
      ]
     },
     "execution_count": 133,
     "metadata": {},
     "output_type": "execute_result"
    }
   ],
   "source": [
    "results=pd.DataFrame(df_dict)\n",
    "results.stack().unstack(0)"
   ]
  },
  {
   "cell_type": "code",
   "execution_count": null,
   "metadata": {
    "collapsed": false
   },
   "outputs": [],
   "source": []
  },
  {
   "cell_type": "markdown",
   "metadata": {},
   "source": [
    "### Tabular Results\n",
    "Edit the cell below to see how a table can be designed in [Markdown](https://github.com/adam-p/markdown-here/wiki/Markdown-Cheatsheet#tables). You can record your results from above in the tables provided."
   ]
  },
  {
   "cell_type": "markdown",
   "metadata": {},
   "source": [
    "** Classifer 1 - ?**  \n",
    "\n",
    "| Training Set Size | Training Time | Prediction Time (test) | F1 Score (train) | F1 Score (test) |\n",
    "| :---------------: | :---------------------: | :--------------------: | :--------------: | :-------------: |\n",
    "| 100               |                         |                        |                  |                 |\n",
    "| 200               |        EXAMPLE          |                        |                  |                 |\n",
    "| 300               |                         |                        |                  |    EXAMPLE      |\n",
    "\n",
    "** Classifer 2 - ?**  \n",
    "\n",
    "| Training Set Size | Training Time | Prediction Time (test) | F1 Score (train) | F1 Score (test) |\n",
    "| :---------------: | :---------------------: | :--------------------: | :--------------: | :-------------: |\n",
    "| 100               |                         |                        |                  |                 |\n",
    "| 200               |     EXAMPLE             |                        |                  |                 |\n",
    "| 300               |                         |                        |                  |     EXAMPLE     |\n",
    "\n",
    "** Classifer 3 - ?**  \n",
    "\n",
    "| Training Set Size | Training Time | Prediction Time (test) | F1 Score (train) | F1 Score (test) |\n",
    "| :---------------: | :---------------------: | :--------------------: | :--------------: | :-------------: |\n",
    "| 100               |                         |                        |                  |                 |\n",
    "| 200               |                         |                        |                  |                 |\n",
    "| 300               |                         |                        |                  |                 |"
   ]
  },
  {
   "cell_type": "markdown",
   "metadata": {},
   "source": [
    "## Choosing the Best Model\n",
    "In this final section, you will choose from the three supervised learning models the *best* model to use on the student data. You will then perform a grid search optimization for the model over the entire training set (`X_train` and `y_train`) by tuning at least one parameter to improve upon the untuned model's F<sub>1</sub> score. "
   ]
  },
  {
   "cell_type": "markdown",
   "metadata": {},
   "source": [
    "### Question 3 - Choosing the Best Model\n",
    "*Based on the experiments you performed earlier, in one to two paragraphs, explain to the board of supervisors what single model you chose as the best model. Which model is generally the most appropriate based on the available data, limited resources, cost, and performance?*"
   ]
  },
  {
   "cell_type": "markdown",
   "metadata": {},
   "source": [
    "**Answer: **"
   ]
  },
  {
   "cell_type": "markdown",
   "metadata": {},
   "source": [
    "### Question 4 - Model in Layman's Terms\n",
    "*In one to two paragraphs, explain to the board of directors in layman's terms how the final model chosen is supposed to work. Be sure that you are describing the major qualities of the model, such as how the model is trained and how the model makes a prediction. Avoid using advanced mathematical or technical jargon, such as describing equations or discussing the algorithm implementation.*"
   ]
  },
  {
   "cell_type": "markdown",
   "metadata": {},
   "source": [
    "**Answer: **"
   ]
  },
  {
   "cell_type": "markdown",
   "metadata": {},
   "source": [
    "### Implementation: Model Tuning\n",
    "Fine tune the chosen model. Use grid search (`GridSearchCV`) with at least one important parameter tuned with at least 3 different values. You will need to use the entire training set for this. In the code cell below, you will need to implement the following:\n",
    "- Import [`sklearn.grid_search.GridSearchCV`](http://scikit-learn.org/0.17/modules/generated/sklearn.grid_search.GridSearchCV.html) and [`sklearn.metrics.make_scorer`](http://scikit-learn.org/stable/modules/generated/sklearn.metrics.make_scorer.html).\n",
    "- Create a dictionary of parameters you wish to tune for the chosen model.\n",
    " - Example: `parameters = {'parameter' : [list of values]}`.\n",
    "- Initialize the classifier you've chosen and store it in `clf`.\n",
    "- Create the F<sub>1</sub> scoring function using `make_scorer` and store it in `f1_scorer`.\n",
    " - Set the `pos_label` parameter to the correct value!\n",
    "- Perform grid search on the classifier `clf` using `f1_scorer` as the scoring method, and store it in `grid_obj`.\n",
    "- Fit the grid search object to the training data (`X_train`, `y_train`), and store it in `grid_obj`."
   ]
  },
  {
   "cell_type": "code",
   "execution_count": null,
   "metadata": {
    "collapsed": false
   },
   "outputs": [],
   "source": [
    "# TODO: Import 'GridSearchCV' and 'make_scorer'\n",
    "\n",
    "# TODO: Create the parameters list you wish to tune\n",
    "parameters = None\n",
    "\n",
    "# TODO: Initialize the classifier\n",
    "clf = None\n",
    "\n",
    "# TODO: Make an f1 scoring function using 'make_scorer' \n",
    "f1_scorer = None\n",
    "\n",
    "# TODO: Perform grid search on the classifier using the f1_scorer as the scoring method\n",
    "grid_obj = None\n",
    "\n",
    "# TODO: Fit the grid search object to the training data and find the optimal parameters\n",
    "grid_obj = None\n",
    "\n",
    "# Get the estimator\n",
    "clf = grid_obj.best_estimator_\n",
    "\n",
    "# Report the final F1 score for training and testing after parameter tuning\n",
    "print \"Tuned model has a training F1 score of {:.4f}.\".format(predict_labels(clf, X_train, y_train))\n",
    "print \"Tuned model has a testing F1 score of {:.4f}.\".format(predict_labels(clf, X_test, y_test))"
   ]
  },
  {
   "cell_type": "markdown",
   "metadata": {},
   "source": [
    "### Question 5 - Final F<sub>1</sub> Score\n",
    "*What is the final model's F<sub>1</sub> score for training and testing? How does that score compare to the untuned model?*"
   ]
  },
  {
   "cell_type": "markdown",
   "metadata": {},
   "source": [
    "**Answer: **"
   ]
  },
  {
   "cell_type": "markdown",
   "metadata": {},
   "source": [
    "> **Note**: Once you have completed all of the code implementations and successfully answered each question above, you may finalize your work by exporting the iPython Notebook as an HTML document. You can do this by using the menu above and navigating to  \n",
    "**File -> Download as -> HTML (.html)**. Include the finished document along with this notebook as your submission."
   ]
  }
 ],
 "metadata": {
  "kernelspec": {
   "display_name": "Python 2",
   "language": "python",
   "name": "python2"
  },
  "language_info": {
   "codemirror_mode": {
    "name": "ipython",
    "version": 2
   },
   "file_extension": ".py",
   "mimetype": "text/x-python",
   "name": "python",
   "nbconvert_exporter": "python",
   "pygments_lexer": "ipython2",
   "version": "2.7.13"
  }
 },
 "nbformat": 4,
 "nbformat_minor": 0
}
