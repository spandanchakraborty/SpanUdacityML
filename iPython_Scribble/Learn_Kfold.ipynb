{
 "cells": [
  {
   "cell_type": "code",
   "execution_count": 19,
   "metadata": {
    "collapsed": false
   },
   "outputs": [
    {
     "name": "stdout",
     "output_type": "stream",
     "text": [
      "sklearn.cross_validation.KFold(n=100, n_folds=3, shuffle=True, random_state=None)\n",
      "Regressor score: 0.4533\n",
      "[ 0.62048772  0.20355355  0.25528816  0.40147239  0.46092689]\n",
      "[ 0.27433576  0.25608945  0.31830588  0.38203757  0.32195551]\n",
      "[ 6 21 36 51 66]\n"
     ]
    },
    {
     "data": {
      "image/png": "[encoded data removed]",
      "text/plain": [
       "<matplotlib.figure.Figure at 0x10ee89ad0>"
      ]
     },
     "metadata": {},
     "output_type": "display_data"
    }
   ],
   "source": [
    "# In this exercise we'll examine a learner which has high bias, and is incapable of\n",
    "# learning the patterns in the data.\n",
    "# Use the learning curve function from sklearn.learning_curve to plot learning curves\n",
    "# of both training and testing error.\n",
    "\n",
    "from sklearn.linear_model import LinearRegression\n",
    "from sklearn.learning_curve import learning_curve\n",
    "import matplotlib.pyplot as plt\n",
    "from sklearn.metrics import explained_variance_score, make_scorer\n",
    "from sklearn.cross_validation import KFold\n",
    "import numpy as np\n",
    "%matplotlib inline\n",
    "\n",
    "# Set the learning curve parameters; you'll need this for learning_curves\n",
    "size = 100\n",
    "cv_sets = KFold(size, shuffle=True)\n",
    "print(cv_sets)\n",
    "scorer = make_scorer(explained_variance_score)\n",
    "\n",
    "# Create a series of data that forces a learner to have high bias\n",
    "# Note for this quiz you do not need to create training and testing sets\n",
    "X = np.reshape(np.random.normal(scale=2,size=size),(-1,1))\n",
    "y = np.array([[1 - 2*x[0] +x[0]**2] for x in X])\n",
    "\n",
    "\n",
    "\n",
    "reg = LinearRegression()\n",
    "reg.fit(X,y)\n",
    "print \"Regressor score: {:.4f}\".format(reg.score(X,y))\n",
    "\n",
    "# TODO: Use learning_curve imported above to create learning curves from X and y.\n",
    "# You will need to use 'cv_sets' and 'scorer' as parameters in the function.\n",
    "\n",
    "train_sizes, train_scores, test_scores = learning_curve(reg, X,y, cv=cv_sets,scoring=scorer)\n",
    "m_train_scores=np.mean(train_scores, axis=1)\n",
    "m_test_scores=np.mean(test_scores, axis=1)\n",
    "print(m_train_scores)\n",
    "print(m_test_scores)\n",
    "print(train_sizes)\n",
    "\n",
    "# TODO: Plot the learning curves for both the training scores and testing scores.\n",
    "#       Use plt.plot() twice -- one for each score. Be sure to give them labels!\n",
    "# NOTE: Using plt.plot(train_scores) will get you 6 lines when we are looking to \n",
    "# plot just 2(mean scores for training and testing). \n",
    "# You can use np.mean(train_scores, axis =1) to get mean train_scores values. \n",
    "# Similarly you can get the mean for the test_scores.\n",
    "plt.plot(train_sizes,m_train_scores,label='Train_Scores',color='r',marker='+')\n",
    "plt.plot(train_sizes,m_test_scores,label='Test_Scores',color='g',marker='2')\n",
    "# Plot aesthetics\n",
    "plt.ylim(-0.1, 1.1)\n",
    "plt.ylabel(\"Curve Score\")\n",
    "plt.xlabel(\"Training Points\")\n",
    "plt.legend(bbox_to_anchor=(1.1, 1.1))\n",
    "plt.show()"
   ]
  },
  {
   "cell_type": "code",
   "execution_count": null,
   "metadata": {
    "collapsed": true
   },
   "outputs": [],
   "source": [
    "from __future__ import print_function\n",
    "\n",
    "from time import time\n",
    "import logging\n",
    "import matplotlib.pyplot as plt\n",
    "\n",
    "from sklearn.model_selection import train_test_split\n",
    "from sklearn.model_selection import GridSearchCV\n",
    "from sklearn.datasets import fetch_lfw_people\n",
    "from sklearn.metrics import classification_report\n",
    "from sklearn.metrics import confusion_matrix\n",
    "from sklearn.decomposition import PCA\n",
    "from sklearn.svm import SVC"
   ]
  }
 ],
 "metadata": {
  "celltoolbar": "Edit Metadata",
  "kernelspec": {
   "display_name": "Python 2",
   "language": "python",
   "name": "python2"
  },
  "language_info": {
   "codemirror_mode": {
    "name": "ipython",
    "version": 2
   },
   "file_extension": ".py",
   "mimetype": "text/x-python",
   "name": "python",
   "nbconvert_exporter": "python",
   "pygments_lexer": "ipython2",
   "version": "2.7.13"
  }
 },
 "nbformat": 4,
 "nbformat_minor": 2
}
