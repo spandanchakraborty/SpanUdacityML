{
 "cells": [
  {
   "cell_type": "markdown",
   "metadata": {},
   "source": [
    "# Connect Intensive - Machine Learning Nanodegree\n",
    "# Lesson 2: Datasets and Questions- Enron Dataset Mini-Project\n",
    "\n",
    "## Objectives\n",
    "  - Work through the Datasets and Questions lesson from [ud-120](https://www.udacity.com/course/intro-to-machine-learning--ud120) within the Jupyter Notebook environment\n",
    "  - Introduce [the `pickle` module](https://docs.python.org/2/library/pickle.html) from the Python Standard Library for preserving data structures in Python\n",
    "  - Practice loading data from different directories\n",
    "  - Review stacking and unstacking in `pandas` to [reshape a `DataFrame`](http://pandas.pydata.org/pandas-docs/stable/reshaping.html)\n",
    "  - Explore and understand data sets, particularly those with many missing values\n",
    "  \n",
    "## Prerequisites\n",
    "  - You should be familiar with `pandas` (lesson 1 in the [UConnect-Intensive repo](https://github.com/ryanjferrin/UConnect-Intensive))"
   ]
  },
  {
   "cell_type": "markdown",
   "metadata": {},
   "source": [
    "## Background\n",
    "\n",
    "The Enron fraud is a big, messy and totally fascinating story about corporate malfeasance of nearly every imaginable type. The Enron email and financial datasets are also big, messy treasure troves of information, which become much more useful once you know your way around them a bit. The Udacity team has combined the email and finance data into a single dataset, which you’ll explore in this mini-project.\n",
    " \n",
    " \n",
    "In the online course [Katie Malone](http://blog.udacity.com/2016/04/women-in-machine-learning-katie-malone.html) discusses the Enron scandal, introduces the Enron email corpus and defines and identifies a person-of-interest (POI). \n",
    "\n",
    "**POI**: Indicted, settled without admitting guilt, testified in exchange for immunity.\n",
    "\n",
    "**Goal**: Use machine learning to answer the question:  \n",
    "\n",
    "**\"Can we identify patterns in the emails of people who were POIs?\"**\n",
    "\n",
    "\n"
   ]
  },
  {
   "cell_type": "markdown",
   "metadata": {},
   "source": [
    "## Getting Started\n",
    "The Datasets and Questions lesson in the Data Modeling section is based on Enron finance and email data. These datasets are located in the [**ud120-projects** repo](https://github.com/udacity/ud120-projects) on GitHub. Please clone the **ud120-projects** repo to your local machine. "
   ]
  },
  {
   "cell_type": "markdown",
   "metadata": {},
   "source": [
    "## Pickle\n",
    " [The `pickle` module](https://docs.python.org/2/library/pickle.html) is a fast, efficient way to preserve (or pickle) data structures (*e.g.* dictionaries, lists, tuples, sets...), without having to structure or organize your output file. `Pickle` will know exactly how to serialize (or write) those structures to file. You can un-pickle the data structures using `pickle.load()`. \n",
    "\n",
    "\n",
    "More details regarding `pickle` can be found here-[this reference on Serializing Python Objects](http://www.diveintopython3.net/serializing.html) from Dive Into Python 3.\n",
    "\n",
    "**Run** the cell below to import the `pickle` module. (**shift + enter** or **shift + return**)"
   ]
  },
  {
   "cell_type": "code",
   "execution_count": 1,
   "metadata": {
    "collapsed": false
   },
   "outputs": [
    {
     "name": "stdout",
     "output_type": "stream",
     "text": [
      "Successfully imported pickle!\n"
     ]
    }
   ],
   "source": [
    "try:\n",
    "    import pickle\n",
    "    print(\"Successfully imported pickle!\")\n",
    "except ImportError:\n",
    "    print(\"Could not import pickle\")"
   ]
  },
  {
   "cell_type": "markdown",
   "metadata": {},
   "source": [
    "## Update working directory \n",
    "\n",
    "The [Magic Function](http://ipython.readthedocs.io/en/stable/interactive/tutorial.html#magics-explained) `%cd \"...\"` changes the working directory in the Jupyter Notebook.\n",
    "\n",
    "**Update** the Magic Function `%cd \"...\"` in the cell below to indicate the correct path of the **ud120-projects** directory on your local machine.\n",
    "\n",
    "Then **run** the cell below to load the Enron data!"
   ]
  },
  {
   "cell_type": "code",
   "execution_count": 2,
   "metadata": {
    "collapsed": false
   },
   "outputs": [
    {
     "name": "stdout",
     "output_type": "stream",
     "text": [
      "/Users/spandanchakraborty/Documents/Udacity/SpanGit/U_ML/ud120-projects-master\n",
      "Enron dataset loaded succesfully!\n"
     ]
    }
   ],
   "source": [
    "# Ensure that you write the full path, up to and including \"ud120-projects\"\n",
    "%cd \"/Users/spandanchakraborty/Documents/Udacity/SpanGit/U_ML/ud120-projects-master\"\n",
    "\n",
    "try:\n",
    "    enron_data = pickle.load(open(\"final_project/final_project_dataset.pkl\", \"r\")) # May require \"rb\" instead of \"r\"\n",
    "    print(\"Enron dataset loaded succesfully!\")\n",
    "except IOError:\n",
    "    print(\"Enron dataset not loaded\")"
   ]
  },
  {
   "cell_type": "markdown",
   "metadata": {},
   "source": [
    "## Transforming data from Dictionary to DataFrame\n",
    "The variable `enron_data` is a dictionary object. Dictionaries are not displayed as nicely as `pandas` `DataFrame` objects within the Jupyter Notebook environment. Let's convert `enron_data` to a `DataFrame` object. \n",
    "\n",
    "Use either [the method `pandas.DataFrame.from_dict()`](http://pandas.pydata.org/pandas-docs/stable/generated/pandas.DataFrame.from_dict.html) or simply use [the constructor `pandas.DataFrame()`](http://pandas.pydata.org/pandas-docs/stable/generated/pandas.DataFrame.html) either works. \n",
    "\n",
    "**Run** the cell below to:\n",
    "  - import `pandas` and `display`.\n",
    "  - set some display options.\n",
    "  - create a `DataFrame` object for the Enron data.\n",
    "  - display the Enron data."
   ]
  },
  {
   "cell_type": "code",
   "execution_count": 9,
   "metadata": {
    "collapsed": false
   },
   "outputs": [
    {
     "name": "stdout",
     "output_type": "stream",
     "text": [
      "Successfully imported pandas! (Version 0.19.2)\n",
      "Successfully imported display from IPython.display!\n"
     ]
    },
    {
     "data": {
      "text/html": [
       "<div>\n",
       "<table border=\"1\" class=\"dataframe\">\n",
       "  <thead>\n",
       "    <tr style=\"text-align: right;\">\n",
       "      <th></th>\n",
       "      <th>ALLEN PHILLIP K</th>\n",
       "      <th>BADUM JAMES P</th>\n",
       "      <th>BANNANTINE JAMES M</th>\n",
       "      <th>BAXTER JOHN C</th>\n",
       "      <th>BAY FRANKLIN R</th>\n",
       "      <th>BAZELIDES PHILIP J</th>\n",
       "      <th>BECK SALLY W</th>\n",
       "      <th>BELDEN TIMOTHY N</th>\n",
       "      <th>BELFER ROBERT</th>\n",
       "      <th>BERBERIAN DAVID</th>\n",
       "      <th>...</th>\n",
       "      <th>WASAFF GEORGE</th>\n",
       "      <th>WESTFAHL RICHARD K</th>\n",
       "      <th>WHALEY DAVID A</th>\n",
       "      <th>WHALLEY LAWRENCE G</th>\n",
       "      <th>WHITE JR THOMAS E</th>\n",
       "      <th>WINOKUR JR. HERBERT S</th>\n",
       "      <th>WODRASKA JOHN</th>\n",
       "      <th>WROBEL BRUCE</th>\n",
       "      <th>YEAGER F SCOTT</th>\n",
       "      <th>YEAP SOON</th>\n",
       "    </tr>\n",
       "  </thead>\n",
       "  <tbody>\n",
       "    <tr>\n",
       "      <th>bonus</th>\n",
       "      <td>4175000</td>\n",
       "      <td>NaN</td>\n",
       "      <td>NaN</td>\n",
       "      <td>1200000</td>\n",
       "      <td>400000</td>\n",
       "      <td>NaN</td>\n",
       "      <td>700000</td>\n",
       "      <td>5249999</td>\n",
       "      <td>NaN</td>\n",
       "      <td>NaN</td>\n",
       "      <td>...</td>\n",
       "      <td>325000</td>\n",
       "      <td>NaN</td>\n",
       "      <td>NaN</td>\n",
       "      <td>3000000</td>\n",
       "      <td>450000</td>\n",
       "      <td>NaN</td>\n",
       "      <td>NaN</td>\n",
       "      <td>NaN</td>\n",
       "      <td>NaN</td>\n",
       "      <td>NaN</td>\n",
       "    </tr>\n",
       "    <tr>\n",
       "      <th>deferral_payments</th>\n",
       "      <td>2869717</td>\n",
       "      <td>178980</td>\n",
       "      <td>NaN</td>\n",
       "      <td>1295738</td>\n",
       "      <td>260455</td>\n",
       "      <td>684694</td>\n",
       "      <td>NaN</td>\n",
       "      <td>2144013</td>\n",
       "      <td>-102500</td>\n",
       "      <td>NaN</td>\n",
       "      <td>...</td>\n",
       "      <td>831299</td>\n",
       "      <td>NaN</td>\n",
       "      <td>NaN</td>\n",
       "      <td>NaN</td>\n",
       "      <td>NaN</td>\n",
       "      <td>NaN</td>\n",
       "      <td>NaN</td>\n",
       "      <td>NaN</td>\n",
       "      <td>NaN</td>\n",
       "      <td>NaN</td>\n",
       "    </tr>\n",
       "    <tr>\n",
       "      <th>...</th>\n",
       "      <td>...</td>\n",
       "      <td>...</td>\n",
       "      <td>...</td>\n",
       "      <td>...</td>\n",
       "      <td>...</td>\n",
       "      <td>...</td>\n",
       "      <td>...</td>\n",
       "      <td>...</td>\n",
       "      <td>...</td>\n",
       "      <td>...</td>\n",
       "      <td>...</td>\n",
       "      <td>...</td>\n",
       "      <td>...</td>\n",
       "      <td>...</td>\n",
       "      <td>...</td>\n",
       "      <td>...</td>\n",
       "      <td>...</td>\n",
       "      <td>...</td>\n",
       "      <td>...</td>\n",
       "      <td>...</td>\n",
       "      <td>...</td>\n",
       "    </tr>\n",
       "    <tr>\n",
       "      <th>total_payments</th>\n",
       "      <td>4484442</td>\n",
       "      <td>182466</td>\n",
       "      <td>916197</td>\n",
       "      <td>5634343</td>\n",
       "      <td>827696</td>\n",
       "      <td>860136</td>\n",
       "      <td>969068</td>\n",
       "      <td>5501630</td>\n",
       "      <td>102500</td>\n",
       "      <td>228474</td>\n",
       "      <td>...</td>\n",
       "      <td>1034395</td>\n",
       "      <td>762135</td>\n",
       "      <td>NaN</td>\n",
       "      <td>4677574</td>\n",
       "      <td>1934359</td>\n",
       "      <td>84992</td>\n",
       "      <td>189583</td>\n",
       "      <td>NaN</td>\n",
       "      <td>360300</td>\n",
       "      <td>55097</td>\n",
       "    </tr>\n",
       "    <tr>\n",
       "      <th>total_stock_value</th>\n",
       "      <td>1729541</td>\n",
       "      <td>257817</td>\n",
       "      <td>5243487</td>\n",
       "      <td>10623258</td>\n",
       "      <td>63014</td>\n",
       "      <td>1599641</td>\n",
       "      <td>126027</td>\n",
       "      <td>1110705</td>\n",
       "      <td>-44093</td>\n",
       "      <td>2493616</td>\n",
       "      <td>...</td>\n",
       "      <td>2056427</td>\n",
       "      <td>384930</td>\n",
       "      <td>98718</td>\n",
       "      <td>6079137</td>\n",
       "      <td>15144123</td>\n",
       "      <td>NaN</td>\n",
       "      <td>NaN</td>\n",
       "      <td>139130</td>\n",
       "      <td>11884758</td>\n",
       "      <td>192758</td>\n",
       "    </tr>\n",
       "  </tbody>\n",
       "</table>\n",
       "<p>21 rows × 146 columns</p>\n",
       "</div>"
      ],
      "text/plain": [
       "                  ALLEN PHILLIP K BADUM JAMES P BANNANTINE JAMES M  \\\n",
       "bonus                     4175000           NaN                NaN   \n",
       "deferral_payments         2869717        178980                NaN   \n",
       "...                           ...           ...                ...   \n",
       "total_payments            4484442        182466             916197   \n",
       "total_stock_value         1729541        257817            5243487   \n",
       "\n",
       "                  BAXTER JOHN C BAY FRANKLIN R BAZELIDES PHILIP J  \\\n",
       "bonus                   1200000         400000                NaN   \n",
       "deferral_payments       1295738         260455             684694   \n",
       "...                         ...            ...                ...   \n",
       "total_payments          5634343         827696             860136   \n",
       "total_stock_value      10623258          63014            1599641   \n",
       "\n",
       "                  BECK SALLY W BELDEN TIMOTHY N BELFER ROBERT BERBERIAN DAVID  \\\n",
       "bonus                   700000          5249999           NaN             NaN   \n",
       "deferral_payments          NaN          2144013       -102500             NaN   \n",
       "...                        ...              ...           ...             ...   \n",
       "total_payments          969068          5501630        102500          228474   \n",
       "total_stock_value       126027          1110705        -44093         2493616   \n",
       "\n",
       "                     ...    WASAFF GEORGE WESTFAHL RICHARD K WHALEY DAVID A  \\\n",
       "bonus                ...           325000                NaN            NaN   \n",
       "deferral_payments    ...           831299                NaN            NaN   \n",
       "...                  ...              ...                ...            ...   \n",
       "total_payments       ...          1034395             762135            NaN   \n",
       "total_stock_value    ...          2056427             384930          98718   \n",
       "\n",
       "                  WHALLEY LAWRENCE G WHITE JR THOMAS E WINOKUR JR. HERBERT S  \\\n",
       "bonus                        3000000            450000                   NaN   \n",
       "deferral_payments                NaN               NaN                   NaN   \n",
       "...                              ...               ...                   ...   \n",
       "total_payments               4677574           1934359                 84992   \n",
       "total_stock_value            6079137          15144123                   NaN   \n",
       "\n",
       "                  WODRASKA JOHN WROBEL BRUCE YEAGER F SCOTT YEAP SOON  \n",
       "bonus                       NaN          NaN            NaN       NaN  \n",
       "deferral_payments           NaN          NaN            NaN       NaN  \n",
       "...                         ...          ...            ...       ...  \n",
       "total_payments           189583          NaN         360300     55097  \n",
       "total_stock_value           NaN       139130       11884758    192758  \n",
       "\n",
       "[21 rows x 146 columns]"
      ]
     },
     "metadata": {},
     "output_type": "display_data"
    }
   ],
   "source": [
    "try:\n",
    "    import pandas as pd\n",
    "    print(\"Successfully imported pandas! (Version {})\".format(pd.__version__))\n",
    "    pd.options.display.max_rows = 5\n",
    "except ImportError:\n",
    "    print(\"Could not import pandas!\")\n",
    "\n",
    "try:\n",
    "    from IPython.display import display\n",
    "    print(\"Successfully imported display from IPython.display!\")\n",
    "except ImportError:\n",
    "    print(\"Could not import display from IPython.display\")\n",
    "    \n",
    "enron_df = pd.DataFrame.from_dict(enron_data)\n",
    "display(enron_df)"
   ]
  },
  {
   "cell_type": "markdown",
   "metadata": {},
   "source": [
    "## Stacking, unstacking, and rearranging\n",
    "\n",
    "The data is not formatted in the proper manner. The variables (features) should be in the columns and the unique instances should be in the rows. \n",
    "\n",
    "The following functions can be used to resolve this issue. \n",
    "\n",
    "- [`pandas.DataFrame.stack()`](http://pandas.pydata.org/pandas-docs/stable/generated/pandas.DataFrame.stack.html) \n",
    "- [`pandas.DataFrame.unstack()`](http://pandas.pydata.org/pandas-docs/stable/generated/pandas.DataFrame.unstack.html)\n",
    "\n",
    "First, we need to `stack` the current column indices, moving them to the innermost level of the row index.\n",
    "\n",
    "**Run** the cell below to see the results of calling `enron_df.stack()`\n"
   ]
  },
  {
   "cell_type": "code",
   "execution_count": 10,
   "metadata": {
    "collapsed": false
   },
   "outputs": [
    {
     "data": {
      "text/plain": [
       "bonus              ALLEN PHILLIP K     4175000\n",
       "                   BADUM JAMES P           NaN\n",
       "                                        ...   \n",
       "total_stock_value  YEAGER F SCOTT     11884758\n",
       "                   YEAP SOON            192758\n",
       "dtype: object"
      ]
     },
     "execution_count": 10,
     "metadata": {},
     "output_type": "execute_result"
    }
   ],
   "source": [
    "enron_df.stack()"
   ]
  },
  {
   "cell_type": "markdown",
   "metadata": {},
   "source": [
    "We see that the result of `enron_df.stack()` is a `Series` object, where the innermost (rightmost) level of the index is the person's name in the Enron data set, while the outermost (leftmost) level of the index is the feature. If we call `unstack()` on the resulting `series` without specifying a level, we'll just revert to the original `DataFrame`.\n",
    "\n",
    "**Run** the cell below to see the result of calling `enron_df.stack().unstack()`\n"
   ]
  },
  {
   "cell_type": "code",
   "execution_count": 11,
   "metadata": {
    "collapsed": false
   },
   "outputs": [
    {
     "data": {
      "text/html": [
       "<div>\n",
       "<table border=\"1\" class=\"dataframe\">\n",
       "  <thead>\n",
       "    <tr style=\"text-align: right;\">\n",
       "      <th></th>\n",
       "      <th>ALLEN PHILLIP K</th>\n",
       "      <th>BADUM JAMES P</th>\n",
       "      <th>BANNANTINE JAMES M</th>\n",
       "      <th>BAXTER JOHN C</th>\n",
       "      <th>BAY FRANKLIN R</th>\n",
       "      <th>BAZELIDES PHILIP J</th>\n",
       "      <th>BECK SALLY W</th>\n",
       "      <th>BELDEN TIMOTHY N</th>\n",
       "      <th>BELFER ROBERT</th>\n",
       "      <th>BERBERIAN DAVID</th>\n",
       "      <th>...</th>\n",
       "      <th>WASAFF GEORGE</th>\n",
       "      <th>WESTFAHL RICHARD K</th>\n",
       "      <th>WHALEY DAVID A</th>\n",
       "      <th>WHALLEY LAWRENCE G</th>\n",
       "      <th>WHITE JR THOMAS E</th>\n",
       "      <th>WINOKUR JR. HERBERT S</th>\n",
       "      <th>WODRASKA JOHN</th>\n",
       "      <th>WROBEL BRUCE</th>\n",
       "      <th>YEAGER F SCOTT</th>\n",
       "      <th>YEAP SOON</th>\n",
       "    </tr>\n",
       "  </thead>\n",
       "  <tbody>\n",
       "    <tr>\n",
       "      <th>bonus</th>\n",
       "      <td>4175000</td>\n",
       "      <td>NaN</td>\n",
       "      <td>NaN</td>\n",
       "      <td>1200000</td>\n",
       "      <td>400000</td>\n",
       "      <td>NaN</td>\n",
       "      <td>700000</td>\n",
       "      <td>5249999</td>\n",
       "      <td>NaN</td>\n",
       "      <td>NaN</td>\n",
       "      <td>...</td>\n",
       "      <td>325000</td>\n",
       "      <td>NaN</td>\n",
       "      <td>NaN</td>\n",
       "      <td>3000000</td>\n",
       "      <td>450000</td>\n",
       "      <td>NaN</td>\n",
       "      <td>NaN</td>\n",
       "      <td>NaN</td>\n",
       "      <td>NaN</td>\n",
       "      <td>NaN</td>\n",
       "    </tr>\n",
       "    <tr>\n",
       "      <th>deferral_payments</th>\n",
       "      <td>2869717</td>\n",
       "      <td>178980</td>\n",
       "      <td>NaN</td>\n",
       "      <td>1295738</td>\n",
       "      <td>260455</td>\n",
       "      <td>684694</td>\n",
       "      <td>NaN</td>\n",
       "      <td>2144013</td>\n",
       "      <td>-102500</td>\n",
       "      <td>NaN</td>\n",
       "      <td>...</td>\n",
       "      <td>831299</td>\n",
       "      <td>NaN</td>\n",
       "      <td>NaN</td>\n",
       "      <td>NaN</td>\n",
       "      <td>NaN</td>\n",
       "      <td>NaN</td>\n",
       "      <td>NaN</td>\n",
       "      <td>NaN</td>\n",
       "      <td>NaN</td>\n",
       "      <td>NaN</td>\n",
       "    </tr>\n",
       "    <tr>\n",
       "      <th>...</th>\n",
       "      <td>...</td>\n",
       "      <td>...</td>\n",
       "      <td>...</td>\n",
       "      <td>...</td>\n",
       "      <td>...</td>\n",
       "      <td>...</td>\n",
       "      <td>...</td>\n",
       "      <td>...</td>\n",
       "      <td>...</td>\n",
       "      <td>...</td>\n",
       "      <td>...</td>\n",
       "      <td>...</td>\n",
       "      <td>...</td>\n",
       "      <td>...</td>\n",
       "      <td>...</td>\n",
       "      <td>...</td>\n",
       "      <td>...</td>\n",
       "      <td>...</td>\n",
       "      <td>...</td>\n",
       "      <td>...</td>\n",
       "      <td>...</td>\n",
       "    </tr>\n",
       "    <tr>\n",
       "      <th>total_payments</th>\n",
       "      <td>4484442</td>\n",
       "      <td>182466</td>\n",
       "      <td>916197</td>\n",
       "      <td>5634343</td>\n",
       "      <td>827696</td>\n",
       "      <td>860136</td>\n",
       "      <td>969068</td>\n",
       "      <td>5501630</td>\n",
       "      <td>102500</td>\n",
       "      <td>228474</td>\n",
       "      <td>...</td>\n",
       "      <td>1034395</td>\n",
       "      <td>762135</td>\n",
       "      <td>NaN</td>\n",
       "      <td>4677574</td>\n",
       "      <td>1934359</td>\n",
       "      <td>84992</td>\n",
       "      <td>189583</td>\n",
       "      <td>NaN</td>\n",
       "      <td>360300</td>\n",
       "      <td>55097</td>\n",
       "    </tr>\n",
       "    <tr>\n",
       "      <th>total_stock_value</th>\n",
       "      <td>1729541</td>\n",
       "      <td>257817</td>\n",
       "      <td>5243487</td>\n",
       "      <td>10623258</td>\n",
       "      <td>63014</td>\n",
       "      <td>1599641</td>\n",
       "      <td>126027</td>\n",
       "      <td>1110705</td>\n",
       "      <td>-44093</td>\n",
       "      <td>2493616</td>\n",
       "      <td>...</td>\n",
       "      <td>2056427</td>\n",
       "      <td>384930</td>\n",
       "      <td>98718</td>\n",
       "      <td>6079137</td>\n",
       "      <td>15144123</td>\n",
       "      <td>NaN</td>\n",
       "      <td>NaN</td>\n",
       "      <td>139130</td>\n",
       "      <td>11884758</td>\n",
       "      <td>192758</td>\n",
       "    </tr>\n",
       "  </tbody>\n",
       "</table>\n",
       "<p>21 rows × 146 columns</p>\n",
       "</div>"
      ],
      "text/plain": [
       "                  ALLEN PHILLIP K BADUM JAMES P BANNANTINE JAMES M  \\\n",
       "bonus                     4175000           NaN                NaN   \n",
       "deferral_payments         2869717        178980                NaN   \n",
       "...                           ...           ...                ...   \n",
       "total_payments            4484442        182466             916197   \n",
       "total_stock_value         1729541        257817            5243487   \n",
       "\n",
       "                  BAXTER JOHN C BAY FRANKLIN R BAZELIDES PHILIP J  \\\n",
       "bonus                   1200000         400000                NaN   \n",
       "deferral_payments       1295738         260455             684694   \n",
       "...                         ...            ...                ...   \n",
       "total_payments          5634343         827696             860136   \n",
       "total_stock_value      10623258          63014            1599641   \n",
       "\n",
       "                  BECK SALLY W BELDEN TIMOTHY N BELFER ROBERT BERBERIAN DAVID  \\\n",
       "bonus                   700000          5249999           NaN             NaN   \n",
       "deferral_payments          NaN          2144013       -102500             NaN   \n",
       "...                        ...              ...           ...             ...   \n",
       "total_payments          969068          5501630        102500          228474   \n",
       "total_stock_value       126027          1110705        -44093         2493616   \n",
       "\n",
       "                     ...    WASAFF GEORGE WESTFAHL RICHARD K WHALEY DAVID A  \\\n",
       "bonus                ...           325000                NaN            NaN   \n",
       "deferral_payments    ...           831299                NaN            NaN   \n",
       "...                  ...              ...                ...            ...   \n",
       "total_payments       ...          1034395             762135            NaN   \n",
       "total_stock_value    ...          2056427             384930          98718   \n",
       "\n",
       "                  WHALLEY LAWRENCE G WHITE JR THOMAS E WINOKUR JR. HERBERT S  \\\n",
       "bonus                        3000000            450000                   NaN   \n",
       "deferral_payments                NaN               NaN                   NaN   \n",
       "...                              ...               ...                   ...   \n",
       "total_payments               4677574           1934359                 84992   \n",
       "total_stock_value            6079137          15144123                   NaN   \n",
       "\n",
       "                  WODRASKA JOHN WROBEL BRUCE YEAGER F SCOTT YEAP SOON  \n",
       "bonus                       NaN          NaN            NaN       NaN  \n",
       "deferral_payments           NaN          NaN            NaN       NaN  \n",
       "...                         ...          ...            ...       ...  \n",
       "total_payments           189583          NaN         360300     55097  \n",
       "total_stock_value           NaN       139130       11884758    192758  \n",
       "\n",
       "[21 rows x 146 columns]"
      ]
     },
     "execution_count": 11,
     "metadata": {},
     "output_type": "execute_result"
    }
   ],
   "source": [
    "enron_df.stack().unstack()"
   ]
  },
  {
   "cell_type": "markdown",
   "metadata": {},
   "source": [
    "We need to `unstack` the *outermost* level of the index, but by default, the function will `unstack` the *innermost* level of the index.\n",
    "\n",
    "**Run** the cell below *once* to correctly `stack` and `unstack` the Enron `DataFrame` to move the instances (names) to rows and features (variables) to columns. "
   ]
  },
  {
   "cell_type": "code",
   "execution_count": 12,
   "metadata": {
    "collapsed": false
   },
   "outputs": [
    {
     "data": {
      "text/html": [
       "<div>\n",
       "<table border=\"1\" class=\"dataframe\">\n",
       "  <thead>\n",
       "    <tr style=\"text-align: right;\">\n",
       "      <th></th>\n",
       "      <th>bonus</th>\n",
       "      <th>deferral_payments</th>\n",
       "      <th>deferred_income</th>\n",
       "      <th>director_fees</th>\n",
       "      <th>email_address</th>\n",
       "      <th>exercised_stock_options</th>\n",
       "      <th>expenses</th>\n",
       "      <th>from_messages</th>\n",
       "      <th>from_poi_to_this_person</th>\n",
       "      <th>from_this_person_to_poi</th>\n",
       "      <th>...</th>\n",
       "      <th>long_term_incentive</th>\n",
       "      <th>other</th>\n",
       "      <th>poi</th>\n",
       "      <th>restricted_stock</th>\n",
       "      <th>restricted_stock_deferred</th>\n",
       "      <th>salary</th>\n",
       "      <th>shared_receipt_with_poi</th>\n",
       "      <th>to_messages</th>\n",
       "      <th>total_payments</th>\n",
       "      <th>total_stock_value</th>\n",
       "    </tr>\n",
       "  </thead>\n",
       "  <tbody>\n",
       "    <tr>\n",
       "      <th>ALLEN PHILLIP K</th>\n",
       "      <td>4175000</td>\n",
       "      <td>2869717</td>\n",
       "      <td>-3081055</td>\n",
       "      <td>NaN</td>\n",
       "      <td>phillip.allen@enron.com</td>\n",
       "      <td>1729541</td>\n",
       "      <td>13868</td>\n",
       "      <td>2195</td>\n",
       "      <td>47</td>\n",
       "      <td>65</td>\n",
       "      <td>...</td>\n",
       "      <td>304805</td>\n",
       "      <td>152</td>\n",
       "      <td>False</td>\n",
       "      <td>126027</td>\n",
       "      <td>-126027</td>\n",
       "      <td>201955</td>\n",
       "      <td>1407</td>\n",
       "      <td>2902</td>\n",
       "      <td>4484442</td>\n",
       "      <td>1729541</td>\n",
       "    </tr>\n",
       "    <tr>\n",
       "      <th>BADUM JAMES P</th>\n",
       "      <td>NaN</td>\n",
       "      <td>178980</td>\n",
       "      <td>NaN</td>\n",
       "      <td>NaN</td>\n",
       "      <td>NaN</td>\n",
       "      <td>257817</td>\n",
       "      <td>3486</td>\n",
       "      <td>NaN</td>\n",
       "      <td>NaN</td>\n",
       "      <td>NaN</td>\n",
       "      <td>...</td>\n",
       "      <td>NaN</td>\n",
       "      <td>NaN</td>\n",
       "      <td>False</td>\n",
       "      <td>NaN</td>\n",
       "      <td>NaN</td>\n",
       "      <td>NaN</td>\n",
       "      <td>NaN</td>\n",
       "      <td>NaN</td>\n",
       "      <td>182466</td>\n",
       "      <td>257817</td>\n",
       "    </tr>\n",
       "    <tr>\n",
       "      <th>...</th>\n",
       "      <td>...</td>\n",
       "      <td>...</td>\n",
       "      <td>...</td>\n",
       "      <td>...</td>\n",
       "      <td>...</td>\n",
       "      <td>...</td>\n",
       "      <td>...</td>\n",
       "      <td>...</td>\n",
       "      <td>...</td>\n",
       "      <td>...</td>\n",
       "      <td>...</td>\n",
       "      <td>...</td>\n",
       "      <td>...</td>\n",
       "      <td>...</td>\n",
       "      <td>...</td>\n",
       "      <td>...</td>\n",
       "      <td>...</td>\n",
       "      <td>...</td>\n",
       "      <td>...</td>\n",
       "      <td>...</td>\n",
       "      <td>...</td>\n",
       "    </tr>\n",
       "    <tr>\n",
       "      <th>YEAGER F SCOTT</th>\n",
       "      <td>NaN</td>\n",
       "      <td>NaN</td>\n",
       "      <td>NaN</td>\n",
       "      <td>NaN</td>\n",
       "      <td>scott.yeager@enron.com</td>\n",
       "      <td>8308552</td>\n",
       "      <td>53947</td>\n",
       "      <td>NaN</td>\n",
       "      <td>NaN</td>\n",
       "      <td>NaN</td>\n",
       "      <td>...</td>\n",
       "      <td>NaN</td>\n",
       "      <td>147950</td>\n",
       "      <td>True</td>\n",
       "      <td>3576206</td>\n",
       "      <td>NaN</td>\n",
       "      <td>158403</td>\n",
       "      <td>NaN</td>\n",
       "      <td>NaN</td>\n",
       "      <td>360300</td>\n",
       "      <td>11884758</td>\n",
       "    </tr>\n",
       "    <tr>\n",
       "      <th>YEAP SOON</th>\n",
       "      <td>NaN</td>\n",
       "      <td>NaN</td>\n",
       "      <td>NaN</td>\n",
       "      <td>NaN</td>\n",
       "      <td>NaN</td>\n",
       "      <td>192758</td>\n",
       "      <td>55097</td>\n",
       "      <td>NaN</td>\n",
       "      <td>NaN</td>\n",
       "      <td>NaN</td>\n",
       "      <td>...</td>\n",
       "      <td>NaN</td>\n",
       "      <td>NaN</td>\n",
       "      <td>False</td>\n",
       "      <td>NaN</td>\n",
       "      <td>NaN</td>\n",
       "      <td>NaN</td>\n",
       "      <td>NaN</td>\n",
       "      <td>NaN</td>\n",
       "      <td>55097</td>\n",
       "      <td>192758</td>\n",
       "    </tr>\n",
       "  </tbody>\n",
       "</table>\n",
       "<p>146 rows × 21 columns</p>\n",
       "</div>"
      ],
      "text/plain": [
       "                   bonus deferral_payments deferred_income director_fees  \\\n",
       "ALLEN PHILLIP K  4175000           2869717        -3081055           NaN   \n",
       "BADUM JAMES P        NaN            178980             NaN           NaN   \n",
       "...                  ...               ...             ...           ...   \n",
       "YEAGER F SCOTT       NaN               NaN             NaN           NaN   \n",
       "YEAP SOON            NaN               NaN             NaN           NaN   \n",
       "\n",
       "                           email_address exercised_stock_options expenses  \\\n",
       "ALLEN PHILLIP K  phillip.allen@enron.com                 1729541    13868   \n",
       "BADUM JAMES P                        NaN                  257817     3486   \n",
       "...                                  ...                     ...      ...   \n",
       "YEAGER F SCOTT    scott.yeager@enron.com                 8308552    53947   \n",
       "YEAP SOON                            NaN                  192758    55097   \n",
       "\n",
       "                from_messages from_poi_to_this_person from_this_person_to_poi  \\\n",
       "ALLEN PHILLIP K          2195                      47                      65   \n",
       "BADUM JAMES P             NaN                     NaN                     NaN   \n",
       "...                       ...                     ...                     ...   \n",
       "YEAGER F SCOTT            NaN                     NaN                     NaN   \n",
       "YEAP SOON                 NaN                     NaN                     NaN   \n",
       "\n",
       "                       ...        long_term_incentive   other    poi  \\\n",
       "ALLEN PHILLIP K        ...                     304805     152  False   \n",
       "BADUM JAMES P          ...                        NaN     NaN  False   \n",
       "...                    ...                        ...     ...    ...   \n",
       "YEAGER F SCOTT         ...                        NaN  147950   True   \n",
       "YEAP SOON              ...                        NaN     NaN  False   \n",
       "\n",
       "                restricted_stock restricted_stock_deferred  salary  \\\n",
       "ALLEN PHILLIP K           126027                   -126027  201955   \n",
       "BADUM JAMES P                NaN                       NaN     NaN   \n",
       "...                          ...                       ...     ...   \n",
       "YEAGER F SCOTT           3576206                       NaN  158403   \n",
       "YEAP SOON                    NaN                       NaN     NaN   \n",
       "\n",
       "                shared_receipt_with_poi to_messages total_payments  \\\n",
       "ALLEN PHILLIP K                    1407        2902        4484442   \n",
       "BADUM JAMES P                       NaN         NaN         182466   \n",
       "...                                 ...         ...            ...   \n",
       "YEAGER F SCOTT                      NaN         NaN         360300   \n",
       "YEAP SOON                           NaN         NaN          55097   \n",
       "\n",
       "                total_stock_value  \n",
       "ALLEN PHILLIP K           1729541  \n",
       "BADUM JAMES P              257817  \n",
       "...                           ...  \n",
       "YEAGER F SCOTT           11884758  \n",
       "YEAP SOON                  192758  \n",
       "\n",
       "[146 rows x 21 columns]"
      ]
     },
     "metadata": {},
     "output_type": "display_data"
    }
   ],
   "source": [
    "enron_df = enron_df.stack().unstack(0)\n",
    "display(enron_df)"
   ]
  },
  {
   "cell_type": "markdown",
   "metadata": {},
   "source": [
    "# Exercises\n",
    "Use `pandas` to answer questions regarding the Enron dataset. If you're uncertain how to do something, feel free to ask questions, look through [the `pandas` documentation](http://pandas.pydata.org/pandas-docs/stable/api.html), or refer to the code examples above!\n",
    "\n",
    "You can check your solutions to each of these exercises by entering your answer in the corresponding Quiz in the \"Datasets and Questions\" lesson. I put the corresponding quizzes in parenthesis after each exercise, so you know where to go to check your answers."
   ]
  },
  {
   "cell_type": "markdown",
   "metadata": {},
   "source": [
    "Types of Data Quizzes: Questions 1-6 answer options\n",
    "\n",
    "- numerical- numerical values (numbers)\n",
    "- categorical- limited number of discrete values (category)\n",
    "- time series- temporal value (date, timestamp) \n",
    "- text- words\n",
    "- other"
   ]
  },
  {
   "cell_type": "markdown",
   "metadata": {},
   "source": [
    "## Question 1\n",
    "What type of data is salary info? (Quiz: Types of Data 1)\n",
    "\n",
    "\n"
   ]
  },
  {
   "cell_type": "markdown",
   "metadata": {},
   "source": [
    "## Question 2\n",
    "What type of data is job title? (Quiz: Types of Data 2)\n"
   ]
  },
  {
   "cell_type": "markdown",
   "metadata": {},
   "source": [
    "## Question 3\n",
    "What type of data is timestamps on emails? (Quiz: Types of Data 3)\n"
   ]
  },
  {
   "cell_type": "markdown",
   "metadata": {},
   "source": [
    "## Question 4\n",
    "What type of data is contents of emails? (Quiz: Types of Data 4)\n"
   ]
  },
  {
   "cell_type": "markdown",
   "metadata": {},
   "source": [
    "## Question 5\n",
    "What type of data is number of emails sent by a given person? (Quiz: Types of Data 5)\n",
    "\n"
   ]
  },
  {
   "cell_type": "markdown",
   "metadata": {},
   "source": [
    "## Question 6\n",
    "What type of data is to/from fields of emails? (Quiz: Types of Data 6)\n",
    "\n"
   ]
  },
  {
   "cell_type": "markdown",
   "metadata": {},
   "source": [
    "## Question 7\n",
    "How many data points (people) are in the data set? (Quiz: Size of the Enron Dataset)"
   ]
  },
  {
   "cell_type": "code",
   "execution_count": 22,
   "metadata": {
    "collapsed": false
   },
   "outputs": [
    {
     "data": {
      "text/plain": [
       "146"
      ]
     },
     "execution_count": 22,
     "metadata": {},
     "output_type": "execute_result"
    }
   ],
   "source": [
    "len(enron_df) # gives no# of rows"
   ]
  },
  {
   "cell_type": "code",
   "execution_count": 23,
   "metadata": {
    "collapsed": false
   },
   "outputs": [
    {
     "data": {
      "text/plain": [
       "u'/Users/spandanchakraborty/Documents/Udacity/SpanGit/U_ML/ud120-projects-master'"
      ]
     },
     "execution_count": 23,
     "metadata": {},
     "output_type": "execute_result"
    }
   ],
   "source": [
    "pwd"
   ]
  },
  {
   "cell_type": "markdown",
   "metadata": {},
   "source": [
    "## Question 8\n",
    "For each person, how many features are available? (Quiz: Features in the Enron Dataset)"
   ]
  },
  {
   "cell_type": "code",
   "execution_count": 17,
   "metadata": {
    "collapsed": false
   },
   "outputs": [
    {
     "data": {
      "text/plain": [
       "21"
      ]
     },
     "execution_count": 17,
     "metadata": {},
     "output_type": "execute_result"
    }
   ],
   "source": [
    "len(enron_df.columns) # gives no# of columns"
   ]
  },
  {
   "cell_type": "markdown",
   "metadata": {},
   "source": [
    "## Question 9\n",
    "How many Persons of Interest (POIs) are in the dataset? (Quiz: Finding POIs in the Enron Data)"
   ]
  },
  {
   "cell_type": "code",
   "execution_count": 21,
   "metadata": {
    "collapsed": false
   },
   "outputs": [
    {
     "data": {
      "text/plain": [
       "18"
      ]
     },
     "execution_count": 21,
     "metadata": {},
     "output_type": "execute_result"
    }
   ],
   "source": [
    "len(enron_df[enron_df['poi']==True])"
   ]
  },
  {
   "cell_type": "markdown",
   "metadata": {},
   "source": [
    "## Question 10\n",
    "We compiled a list of all POI names (in `final_project/poi_names.txt`) and associated email addresses (in `final_project/poi_email_addresses.py`).\n",
    "\n",
    "How many POI’s were there total? Use the **names** file, not the email addresses, since many folks have more than one address and a few didn’t work for Enron, so we don’t have their emails. (Quiz: How Many POIs Exist?)\n",
    "\n",
    "**Hint:** Open up the `poi_names.txt` file to see the file format:\n",
    "  - the first line is a link to a USA Today article\n",
    "  - the second line is blank\n",
    "  - subsequent lines have the format: `(•) Lastname, Firstname`\n",
    "      - the dot `•` is either \"y\" (for yes) or \"n\" (for no), describing if the emails for that POI are available"
   ]
  },
  {
   "cell_type": "code",
   "execution_count": 29,
   "metadata": {
    "collapsed": false,
    "scrolled": true
   },
   "outputs": [],
   "source": [
    "poi_data=\"final_project/poi_names.txt\"\n",
    "poi_have_emails=[]\n",
    "poi_first_name=[]\n",
    "poi_last_name=[]\n",
    "# open poi text file\n",
    "\n",
    "f= open(poi_data,'r')\n",
    "usa_today_url=f.readline()\n",
    "f.readline() # read the next blank line\n",
    "for line in f:\n",
    "    name=line.split(\" \")\n",
    "    poi_have_emails.append(name[0][1]=='y')\n",
    "    poi_first_name.append(name[1][:-1])\n",
    "    poi_last_name.append(name[2][:-1])\n"
   ]
  },
  {
   "cell_type": "markdown",
   "metadata": {},
   "source": [
    "## Question 11\n",
    "What might be a problem with having some POIs missing from our dataset? (Quiz: Problems with Incomplete Data)\n"
   ]
  },
  {
   "cell_type": "markdown",
   "metadata": {},
   "source": [
    "## Question 12\n",
    "What is the total value of the stock belonging to James Prentice? (Query The Dataset 1)"
   ]
  },
  {
   "cell_type": "code",
   "execution_count": 30,
   "metadata": {
    "collapsed": false
   },
   "outputs": [
    {
     "data": {
      "text/plain": [
       "PRENTICE JAMES    1095040\n",
       "Name: total_stock_value, dtype: object"
      ]
     },
     "execution_count": 30,
     "metadata": {},
     "output_type": "execute_result"
    }
   ],
   "source": [
    "enron_df[enron_df.index.str.contains(\"Prentice\", case=False)]['total_stock_value']"
   ]
  },
  {
   "cell_type": "markdown",
   "metadata": {},
   "source": [
    "## Question 13\n",
    "How many email messages do we have from Wesley Colwell to persons of interest? (Query The Dataset 2)"
   ]
  },
  {
   "cell_type": "code",
   "execution_count": 31,
   "metadata": {
    "collapsed": false
   },
   "outputs": [
    {
     "data": {
      "text/plain": [
       "COLWELL WESLEY    11\n",
       "Name: from_this_person_to_poi, dtype: object"
      ]
     },
     "execution_count": 31,
     "metadata": {},
     "output_type": "execute_result"
    }
   ],
   "source": [
    "enron_df[enron_df.index.str.contains(\"Colwell\", case=False)]['from_this_person_to_poi']"
   ]
  },
  {
   "cell_type": "markdown",
   "metadata": {},
   "source": [
    "## Question 14\n",
    "What's the value of stock options exercised by Jeffrey K Skilling? (Query The Dataset 3)"
   ]
  },
  {
   "cell_type": "code",
   "execution_count": 33,
   "metadata": {
    "collapsed": false
   },
   "outputs": [
    {
     "data": {
      "text/plain": [
       "SKILLING JEFFREY K    19250000\n",
       "Name: exercised_stock_options, dtype: object"
      ]
     },
     "execution_count": 33,
     "metadata": {},
     "output_type": "execute_result"
    }
   ],
   "source": [
    "enron_df[enron_df.index.str.contains(\"Skilling\", case=False)]['exercised_stock_options']"
   ]
  },
  {
   "cell_type": "markdown",
   "metadata": {},
   "source": [
    "**Questions 15-18 can be answered by some basic online research** \n",
    "\n",
    "## Question 15\n",
    "Which of these schemes was Enron **not** involved in? (Quiz: Research the Enron Fraud)\n",
    "\n",
    "- selling assets to shell companies at the end of each month, and buying them back at the beginning of the next month to hide accounting losses\n",
    "- causing electrical grid failures in California\n",
    "- illegally obtained a government report that enabled them to corner the market on frozen concentrated orange juice futures\n",
    "- conspiring to give a Saudi prince expedited American citizenship\n",
    "- a plan in collaboration with Blockbuster movies to stream movies over the internet\n",
    "\n",
    "## Question 16\n",
    "Who was the CEO of Enron during most of the time that fraud was being perpetrated? (Quiz: Enron CEO)\n",
    "\n",
    "## Question 17\n",
    "Who was chairman of the Enron board of directors? (Quiz: Enron Chairman)\n",
    "\n",
    "## Question 18\n",
    "Who was CFO (chief financial officer) of Enron during most of the time that fraud was going on? (Quiz: Enron CFO)"
   ]
  },
  {
   "cell_type": "markdown",
   "metadata": {},
   "source": [
    "## Question 19\n",
    "Of these three individuals (Lay, Skilling and Fastow), who took home the most money (largest value of “total_payments” feature)?(Quiz: Follow The Money)\n",
    "\n",
    "How much money did that person get?"
   ]
  },
  {
   "cell_type": "code",
   "execution_count": 36,
   "metadata": {
    "collapsed": false
   },
   "outputs": [
    {
     "data": {
      "text/plain": [
       "FASTOW ANDREW S         2424083\n",
       "LAY KENNETH L         103559793\n",
       "SKILLING JEFFREY K      8682716\n",
       "Name: total_payments, dtype: object"
      ]
     },
     "execution_count": 36,
     "metadata": {},
     "output_type": "execute_result"
    }
   ],
   "source": [
    "enron_df[enron_df.index.str.contains(('Skilling|Lay|Fastow'), case=False)]['total_payments']"
   ]
  },
  {
   "cell_type": "markdown",
   "metadata": {},
   "source": [
    "## Question 20\n",
    "For nearly every person in the dataset, not every feature has a value. How is it denoted when a feature doesn’t have a well-defined value? (Quiz: Unfilled Features)"
   ]
  },
  {
   "cell_type": "code",
   "execution_count": 44,
   "metadata": {
    "collapsed": false
   },
   "outputs": [
    {
     "data": {
      "text/html": [
       "<div>\n",
       "<table border=\"1\" class=\"dataframe\">\n",
       "  <thead>\n",
       "    <tr style=\"text-align: right;\">\n",
       "      <th></th>\n",
       "      <th>bonus</th>\n",
       "      <th>deferral_payments</th>\n",
       "      <th>deferred_income</th>\n",
       "      <th>director_fees</th>\n",
       "      <th>email_address</th>\n",
       "      <th>exercised_stock_options</th>\n",
       "      <th>expenses</th>\n",
       "      <th>from_messages</th>\n",
       "      <th>from_poi_to_this_person</th>\n",
       "      <th>from_this_person_to_poi</th>\n",
       "      <th>...</th>\n",
       "      <th>long_term_incentive</th>\n",
       "      <th>other</th>\n",
       "      <th>poi</th>\n",
       "      <th>restricted_stock</th>\n",
       "      <th>restricted_stock_deferred</th>\n",
       "      <th>salary</th>\n",
       "      <th>shared_receipt_with_poi</th>\n",
       "      <th>to_messages</th>\n",
       "      <th>total_payments</th>\n",
       "      <th>total_stock_value</th>\n",
       "    </tr>\n",
       "  </thead>\n",
       "  <tbody>\n",
       "    <tr>\n",
       "      <th>ALLEN PHILLIP K</th>\n",
       "      <td>4175000</td>\n",
       "      <td>2869717</td>\n",
       "      <td>-3081055</td>\n",
       "      <td>NaN</td>\n",
       "      <td>phillip.allen@enron.com</td>\n",
       "      <td>1729541</td>\n",
       "      <td>13868</td>\n",
       "      <td>2195</td>\n",
       "      <td>47</td>\n",
       "      <td>65</td>\n",
       "      <td>...</td>\n",
       "      <td>304805</td>\n",
       "      <td>152</td>\n",
       "      <td>False</td>\n",
       "      <td>126027</td>\n",
       "      <td>-126027</td>\n",
       "      <td>201955</td>\n",
       "      <td>1407</td>\n",
       "      <td>2902</td>\n",
       "      <td>4484442</td>\n",
       "      <td>1729541</td>\n",
       "    </tr>\n",
       "    <tr>\n",
       "      <th>BADUM JAMES P</th>\n",
       "      <td>NaN</td>\n",
       "      <td>178980</td>\n",
       "      <td>NaN</td>\n",
       "      <td>NaN</td>\n",
       "      <td>NaN</td>\n",
       "      <td>257817</td>\n",
       "      <td>3486</td>\n",
       "      <td>NaN</td>\n",
       "      <td>NaN</td>\n",
       "      <td>NaN</td>\n",
       "      <td>...</td>\n",
       "      <td>NaN</td>\n",
       "      <td>NaN</td>\n",
       "      <td>False</td>\n",
       "      <td>NaN</td>\n",
       "      <td>NaN</td>\n",
       "      <td>NaN</td>\n",
       "      <td>NaN</td>\n",
       "      <td>NaN</td>\n",
       "      <td>182466</td>\n",
       "      <td>257817</td>\n",
       "    </tr>\n",
       "    <tr>\n",
       "      <th>...</th>\n",
       "      <td>...</td>\n",
       "      <td>...</td>\n",
       "      <td>...</td>\n",
       "      <td>...</td>\n",
       "      <td>...</td>\n",
       "      <td>...</td>\n",
       "      <td>...</td>\n",
       "      <td>...</td>\n",
       "      <td>...</td>\n",
       "      <td>...</td>\n",
       "      <td>...</td>\n",
       "      <td>...</td>\n",
       "      <td>...</td>\n",
       "      <td>...</td>\n",
       "      <td>...</td>\n",
       "      <td>...</td>\n",
       "      <td>...</td>\n",
       "      <td>...</td>\n",
       "      <td>...</td>\n",
       "      <td>...</td>\n",
       "      <td>...</td>\n",
       "    </tr>\n",
       "    <tr>\n",
       "      <th>YEAGER F SCOTT</th>\n",
       "      <td>NaN</td>\n",
       "      <td>NaN</td>\n",
       "      <td>NaN</td>\n",
       "      <td>NaN</td>\n",
       "      <td>scott.yeager@enron.com</td>\n",
       "      <td>8308552</td>\n",
       "      <td>53947</td>\n",
       "      <td>NaN</td>\n",
       "      <td>NaN</td>\n",
       "      <td>NaN</td>\n",
       "      <td>...</td>\n",
       "      <td>NaN</td>\n",
       "      <td>147950</td>\n",
       "      <td>True</td>\n",
       "      <td>3576206</td>\n",
       "      <td>NaN</td>\n",
       "      <td>158403</td>\n",
       "      <td>NaN</td>\n",
       "      <td>NaN</td>\n",
       "      <td>360300</td>\n",
       "      <td>11884758</td>\n",
       "    </tr>\n",
       "    <tr>\n",
       "      <th>YEAP SOON</th>\n",
       "      <td>NaN</td>\n",
       "      <td>NaN</td>\n",
       "      <td>NaN</td>\n",
       "      <td>NaN</td>\n",
       "      <td>NaN</td>\n",
       "      <td>192758</td>\n",
       "      <td>55097</td>\n",
       "      <td>NaN</td>\n",
       "      <td>NaN</td>\n",
       "      <td>NaN</td>\n",
       "      <td>...</td>\n",
       "      <td>NaN</td>\n",
       "      <td>NaN</td>\n",
       "      <td>False</td>\n",
       "      <td>NaN</td>\n",
       "      <td>NaN</td>\n",
       "      <td>NaN</td>\n",
       "      <td>NaN</td>\n",
       "      <td>NaN</td>\n",
       "      <td>55097</td>\n",
       "      <td>192758</td>\n",
       "    </tr>\n",
       "  </tbody>\n",
       "</table>\n",
       "<p>146 rows × 21 columns</p>\n",
       "</div>"
      ],
      "text/plain": [
       "                   bonus deferral_payments deferred_income director_fees  \\\n",
       "ALLEN PHILLIP K  4175000           2869717        -3081055           NaN   \n",
       "BADUM JAMES P        NaN            178980             NaN           NaN   \n",
       "...                  ...               ...             ...           ...   \n",
       "YEAGER F SCOTT       NaN               NaN             NaN           NaN   \n",
       "YEAP SOON            NaN               NaN             NaN           NaN   \n",
       "\n",
       "                           email_address exercised_stock_options expenses  \\\n",
       "ALLEN PHILLIP K  phillip.allen@enron.com                 1729541    13868   \n",
       "BADUM JAMES P                        NaN                  257817     3486   \n",
       "...                                  ...                     ...      ...   \n",
       "YEAGER F SCOTT    scott.yeager@enron.com                 8308552    53947   \n",
       "YEAP SOON                            NaN                  192758    55097   \n",
       "\n",
       "                from_messages from_poi_to_this_person from_this_person_to_poi  \\\n",
       "ALLEN PHILLIP K          2195                      47                      65   \n",
       "BADUM JAMES P             NaN                     NaN                     NaN   \n",
       "...                       ...                     ...                     ...   \n",
       "YEAGER F SCOTT            NaN                     NaN                     NaN   \n",
       "YEAP SOON                 NaN                     NaN                     NaN   \n",
       "\n",
       "                       ...        long_term_incentive   other    poi  \\\n",
       "ALLEN PHILLIP K        ...                     304805     152  False   \n",
       "BADUM JAMES P          ...                        NaN     NaN  False   \n",
       "...                    ...                        ...     ...    ...   \n",
       "YEAGER F SCOTT         ...                        NaN  147950   True   \n",
       "YEAP SOON              ...                        NaN     NaN  False   \n",
       "\n",
       "                restricted_stock restricted_stock_deferred  salary  \\\n",
       "ALLEN PHILLIP K           126027                   -126027  201955   \n",
       "BADUM JAMES P                NaN                       NaN     NaN   \n",
       "...                          ...                       ...     ...   \n",
       "YEAGER F SCOTT           3576206                       NaN  158403   \n",
       "YEAP SOON                    NaN                       NaN     NaN   \n",
       "\n",
       "                shared_receipt_with_poi to_messages total_payments  \\\n",
       "ALLEN PHILLIP K                    1407        2902        4484442   \n",
       "BADUM JAMES P                       NaN         NaN         182466   \n",
       "...                                 ...         ...            ...   \n",
       "YEAGER F SCOTT                      NaN         NaN         360300   \n",
       "YEAP SOON                           NaN         NaN          55097   \n",
       "\n",
       "                total_stock_value  \n",
       "ALLEN PHILLIP K           1729541  \n",
       "BADUM JAMES P              257817  \n",
       "...                           ...  \n",
       "YEAGER F SCOTT           11884758  \n",
       "YEAP SOON                  192758  \n",
       "\n",
       "[146 rows x 21 columns]"
      ]
     },
     "metadata": {},
     "output_type": "display_data"
    }
   ],
   "source": [
    "display(enron_df)"
   ]
  },
  {
   "cell_type": "markdown",
   "metadata": {},
   "source": [
    "## Question 21\n",
    "How many folks in this dataset have a quantified salary? What about a known email address? (Quiz: Dealing with Unfilled Features)"
   ]
  },
  {
   "cell_type": "code",
   "execution_count": 45,
   "metadata": {
    "collapsed": false
   },
   "outputs": [
    {
     "data": {
      "text/plain": [
       "95"
      ]
     },
     "metadata": {},
     "output_type": "display_data"
    },
    {
     "data": {
      "text/plain": [
       "111"
      ]
     },
     "execution_count": 45,
     "metadata": {},
     "output_type": "execute_result"
    }
   ],
   "source": [
    "display(len(enron_df[enron_df['salary']!='NaN']))\n",
    "len(enron_df[enron_df['email_address']!='NaN'])"
   ]
  },
  {
   "cell_type": "markdown",
   "metadata": {},
   "source": [
    "## More Magic Functions\n",
    "\n",
    "In the Jupyter Notebook `lesson 1`, we introduced our first [Magic Function](http://ipython.readthedocs.io/en/stable/interactive/tutorial.html#magics-explained):\n",
    "\n",
    "`%matplotlib inline`\n",
    "\n",
    "That allowed us to generate plots using `matplotlib.pyplot` that appeared directly within our Jupyter Notebook! Earlier in this notebook, we also introduced the Magic Function:\n",
    "\n",
    "`%cd \"...\"`\n",
    "\n",
    "Replacing the ellipses in the above Magic Function with the path of the **ud120-projects** repo allowed us to change the working directory for this Jupyter Notebook session. Let's learn one last Magic Function:\n",
    "\n",
    "`%load filename.py`\n",
    "\n",
    "This allows us to quickly load python code from the file `filename.py` into the current cell.\n",
    "\n",
    "**Run** the cell below to execute the Magic Function `%load tools/feature_format.py` from the **ud120-projects** repo. What happens?"
   ]
  },
  {
   "cell_type": "code",
   "execution_count": null,
   "metadata": {
    "collapsed": false
   },
   "outputs": [],
   "source": [
    "# %load tools/feature_format.py\n",
    "#!/usr/bin/python\n",
    "\n",
    "\"\"\" \n",
    "    A general tool for converting data from the\n",
    "    dictionary format to an (n x k) python list that's \n",
    "    ready for training an sklearn algorithm\n",
    "\n",
    "    n--no. of key-value pairs in dictonary\n",
    "    k--no. of features being extracted\n",
    "\n",
    "    dictionary keys are names of persons in dataset\n",
    "    dictionary values are dictionaries, where each\n",
    "        key-value pair in the dict is the name\n",
    "        of a feature, and its value for that person\n",
    "\n",
    "    In addition to converting a dictionary to a numpy \n",
    "    array, you may want to separate the labels from the\n",
    "    features--this is what targetFeatureSplit is for\n",
    "\n",
    "    so, if you want to have the poi label as the target,\n",
    "    and the features you want to use are the person's\n",
    "    salary and bonus, here's what you would do:\n",
    "\n",
    "    feature_list = [\"poi\", \"salary\", \"bonus\"] \n",
    "    data_array = featureFormat( data_dictionary, feature_list )\n",
    "    label, features = targetFeatureSplit(data_array)\n",
    "\n",
    "    the line above (targetFeatureSplit) assumes that the\n",
    "    label is the _first_ item in feature_list--very important\n",
    "    that poi is listed first!\n",
    "\"\"\"\n",
    "\n",
    "\n",
    "import numpy as np\n",
    "\n",
    "def featureFormat( dictionary, features, remove_NaN=True, remove_all_zeroes=True, remove_any_zeroes=False, sort_keys = False):\n",
    "    \"\"\" convert dictionary to numpy array of features\n",
    "        remove_NaN = True will convert \"NaN\" string to 0.0\n",
    "        remove_all_zeroes = True will omit any data points for which\n",
    "            all the features you seek are 0.0\n",
    "        remove_any_zeroes = True will omit any data points for which\n",
    "            any of the features you seek are 0.0\n",
    "        sort_keys = True sorts keys by alphabetical order. Setting the value as\n",
    "            a string opens the corresponding pickle file with a preset key\n",
    "            order (this is used for Python 3 compatibility, and sort_keys\n",
    "            should be left as False for the course mini-projects).\n",
    "        NOTE: first feature is assumed to be 'poi' and is not checked for\n",
    "            removal for zero or missing values.\n",
    "    \"\"\"\n",
    "\n",
    "\n",
    "    return_list = []\n",
    "\n",
    "    # Key order - first branch is for Python 3 compatibility on mini-projects,\n",
    "    # second branch is for compatibility on final project.\n",
    "    if isinstance(sort_keys, str):\n",
    "        import pickle\n",
    "        keys = pickle.load(open(sort_keys, \"rb\"))\n",
    "    elif sort_keys:\n",
    "        keys = sorted(dictionary.keys())\n",
    "    else:\n",
    "        keys = dictionary.keys()\n",
    "\n",
    "    for key in keys:\n",
    "        tmp_list = []\n",
    "        for feature in features:\n",
    "            try:\n",
    "                dictionary[key][feature]\n",
    "            except KeyError:\n",
    "                print \"error: key \", feature, \" not present\"\n",
    "                return\n",
    "            value = dictionary[key][feature]\n",
    "            if value==\"NaN\" and remove_NaN:\n",
    "                value = 0\n",
    "            tmp_list.append( float(value) )\n",
    "\n",
    "        # Logic for deciding whether or not to add the data point.\n",
    "        append = True\n",
    "        # exclude 'poi' class as criteria.\n",
    "        if features[0] == 'poi':\n",
    "            test_list = tmp_list[1:]\n",
    "        else:\n",
    "            test_list = tmp_list\n",
    "        ### if all features are zero and you want to remove\n",
    "        ### data points that are all zero, do that here\n",
    "        if remove_all_zeroes:\n",
    "            append = False\n",
    "            for item in test_list:\n",
    "                if item != 0 and item != \"NaN\":\n",
    "                    append = True\n",
    "                    break\n",
    "        ### if any features for a given data point are zero\n",
    "        ### and you want to remove data points with any zeroes,\n",
    "        ### handle that here\n",
    "        if remove_any_zeroes:\n",
    "            if 0 in test_list or \"NaN\" in test_list:\n",
    "                append = False\n",
    "        ### Append the data point if flagged for addition.\n",
    "        if append:\n",
    "            return_list.append( np.array(tmp_list) )\n",
    "\n",
    "    return np.array(return_list)\n",
    "\n",
    "\n",
    "def targetFeatureSplit( data ):\n",
    "    \"\"\" \n",
    "        given a numpy array like the one returned from\n",
    "        featureFormat, separate out the first feature\n",
    "        and put it into its own list (this should be the \n",
    "        quantity you want to predict)\n",
    "\n",
    "        return targets and features as separate lists\n",
    "\n",
    "        (sklearn can generally handle both lists and numpy arrays as \n",
    "        input formats when training/predicting)\n",
    "    \"\"\"\n",
    "\n",
    "    target = []\n",
    "    features = []\n",
    "    for item in data:\n",
    "        target.append( item[0] )\n",
    "        features.append( item[1:] )\n",
    "\n",
    "    return target, features\n",
    "\n",
    "\n",
    "\n",
    "\n"
   ]
  },
  {
   "cell_type": "markdown",
   "metadata": {},
   "source": [
    "You should see that the Magic Function `%load tools/feature_format.py` copies the contents of `feature_format.py` into the same cell, below the magic command. Additionally, the Magic Function `%load tools/feature_format.py` is now commented out. Note that you've **copied** the contents of `feature_format.py` into the cell with the Magic Function, but you need to run the cell a second time to actually **execute** the code.\n",
    "\n",
    "If you want to try another `%load` Magic Function, **run** the cell below to load the contents of `poi_email_addresses.py` to this Notebook."
   ]
  },
  {
   "cell_type": "code",
   "execution_count": 43,
   "metadata": {
    "collapsed": true
   },
   "outputs": [],
   "source": [
    "# %load final_project/poi_email_addresses.py\n",
    "def poiEmails():\n",
    "    email_list = [\"kenneth_lay@enron.net\",    \n",
    "            \"kenneth_lay@enron.com\",\n",
    "            \"klay.enron@enron.com\",\n",
    "            \"kenneth.lay@enron.com\", \n",
    "            \"klay@enron.com\",\n",
    "            \"layk@enron.com\",\n",
    "            \"chairman.ken@enron.com\",\n",
    "            \"jeffreyskilling@yahoo.com\",\n",
    "            \"jeff_skilling@enron.com\",\n",
    "            \"jskilling@enron.com\",\n",
    "            \"effrey.skilling@enron.com\",\n",
    "            \"skilling@enron.com\",\n",
    "            \"jeffrey.k.skilling@enron.com\",\n",
    "            \"jeff.skilling@enron.com\",\n",
    "            \"kevin_a_howard.enronxgate.enron@enron.net\",\n",
    "            \"kevin.howard@enron.com\",\n",
    "            \"kevin.howard@enron.net\",\n",
    "            \"kevin.howard@gcm.com\",\n",
    "            \"michael.krautz@enron.com\"\n",
    "            \"scott.yeager@enron.com\",\n",
    "            \"syeager@fyi-net.com\",\n",
    "            \"scott_yeager@enron.net\",\n",
    "            \"syeager@flash.net\",\n",
    "            \"joe'.'hirko@enron.com\", \n",
    "            \"joe.hirko@enron.com\", \n",
    "            \"rex.shelby@enron.com\", \n",
    "            \"rex.shelby@enron.nt\", \n",
    "            \"rex_shelby@enron.net\",\n",
    "            \"jbrown@enron.com\",\n",
    "            \"james.brown@enron.com\", \n",
    "            \"rick.causey@enron.com\", \n",
    "            \"richard.causey@enron.com\", \n",
    "            \"rcausey@enron.com\",\n",
    "            \"calger@enron.com\",\n",
    "            \"chris.calger@enron.com\", \n",
    "            \"christopher.calger@enron.com\", \n",
    "            \"ccalger@enron.com\",\n",
    "            \"tim_despain.enronxgate.enron@enron.net\", \n",
    "            \"tim.despain@enron.com\",\n",
    "            \"kevin_hannon@enron.com\", \n",
    "            \"kevin'.'hannon@enron.com\", \n",
    "            \"kevin_hannon@enron.net\", \n",
    "            \"kevin.hannon@enron.com\",\n",
    "            \"mkoenig@enron.com\", \n",
    "            \"mark.koenig@enron.com\",\n",
    "            \"m..forney@enron.com\",\n",
    "            \"ken'.'rice@enron.com\", \n",
    "            \"ken.rice@enron.com\",\n",
    "            \"ken_rice@enron.com\", \n",
    "            \"ken_rice@enron.net\",\n",
    "            \"paula.rieker@enron.com\",\n",
    "            \"prieker@enron.com\", \n",
    "            \"andrew.fastow@enron.com\", \n",
    "            \"lfastow@pdq.net\", \n",
    "            \"andrew.s.fastow@enron.com\", \n",
    "            \"lfastow@pop.pdq.net\", \n",
    "            \"andy.fastow@enron.com\",\n",
    "            \"david.w.delainey@enron.com\", \n",
    "            \"delainey.dave@enron.com\", \n",
    "            \"'delainey@enron.com\", \n",
    "            \"david.delainey@enron.com\", \n",
    "            \"'david.delainey'@enron.com\", \n",
    "            \"dave.delainey@enron.com\", \n",
    "            \"delainey'.'david@enron.com\",\n",
    "            \"ben.glisan@enron.com\", \n",
    "            \"bglisan@enron.com\", \n",
    "            \"ben_f_glisan@enron.com\", \n",
    "            \"ben'.'glisan@enron.com\",\n",
    "            \"jeff.richter@enron.com\", \n",
    "            \"jrichter@nwlink.com\",\n",
    "            \"lawrencelawyer@aol.com\", \n",
    "            \"lawyer'.'larry@enron.com\", \n",
    "            \"larry_lawyer@enron.com\", \n",
    "            \"llawyer@enron.com\", \n",
    "            \"larry.lawyer@enron.com\", \n",
    "            \"lawrence.lawyer@enron.com\",\n",
    "            \"tbelden@enron.com\", \n",
    "            \"tim.belden@enron.com\", \n",
    "            \"tim_belden@pgn.com\", \n",
    "            \"tbelden@ect.enron.com\",\n",
    "            \"michael.kopper@enron.com\",\n",
    "            \"dave.duncan@enron.com\", \n",
    "            \"dave.duncan@cipco.org\", \n",
    "            \"duncan.dave@enron.com\",\n",
    "            \"ray.bowen@enron.com\", \n",
    "            \"raymond.bowen@enron.com\", \n",
    "            \"'bowen@enron.com\",\n",
    "            \"wes.colwell@enron.com\",\n",
    "            \"dan.boyle@enron.com\",\n",
    "            \"cloehr@enron.com\", \n",
    "            \"chris.loehr@enron.com\"\n",
    "        ]\n",
    "    return email_list\n"
   ]
  },
  {
   "cell_type": "markdown",
   "metadata": {},
   "source": [
    "A couple last helpful hints about Magic Functions:\n",
    "  - You can learn more about Magic Functions at any time with the Magic Function `%magic`\n",
    "  - You can get the list of available Magic Functions by the Magic Function `%lsmagic`\n",
    "  - You can learn about any Magic Function by typing a question mark after it, *e.g.* `%load?`\n",
    "  \n",
    "**Try it below!**"
   ]
  },
  {
   "cell_type": "code",
   "execution_count": 42,
   "metadata": {
    "collapsed": false
   },
   "outputs": [],
   "source": [
    "%magic"
   ]
  },
  {
   "cell_type": "markdown",
   "metadata": {},
   "source": [
    "# Optional Exercises -- Missing POIs\n",
    "As you saw a little while ago, not every POI has an entry in the dataset (e.g. Michael Krautz). That’s because the dataset was created using the financial data you can find in `../final_project/enron61702insiderpay.pdf`, which is missing some POI’s (those absences propagated through to the final dataset). On the other hand, for many of these “missing” POI’s, we do have emails.\n",
    "\n",
    "While it would be straightforward to add these POI’s and their email information to the E+F dataset, and just put “NaN” for their financial information, this could introduce a subtle problem. You will walk through that here.\n",
    "\n",
    "Again, you can check your solutions to each of these exercises by entering your answer in the corresponding Quiz in the \"Datasets and Questions\" lesson. I put the corresponding quizzes in parenthesis after each exercise, so you know where to go to check your answers.\n",
    "\n",
    "## Question 1\n",
    "How many people in the E+F dataset (as it currently exists) have “NaN” for their total payments? What percentage of people in the dataset as a whole is this? (Quiz: Missing POIs 1 (Optional))"
   ]
  },
  {
   "cell_type": "code",
   "execution_count": 46,
   "metadata": {
    "collapsed": false
   },
   "outputs": [
    {
     "data": {
      "text/html": [
       "<div>\n",
       "<table border=\"1\" class=\"dataframe\">\n",
       "  <thead>\n",
       "    <tr style=\"text-align: right;\">\n",
       "      <th></th>\n",
       "      <th>bonus</th>\n",
       "      <th>deferral_payments</th>\n",
       "      <th>deferred_income</th>\n",
       "      <th>director_fees</th>\n",
       "      <th>email_address</th>\n",
       "      <th>exercised_stock_options</th>\n",
       "      <th>expenses</th>\n",
       "      <th>from_messages</th>\n",
       "      <th>from_poi_to_this_person</th>\n",
       "      <th>from_this_person_to_poi</th>\n",
       "      <th>...</th>\n",
       "      <th>long_term_incentive</th>\n",
       "      <th>other</th>\n",
       "      <th>poi</th>\n",
       "      <th>restricted_stock</th>\n",
       "      <th>restricted_stock_deferred</th>\n",
       "      <th>salary</th>\n",
       "      <th>shared_receipt_with_poi</th>\n",
       "      <th>to_messages</th>\n",
       "      <th>total_payments</th>\n",
       "      <th>total_stock_value</th>\n",
       "    </tr>\n",
       "  </thead>\n",
       "  <tbody>\n",
       "    <tr>\n",
       "      <th>ALLEN PHILLIP K</th>\n",
       "      <td>4175000</td>\n",
       "      <td>2869717</td>\n",
       "      <td>-3081055</td>\n",
       "      <td>NaN</td>\n",
       "      <td>phillip.allen@enron.com</td>\n",
       "      <td>1729541</td>\n",
       "      <td>13868</td>\n",
       "      <td>2195</td>\n",
       "      <td>47</td>\n",
       "      <td>65</td>\n",
       "      <td>...</td>\n",
       "      <td>304805</td>\n",
       "      <td>152</td>\n",
       "      <td>False</td>\n",
       "      <td>126027</td>\n",
       "      <td>-126027</td>\n",
       "      <td>201955</td>\n",
       "      <td>1407</td>\n",
       "      <td>2902</td>\n",
       "      <td>4484442</td>\n",
       "      <td>1729541</td>\n",
       "    </tr>\n",
       "    <tr>\n",
       "      <th>BADUM JAMES P</th>\n",
       "      <td>NaN</td>\n",
       "      <td>178980</td>\n",
       "      <td>NaN</td>\n",
       "      <td>NaN</td>\n",
       "      <td>NaN</td>\n",
       "      <td>257817</td>\n",
       "      <td>3486</td>\n",
       "      <td>NaN</td>\n",
       "      <td>NaN</td>\n",
       "      <td>NaN</td>\n",
       "      <td>...</td>\n",
       "      <td>NaN</td>\n",
       "      <td>NaN</td>\n",
       "      <td>False</td>\n",
       "      <td>NaN</td>\n",
       "      <td>NaN</td>\n",
       "      <td>NaN</td>\n",
       "      <td>NaN</td>\n",
       "      <td>NaN</td>\n",
       "      <td>182466</td>\n",
       "      <td>257817</td>\n",
       "    </tr>\n",
       "    <tr>\n",
       "      <th>...</th>\n",
       "      <td>...</td>\n",
       "      <td>...</td>\n",
       "      <td>...</td>\n",
       "      <td>...</td>\n",
       "      <td>...</td>\n",
       "      <td>...</td>\n",
       "      <td>...</td>\n",
       "      <td>...</td>\n",
       "      <td>...</td>\n",
       "      <td>...</td>\n",
       "      <td>...</td>\n",
       "      <td>...</td>\n",
       "      <td>...</td>\n",
       "      <td>...</td>\n",
       "      <td>...</td>\n",
       "      <td>...</td>\n",
       "      <td>...</td>\n",
       "      <td>...</td>\n",
       "      <td>...</td>\n",
       "      <td>...</td>\n",
       "      <td>...</td>\n",
       "    </tr>\n",
       "    <tr>\n",
       "      <th>YEAGER F SCOTT</th>\n",
       "      <td>NaN</td>\n",
       "      <td>NaN</td>\n",
       "      <td>NaN</td>\n",
       "      <td>NaN</td>\n",
       "      <td>scott.yeager@enron.com</td>\n",
       "      <td>8308552</td>\n",
       "      <td>53947</td>\n",
       "      <td>NaN</td>\n",
       "      <td>NaN</td>\n",
       "      <td>NaN</td>\n",
       "      <td>...</td>\n",
       "      <td>NaN</td>\n",
       "      <td>147950</td>\n",
       "      <td>True</td>\n",
       "      <td>3576206</td>\n",
       "      <td>NaN</td>\n",
       "      <td>158403</td>\n",
       "      <td>NaN</td>\n",
       "      <td>NaN</td>\n",
       "      <td>360300</td>\n",
       "      <td>11884758</td>\n",
       "    </tr>\n",
       "    <tr>\n",
       "      <th>YEAP SOON</th>\n",
       "      <td>NaN</td>\n",
       "      <td>NaN</td>\n",
       "      <td>NaN</td>\n",
       "      <td>NaN</td>\n",
       "      <td>NaN</td>\n",
       "      <td>192758</td>\n",
       "      <td>55097</td>\n",
       "      <td>NaN</td>\n",
       "      <td>NaN</td>\n",
       "      <td>NaN</td>\n",
       "      <td>...</td>\n",
       "      <td>NaN</td>\n",
       "      <td>NaN</td>\n",
       "      <td>False</td>\n",
       "      <td>NaN</td>\n",
       "      <td>NaN</td>\n",
       "      <td>NaN</td>\n",
       "      <td>NaN</td>\n",
       "      <td>NaN</td>\n",
       "      <td>55097</td>\n",
       "      <td>192758</td>\n",
       "    </tr>\n",
       "  </tbody>\n",
       "</table>\n",
       "<p>146 rows × 21 columns</p>\n",
       "</div>"
      ],
      "text/plain": [
       "                   bonus deferral_payments deferred_income director_fees  \\\n",
       "ALLEN PHILLIP K  4175000           2869717        -3081055           NaN   \n",
       "BADUM JAMES P        NaN            178980             NaN           NaN   \n",
       "...                  ...               ...             ...           ...   \n",
       "YEAGER F SCOTT       NaN               NaN             NaN           NaN   \n",
       "YEAP SOON            NaN               NaN             NaN           NaN   \n",
       "\n",
       "                           email_address exercised_stock_options expenses  \\\n",
       "ALLEN PHILLIP K  phillip.allen@enron.com                 1729541    13868   \n",
       "BADUM JAMES P                        NaN                  257817     3486   \n",
       "...                                  ...                     ...      ...   \n",
       "YEAGER F SCOTT    scott.yeager@enron.com                 8308552    53947   \n",
       "YEAP SOON                            NaN                  192758    55097   \n",
       "\n",
       "                from_messages from_poi_to_this_person from_this_person_to_poi  \\\n",
       "ALLEN PHILLIP K          2195                      47                      65   \n",
       "BADUM JAMES P             NaN                     NaN                     NaN   \n",
       "...                       ...                     ...                     ...   \n",
       "YEAGER F SCOTT            NaN                     NaN                     NaN   \n",
       "YEAP SOON                 NaN                     NaN                     NaN   \n",
       "\n",
       "                       ...        long_term_incentive   other    poi  \\\n",
       "ALLEN PHILLIP K        ...                     304805     152  False   \n",
       "BADUM JAMES P          ...                        NaN     NaN  False   \n",
       "...                    ...                        ...     ...    ...   \n",
       "YEAGER F SCOTT         ...                        NaN  147950   True   \n",
       "YEAP SOON              ...                        NaN     NaN  False   \n",
       "\n",
       "                restricted_stock restricted_stock_deferred  salary  \\\n",
       "ALLEN PHILLIP K           126027                   -126027  201955   \n",
       "BADUM JAMES P                NaN                       NaN     NaN   \n",
       "...                          ...                       ...     ...   \n",
       "YEAGER F SCOTT           3576206                       NaN  158403   \n",
       "YEAP SOON                    NaN                       NaN     NaN   \n",
       "\n",
       "                shared_receipt_with_poi to_messages total_payments  \\\n",
       "ALLEN PHILLIP K                    1407        2902        4484442   \n",
       "BADUM JAMES P                       NaN         NaN         182466   \n",
       "...                                 ...         ...            ...   \n",
       "YEAGER F SCOTT                      NaN         NaN         360300   \n",
       "YEAP SOON                           NaN         NaN          55097   \n",
       "\n",
       "                total_stock_value  \n",
       "ALLEN PHILLIP K           1729541  \n",
       "BADUM JAMES P              257817  \n",
       "...                           ...  \n",
       "YEAGER F SCOTT           11884758  \n",
       "YEAP SOON                  192758  \n",
       "\n",
       "[146 rows x 21 columns]"
      ]
     },
     "metadata": {},
     "output_type": "display_data"
    }
   ],
   "source": [
    "display(enron_df)\n"
   ]
  },
  {
   "cell_type": "markdown",
   "metadata": {},
   "source": [
    "## Question 2\n",
    "How many POIs in the E+F dataset have “NaN” for their total payments? What percentage of POI’s as a whole is this? (Quiz: Missing POIs 2 (Optional))"
   ]
  },
  {
   "cell_type": "code",
   "execution_count": null,
   "metadata": {
    "collapsed": false
   },
   "outputs": [],
   "source": []
  },
  {
   "cell_type": "markdown",
   "metadata": {},
   "source": [
    "## Question 3\n",
    "\n",
    "If a machine learning algorithm were to use total_payments as a feature, would you expect it to associate a “NaN” value with POIs or non-POIs? (Quiz: Missing POIs 3 (Optional))\n",
    "\n"
   ]
  },
  {
   "cell_type": "markdown",
   "metadata": {},
   "source": [
    "## Question 4\n",
    "\n",
    "If you added in, say, 10 more data points which were all POI’s, and put “NaN” for the total payments for those folks, the numbers you just calculated would change.\n",
    "\n",
    "What is the new number of people of the dataset? What is the new number of folks with “NaN” for total payments? (Quiz: Missing POIs 4 (Optional))"
   ]
  },
  {
   "cell_type": "code",
   "execution_count": null,
   "metadata": {
    "collapsed": false
   },
   "outputs": [],
   "source": []
  },
  {
   "cell_type": "markdown",
   "metadata": {},
   "source": [
    "## Question 5\n",
    "\n",
    "What is the new number of POI’s in the dataset? What is the new number of POI’s with NaN for total_payments? (Quiz: Missing POIs 5 (Optional))"
   ]
  },
  {
   "cell_type": "code",
   "execution_count": null,
   "metadata": {
    "collapsed": false
   },
   "outputs": [],
   "source": []
  },
  {
   "cell_type": "markdown",
   "metadata": {},
   "source": [
    "## Question 6\n",
    "\n",
    "Once the new data points are added, do you think a supervised classification algorithm might interpret “NaN” for total_payments as a clue that someone is a POI? (Quiz: Missing POIs 6 (Optional))\n",
    "\n"
   ]
  }
 ],
 "metadata": {
  "kernelspec": {
   "display_name": "Python 2",
   "language": "python",
   "name": "python2"
  },
  "language_info": {
   "codemirror_mode": {
    "name": "ipython",
    "version": 2
   },
   "file_extension": ".py",
   "mimetype": "text/x-python",
   "name": "python",
   "nbconvert_exporter": "python",
   "pygments_lexer": "ipython2",
   "version": "2.7.13"
  }
 },
 "nbformat": 4,
 "nbformat_minor": 0
}
